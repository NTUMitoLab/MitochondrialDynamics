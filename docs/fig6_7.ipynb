{
 "cells": [
  {
   "cell_type": "markdown",
   "id": "b33a8e1d-f2db-4c78-b4f2-25908c0720aa",
   "metadata": {},
   "source": [
    "# Figure 6 and 7"
   ]
  },
  {
   "cell_type": "code",
   "execution_count": null,
   "id": "0c16753e-2ba8-47f2-a2d8-e37ade895535",
   "metadata": {
    "execution": {
     "iopub.execute_input": "2022-10-03T19:08:44.824000Z",
     "iopub.status.busy": "2022-10-03T19:08:44.270000Z",
     "iopub.status.idle": "2022-10-03T19:09:15.568000Z",
     "shell.execute_reply": "2022-10-03T19:09:15.543000Z"
    }
   },
   "outputs": [],
   "source": [
    "using DifferentialEquations\n",
    "using ModelingToolkit\n",
    "using MitochondrialDynamics\n",
    "using MitochondrialDynamics: GlcConst, VmaxPDH, pHleak, VmaxF1, VmaxETC, J_ANT, J_HL\n",
    "using MitochondrialDynamics: G3P, Pyr, NADH_c, NADH_m, Ca_c, Ca_m, ΔΨm, ATP_c, ADP_c, degavg\n",
    "using MitochondrialDynamics.Utils: second, μM, mV, mM, Hz, minute\n",
    "import PyPlot as plt\n",
    "rcParams = plt.PyDict(plt.matplotlib.\"rcParams\")\n",
    "rcParams[\"font.size\"] = 14\n",
    "# rcParams[\"font.sans-serif\"] = \"Arial\"\n",
    "# rcParams[\"font.family\"] = \"sans-serif\""
   ]
  },
  {
   "cell_type": "code",
   "execution_count": null,
   "id": "b794b413-43a4-45d9-9540-058539e29df8",
   "metadata": {
    "execution": {
     "iopub.execute_input": "2022-10-03T19:09:16.351000Z",
     "iopub.status.busy": "2022-10-03T19:09:15.579000Z",
     "iopub.status.idle": "2022-10-03T19:11:14.731000Z",
     "shell.execute_reply": "2022-10-03T19:11:14.731000Z"
    }
   },
   "outputs": [],
   "source": [
    "glc = range(3.0mM, 30.0mM, length=301)\n",
    "tend = 50minute\n",
    "@named sys = make_model()\n",
    "prob = SteadyStateProblem(sys, [])"
   ]
  },
  {
   "cell_type": "markdown",
   "id": "7d8dca30",
   "metadata": {},
   "source": [
    "## Figure 6"
   ]
  },
  {
   "cell_type": "code",
   "execution_count": null,
   "id": "dd7f0cea-c95b-47fc-b888-01c3275b3223",
   "metadata": {
    "execution": {
     "iopub.execute_input": "2022-10-03T19:11:14.734000Z",
     "iopub.status.busy": "2022-10-03T19:11:14.734000Z",
     "iopub.status.idle": "2022-10-03T19:11:15.112000Z",
     "shell.execute_reply": "2022-10-03T19:11:15.112000Z"
    }
   },
   "outputs": [],
   "source": [
    "pidx = Dict(k => i for (i, k) in enumerate(parameters(sys)))\n",
    "idxGlc = pidx[GlcConst]\n",
    "idxVmaxPDH = pidx[VmaxPDH]\n",
    "idxpHleak = pidx[pHleak]\n",
    "idxVmaxF1 = pidx[VmaxF1]\n",
    "idxVmaxETC = pidx[VmaxETC]\n",
    "\n",
    "function make_dm_prob(prob; rPDH=0.5, rETC=0.75, rHL=1.4, rF1=0.5)\n",
    "    p = copy(prob.p)\n",
    "    p[idxVmaxPDH] *= rPDH\n",
    "    p[idxpHleak] *= rHL\n",
    "    p[idxVmaxF1] *= rF1\n",
    "    p[idxVmaxETC] *= rETC\n",
    "    return remake(prob, p=p)\n",
    "end\n",
    "\n",
    "function make_rotenone_prob(prob; rETC=0.1)\n",
    "    p = copy(prob.p)\n",
    "    p[idxVmaxETC] *= rETC\n",
    "    return remake(prob, p=p)\n",
    "end\n",
    "\n",
    "function make_oligomycin_prob(prob; rF1=0.1)\n",
    "    p = copy(prob.p)\n",
    "    p[idxVmaxF1] *= rF1\n",
    "    return remake(prob, p=p)\n",
    "end\n",
    "\n",
    "function make_fccp_prob(prob; rHL=5)\n",
    "    p = copy(prob.p)\n",
    "    p[idxpHleak] *= rHL\n",
    "    return remake(prob, p=p)\n",
    "end\n",
    "\n",
    "function remake_glc(prob, g)\n",
    "    p = copy(prob.p)\n",
    "    p[idxGlc] = g\n",
    "    remake(prob; p=p)\n",
    "end"
   ]
  },
  {
   "cell_type": "code",
   "execution_count": null,
   "id": "ce9cb592",
   "metadata": {
    "execution": {
     "iopub.execute_input": "2022-10-03T19:11:15.115000Z",
     "iopub.status.busy": "2022-10-03T19:11:15.114000Z",
     "iopub.status.idle": "2022-10-03T19:11:24.653000Z",
     "shell.execute_reply": "2022-10-03T19:11:24.652000Z"
    }
   },
   "outputs": [],
   "source": [
    "prob_dm = make_dm_prob(prob)\n",
    "\n",
    "sols = map(glc) do g\n",
    "    solve(remake_glc(prob, g), DynamicSS(Rodas5()))\n",
    "end\n",
    "\n",
    "solsDM = map(glc) do g\n",
    "    solve(remake_glc(prob_dm, g), DynamicSS(Rodas5()))\n",
    "end"
   ]
  },
  {
   "cell_type": "code",
   "execution_count": null,
   "id": "9419e355",
   "metadata": {
    "execution": {
     "iopub.execute_input": "2022-10-03T19:11:24.655000Z",
     "iopub.status.busy": "2022-10-03T19:11:24.655000Z",
     "iopub.status.idle": "2022-10-03T19:11:24.763000Z",
     "shell.execute_reply": "2022-10-03T19:11:24.763000Z"
    }
   },
   "outputs": [],
   "source": [
    "function plot_fig6(sols, solsDM, glc; figsize=(12, 12), tight=true)\n",
    "    glc5 = glc ./ 5\n",
    "    td = getindex.(sols, ATP_c) ./ getindex.(sols, ADP_c)\n",
    "    tdDM = getindex.(solsDM, ATP_c) ./ getindex.(solsDM, ADP_c)\n",
    "\n",
    "    fig, ax = plt.subplots(3, 3; figsize)\n",
    "\n",
    "    ax[1, 1].plot(glc5, getindex.(sols, G3P) .* 1000, label=\"Baseline\")\n",
    "    ax[1, 1].plot(glc5, getindex.(solsDM, G3P) .* 1000, label=\"Diabetic\")\n",
    "    ax[1, 1].set_title(\"(A) G3P\", loc=\"left\")\n",
    "    ax[1, 1].set(ylabel=\"Conc. (μM)\")\n",
    "\n",
    "    ax[1, 2].plot(glc5, getindex.(sols, Pyr) .* 1000, label=\"Baseline\")\n",
    "    ax[1, 2].plot(glc5, getindex.(solsDM, Pyr) .* 1000, label=\"Diabetic\")\n",
    "    ax[1, 2].set_title(\"(B) Pyr\", loc=\"left\")\n",
    "    ax[1, 2].set(ylabel=\"Conc. (μM)\")\n",
    "\n",
    "    ax[1, 3].plot(glc5, getindex.(sols, NADH_c) .* 1000, label=\"Baseline\")\n",
    "    ax[1, 3].plot(glc5, getindex.(solsDM, NADH_c) .* 1000, label=\"Diabetic\")\n",
    "    ax[1, 3].set_title(\"(C) NADH (cyto)\", loc=\"left\")\n",
    "    ax[1, 3].set(ylabel=\"Conc. (μM)\")\n",
    "\n",
    "    ax[2, 1].plot(glc5, getindex.(sols, NADH_m) .* 1000, label=\"Baseline\")\n",
    "    ax[2, 1].plot(glc5, getindex.(solsDM, NADH_m) .* 1000, label=\"Diabetic\")\n",
    "    ax[2, 1].set_title(\"(D) NADH (mito)\", loc=\"left\")\n",
    "    ax[2, 1].set(ylabel=\"Conc. (μM)\")\n",
    "\n",
    "    ax[2, 2].plot(glc5, getindex.(sols, Ca_c) .* 1000, label=\"Baseline\")\n",
    "    ax[2, 2].plot(glc5, getindex.(solsDM, Ca_c) .* 1000, label=\"Diabetic\")\n",
    "    ax[2, 2].set_title(\"(E) Calcium (cyto)\", loc=\"left\")\n",
    "    ax[2, 2].set(ylabel=\"Conc. (μM)\")\n",
    "\n",
    "    ax[2, 3].plot(glc5, getindex.(sols, Ca_m) .* 1000, label=\"Baseline\")\n",
    "    ax[2, 3].plot(glc5, getindex.(solsDM, Ca_m) .* 1000, label=\"Diabetic\")\n",
    "    ax[2, 3].set_title(\"(F) Calcium (mito)\", loc=\"left\")\n",
    "    ax[2, 3].set(ylabel=\"Conc. (μM)\")\n",
    "\n",
    "    ax[3, 1].plot(glc5, getindex.(sols, ΔΨm) .* 1000, label=\"Baseline\")\n",
    "    ax[3, 1].plot(glc5, getindex.(solsDM, ΔΨm) .* 1000, label=\"Diabetic\")\n",
    "    ax[3, 1].set_title(\"(G) ΔΨ\", loc=\"left\")\n",
    "    ax[3, 1].set(xlabel=\"Glucose (X)\", ylabel=\"mV\")\n",
    "\n",
    "    ax[3, 2].plot(glc5, td, label=\"Baseline\")\n",
    "    ax[3, 2].plot(glc5, tdDM, label=\"Diabetic\")\n",
    "    ax[3, 2].set_title(\"(H) ATP:ADP\", loc=\"left\")\n",
    "    ax[3, 2].set(xlabel=\"Glucose (X)\")\n",
    "\n",
    "    ax[3, 3].plot(glc5, getindex.(sols, degavg), label=\"Baseline\")\n",
    "    ax[3, 3].plot(glc5, getindex.(solsDM, degavg), label=\"Diabetic\")\n",
    "    ax[3, 3].set_title(\"(I) Average node degree\", loc=\"left\")\n",
    "    ax[3, 3].set(xlabel=\"Glucose (X)\")\n",
    "\n",
    "    fig.set_tight_layout(tight)\n",
    "    return fig\n",
    "end"
   ]
  },
  {
   "cell_type": "code",
   "execution_count": null,
   "id": "9a557ae6",
   "metadata": {
    "execution": {
     "iopub.execute_input": "2022-10-03T19:11:24.766000Z",
     "iopub.status.busy": "2022-10-03T19:11:24.765000Z",
     "iopub.status.idle": "2022-10-03T19:11:35.950000Z",
     "shell.execute_reply": "2022-10-03T19:11:35.950000Z"
    }
   },
   "outputs": [],
   "source": [
    "fig6 = plot_fig6(sols, solsDM, glc);"
   ]
  },
  {
   "cell_type": "code",
   "execution_count": null,
   "id": "33050535-221d-461e-a0fa-b4c651715913",
   "metadata": {
    "execution": {
     "iopub.execute_input": "2022-10-03T19:11:35.952000Z",
     "iopub.status.busy": "2022-10-03T19:11:35.952000Z",
     "iopub.status.idle": "2022-10-03T19:11:35.975000Z",
     "shell.execute_reply": "2022-10-03T19:11:35.975000Z"
    }
   },
   "outputs": [],
   "source": [
    "# Uncomment if pdf file is required\n",
    "# fig6.savefig(\"Fig6.tif\", dpi=300, format=\"tiff\", pil_kwargs=Dict(\"compression\" => \"tiff_lzw\"))"
   ]
  },
  {
   "cell_type": "markdown",
   "id": "51302e50",
   "metadata": {},
   "source": [
    "## Figure 7"
   ]
  },
  {
   "cell_type": "code",
   "execution_count": null,
   "id": "c2731674",
   "metadata": {
    "execution": {
     "iopub.execute_input": "2022-10-03T19:11:35.977000Z",
     "iopub.status.busy": "2022-10-03T19:11:35.977000Z",
     "iopub.status.idle": "2022-10-03T19:11:37.125000Z",
     "shell.execute_reply": "2022-10-03T19:11:37.125000Z"
    }
   },
   "outputs": [],
   "source": [
    "prob_fccp = make_fccp_prob(prob)\n",
    "prob_rotenone = make_rotenone_prob(prob)\n",
    "prob_oligomycin = make_oligomycin_prob(prob)\n",
    "\n",
    "solsFCCP = map(glc) do g\n",
    "    solve(remake_glc(prob_fccp, g), DynamicSS(Rodas5()))\n",
    "end\n",
    "\n",
    "solsRot = map(glc) do g\n",
    "    solve(remake_glc(prob_rotenone, g), DynamicSS(Rodas5()))\n",
    "end\n",
    "\n",
    "solsOligo = map(glc) do g\n",
    "    solve(remake_glc(prob_oligomycin, g), DynamicSS(Rodas5()))\n",
    "end"
   ]
  },
  {
   "cell_type": "code",
   "execution_count": null,
   "id": "7bedfe83",
   "metadata": {
    "execution": {
     "iopub.execute_input": "2022-10-03T19:11:37.188000Z",
     "iopub.status.busy": "2022-10-03T19:11:37.188000Z",
     "iopub.status.idle": "2022-10-03T19:11:37.288000Z",
     "shell.execute_reply": "2022-10-03T19:11:37.288000Z"
    }
   },
   "outputs": [],
   "source": [
    "function plot_fig7(sols, solsDM, solsFCCP, solsRot, solsOligo, glc;\n",
    "    figsize=(12, 6), tight=true\n",
    ")\n",
    "    # Gather ATP synthesis rate (fusion) and proton leak rate (fission)\n",
    "    jHL_baseline = getindex.(sols, J_HL)\n",
    "    jANT_baseline = getindex.(sols, J_ANT)\n",
    "    ff_baseline = jANT_baseline ./ jHL_baseline\n",
    "    jHL_dm = getindex.(solsDM, J_HL)\n",
    "    jANT_dm = getindex.(solsDM, J_ANT)\n",
    "    ff_dm = jANT_dm ./ jHL_dm\n",
    "    jHL_fccp = getindex.(solsFCCP, J_HL)\n",
    "    jANT_fccp = getindex.(solsFCCP, J_ANT)\n",
    "    ff_fccp = jANT_fccp ./ jHL_fccp\n",
    "    jHL_rot = getindex.(solsRot, J_HL)\n",
    "    jANT_rot = getindex.(solsRot, J_ANT)\n",
    "    ff_rot = jANT_rot ./ jHL_rot\n",
    "    jHL_oligo = getindex.(solsOligo, J_HL)\n",
    "    jANT_oligo = getindex.(solsOligo, J_ANT)\n",
    "    ff_oligo = jANT_oligo ./ jHL_oligo\n",
    "\n",
    "    glc5 = glc ./ 5\n",
    "\n",
    "    fig, ax = plt.subplots(1, 2; figsize)\n",
    "\n",
    "    ax[1].plot(glc5, ff_baseline, \"b-\", label=\"Baseline\")\n",
    "    ax[1].plot(glc5, ff_dm, \"r--\", label=\"Diabetic\")\n",
    "    ax[1].plot(glc5, ff_rot, \"g--\", label=\"Rotenone\")\n",
    "    ax[1].plot(glc5, ff_oligo, \"c--\", label=\"Oligomycin\")\n",
    "    ax[1].plot(glc5, ff_fccp, \"k--\", label=\"Uncoupler\")\n",
    "    ax[1].set(xlabel=\"Glucose (X)\", ylabel=\"Fusion rate / Fission rate\", xlim=(0.0, 6.0), ylim=(0.0, 2.5))\n",
    "    ax[1].set_title(\"(A)\", loc=\"left\")\n",
    "    ax[1].legend()\n",
    "\n",
    "    ax[2].plot(jHL_baseline, jANT_baseline, \"bo-\", label=\"Baseline\")\n",
    "    ax[2].plot(jHL_dm, jANT_dm, \"ro-\", label=\"Diabetic\")\n",
    "    ax[2].plot(jHL_rot, jANT_rot, \"go-\", label=\"Rotenone\")\n",
    "    ax[2].plot(jHL_oligo, jANT_oligo, \"co-\", label=\"Oligomycin\")\n",
    "    ax[2].plot(jHL_fccp, jANT_fccp, \"ko-\", label=\"Uncoupler\")\n",
    "    ax[2].set(xlabel=\"Proton leak rate (mM/s)\", ylabel=\"ATP synthase rate (mM/s)\", xlim=(0.0, 0.45), ylim=(0.0, 0.15))\n",
    "    ax[2].set_title(\"(B)\", loc=\"left\")\n",
    "    ax[2].legend()\n",
    "\n",
    "    fig.set_tight_layout(tight)\n",
    "    return fig\n",
    "end"
   ]
  },
  {
   "cell_type": "code",
   "execution_count": null,
   "id": "a6a6e81e",
   "metadata": {
    "execution": {
     "iopub.execute_input": "2022-10-03T19:11:37.291000Z",
     "iopub.status.busy": "2022-10-03T19:11:37.291000Z",
     "iopub.status.idle": "2022-10-03T19:11:39.420000Z",
     "shell.execute_reply": "2022-10-03T19:11:39.420000Z"
    }
   },
   "outputs": [],
   "source": [
    "fig7 = plot_fig7(sols, solsDM, solsFCCP, solsRot, solsOligo, glc);"
   ]
  },
  {
   "cell_type": "code",
   "execution_count": null,
   "id": "fdcd5bc3",
   "metadata": {
    "execution": {
     "iopub.execute_input": "2022-10-03T19:11:39.423000Z",
     "iopub.status.busy": "2022-10-03T19:11:39.423000Z",
     "iopub.status.idle": "2022-10-03T19:11:39.446000Z",
     "shell.execute_reply": "2022-10-03T19:11:39.446000Z"
    }
   },
   "outputs": [],
   "source": [
    "# Uncomment if pdf file is required\n",
    "# fig7.savefig(\"Fig7.tif\", dpi=300, format=\"tiff\", pil_kwargs=Dict(\"compression\" => \"tiff_lzw\"))"
   ]
  }
 ],
 "metadata": {
  "kernelspec": {
   "display_name": "Julia 1.8.0-rc3",
   "language": "julia",
   "name": "julia-1.8"
  },
  "language_info": {
   "file_extension": ".jl",
   "mimetype": "application/julia",
   "name": "julia",
   "version": "1.8.2"
  }
 },
 "nbformat": 4,
 "nbformat_minor": 5
}
