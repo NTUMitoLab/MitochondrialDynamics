{
 "cells": [
  {
   "cell_type": "markdown",
   "id": "6a2385e8-96d9-4683-ade2-3cf50cb3ac6a",
   "metadata": {},
   "source": [
    "# Glucose stimulation and Mitochondrial dynamics"
   ]
  },
  {
   "cell_type": "markdown",
   "id": "07734f67",
   "metadata": {},
   "source": [
    "## Runtime environment"
   ]
  },
  {
   "cell_type": "code",
   "execution_count": 1,
   "id": "345e0bd6-cfe1-42fc-8361-2fb977d8d0b3",
   "metadata": {
    "execution": {
     "iopub.execute_input": "2022-02-13T05:09:46.856639Z",
     "iopub.status.busy": "2022-02-13T05:09:46.197845Z",
     "iopub.status.idle": "2022-02-13T05:09:49.589987Z",
     "shell.execute_reply": "2022-02-13T05:09:49.588763Z"
    }
   },
   "outputs": [
    {
     "name": "stdout",
     "output_type": "stream",
     "text": [
      "\u001b[36m\u001b[1m     Project\u001b[22m\u001b[39m MitochondrialDynamics v0.2.0\n",
      "\u001b[32m\u001b[1m      Status\u001b[22m\u001b[39m `/builds/NTUMito/MitochondrialDynamics/Project.toml`\n",
      " \u001b[90m [336ed68f] \u001b[39mCSV v0.10.2\n",
      " \u001b[90m [a93c6f00] \u001b[39mDataFrames v1.3.2\n",
      " \u001b[90m [0c46a032] \u001b[39mDifferentialEquations v7.1.0\n",
      " \u001b[90m [7073ff75] \u001b[39mIJulia v1.23.2\n",
      " \u001b[90m [2ee39098] \u001b[39mLabelledArrays v1.7.1\n",
      " \u001b[90m [d96e819e] \u001b[39mParameters v0.12.3\n",
      " \u001b[90m [d330b81b] \u001b[39mPyPlot v2.10.0\n",
      " \u001b[90m [efcf1570] \u001b[39mSetfield v0.8.1\n"
     ]
    }
   ],
   "source": [
    "using Pkg\n",
    "Pkg.status()"
   ]
  }
 ],
 "metadata": {
  "kernelspec": {
   "display_name": "Julia 1.7.0",
   "language": "julia",
   "name": "julia-1.7"
  },
  "language_info": {
   "file_extension": ".jl",
   "mimetype": "application/julia",
   "name": "julia",
   "version": "1.7.2"
  }
 },
 "nbformat": 4,
 "nbformat_minor": 5
}
