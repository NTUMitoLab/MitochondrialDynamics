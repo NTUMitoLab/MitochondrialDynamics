{
 "cells": [
  {
   "cell_type": "markdown",
   "id": "6a2385e8-96d9-4683-ade2-3cf50cb3ac6a",
   "metadata": {},
   "source": [
    "# Glucose stimulation and Mitochondrial dynamics"
   ]
  },
  {
   "cell_type": "markdown",
   "id": "07734f67",
   "metadata": {},
   "source": [
    "## Runtime environment"
   ]
  },
  {
   "cell_type": "code",
   "execution_count": null,
   "id": "345e0bd6-cfe1-42fc-8361-2fb977d8d0b3",
   "metadata": {
    "execution": {
     "iopub.execute_input": "2022-02-28T09:45:12.342000Z",
     "iopub.status.busy": "2022-02-28T09:45:11.596000Z",
     "iopub.status.idle": "2022-02-28T09:45:15.297000Z",
     "shell.execute_reply": "2022-02-28T09:45:15.194000Z"
    }
   },
   "outputs": [],
   "source": [
    "using Pkg\n",
    "Pkg.status()"
   ]
  }
 ],
 "metadata": {
  "kernelspec": {
   "display_name": "Julia 1.7.2",
   "language": "julia",
   "name": "julia-1.7"
  },
  "language_info": {
   "file_extension": ".jl",
   "mimetype": "application/julia",
   "name": "julia",
   "version": "1.7.2"
  }
 },
 "nbformat": 4,
 "nbformat_minor": 5
}
