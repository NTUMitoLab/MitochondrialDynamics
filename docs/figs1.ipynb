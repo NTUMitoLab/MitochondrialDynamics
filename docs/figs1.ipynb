{
 "cells": [
  {
   "cell_type": "markdown",
   "id": "93808e79-d6a2-45f5-84c0-33b4f1b7542f",
   "metadata": {},
   "source": [
    "# Figure S1\n",
    "\n",
    "Supplementary figure 1: Response to elevated glucose concentrations in steps."
   ]
  },
  {
   "cell_type": "code",
   "execution_count": null,
   "id": "3de58f34-29c2-4df1-b4bc-54bf081430c2",
   "metadata": {
    "execution": {
     "iopub.execute_input": "2022-02-28T09:45:12.309000Z",
     "iopub.status.busy": "2022-02-28T09:45:11.571000Z",
     "iopub.status.idle": "2022-02-28T09:45:36.092000Z",
     "shell.execute_reply": "2022-02-28T09:45:36.049000Z"
    }
   },
   "outputs": [],
   "source": [
    "using DifferentialEquations\n",
    "using ModelingToolkit\n",
    "using MitochondrialDynamics\n",
    "using MitochondrialDynamics: t, Glc, G3P, Pyr, NADH_c, NADH_m, Ca_c, Ca_m, ΔΨm, ATP_c, ADP_c, AMP_c, degavg, x\n",
    "using MitochondrialDynamics.Utils: second, μM, mV, mM, Hz\n",
    "\n",
    "import PyPlot as plt\n",
    "rcParams = plt.PyDict(plt.matplotlib.\"rcParams\")\n",
    "rcParams[\"font.size\"] = 14"
   ]
  },
  {
   "cell_type": "code",
   "execution_count": null,
   "id": "73e430d4",
   "metadata": {},
   "outputs": [],
   "source": [
    "function glc_step(t)\n",
    "    return 5.0mM * (1 + (t >= 1000.0second) + (t >= 2000.0second))\n",
    "end\n",
    "\n",
    "tend = 3000.0second\n",
    "@named sys = make_model(; glcrhs=glc_step(t))\n",
    "prob = ODEProblem(sys, [], tend)\n",
    "sol = solve(prob, tstops=[1000.0second, 2000.0second]);"
   ]
  },
  {
   "cell_type": "code",
   "execution_count": null,
   "id": "77f004ea",
   "metadata": {},
   "outputs": [],
   "source": [
    "function plot_figs1(\n",
    "    sol;\n",
    "    figsize=(10, 10),\n",
    "    tspan=(0.0, 3000.0second),\n",
    "    density::Int=101,\n",
    "    tight=true\n",
    ")\n",
    "    ts = LinRange(tspan[1], tspan[2], density)\n",
    "    g3p = sol.(ts, idxs=G3P) .* 1000\n",
    "    pyr = sol.(ts, idxs=Pyr) .* 1000\n",
    "    nadh_c = sol.(ts, idxs=NADH_c) .* 1000\n",
    "    nadh_m = sol.(ts, idxs=NADH_m) .* 1000\n",
    "    ca_c = sol.(ts, idxs=Ca_c) .* 1000\n",
    "    ca_m = sol.(ts, idxs=Ca_m) .* 1000\n",
    "    atp_c = sol.(ts, idxs=ATP_c) .* 1000\n",
    "    adp_c = sol.(ts, idxs=ADP_c) .* 1000\n",
    "    amp_c = sol.(ts, idxs=AMP_c) .* 1000\n",
    "    dpsi = sol.(ts, idxs=ΔΨm) .* 1000\n",
    "    k = sol.(ts, idxs=degavg)\n",
    "    x1 = sol.(ts, idxs=x[1])\n",
    "    x2 = sol.(ts, idxs=x[2])\n",
    "    x3 = sol.(ts, idxs=x[3])\n",
    "\n",
    "    fig, ax = plt.subplots(3, 3; figsize)\n",
    "\n",
    "    ax[1, 1].plot(ts, g3p)\n",
    "    ax[1, 1].set(title=\"(A) G3P (μM)\", ylim=(0.0, 8.0))\n",
    "\n",
    "    ax[1, 2].plot(ts, pyr)\n",
    "    ax[1, 2].set(title=\"(B) Pyruvate (μM)\", ylim=(0.0, 80.0))\n",
    "\n",
    "    ax[1, 3].plot(ts, ca_c, label=\"cyto\")\n",
    "    ax[1, 3].plot(ts, ca_m, label=\"mito\")\n",
    "    ax[1, 3].set(title=\"(C) Calcium (μM)\")\n",
    "    ax[1, 3].legend()\n",
    "\n",
    "    ax[2, 1].plot(ts, nadh_c, label=\"cyto\")\n",
    "    ax[2, 1].plot(ts, nadh_m, label=\"mito\")\n",
    "    ax[2, 1].set(title=\"(D) NADH (μM)\")\n",
    "    ax[2, 1].legend()\n",
    "\n",
    "    ax[2, 2].plot(ts, atp_c, label=\"ATP\")\n",
    "    ax[2, 2].plot(ts, adp_c, label=\"ADP\")\n",
    "    ax[2, 2].plot(ts, amp_c, label=\"AMP\")\n",
    "    ax[2, 2].set(title=\"(E) Adenylates (μM)\")\n",
    "    ax[2, 2].legend()\n",
    "\n",
    "    ax[2, 3].plot(ts, atp_c ./ adp_c)\n",
    "    ax[2, 3].set(title=\"(F) ATP:ADP\", ylim=(0, 40))\n",
    "\n",
    "    ax[3, 1].plot(ts, dpsi)\n",
    "    ax[3, 1].set(title=\"(G) ΔΨ (mV)\", ylim=(80, 150), xlabel=\"Time (seconds)\")\n",
    "\n",
    "    ax[3, 2].plot(ts, x1, label=\"X1\")\n",
    "    ax[3, 2].plot(ts, x2, label=\"X2\")\n",
    "    ax[3, 2].plot(ts, x3, label=\"X3\")\n",
    "    ax[3, 2].set(title=\"(H) Mitochondrial nodes\", xlabel=\"Time (seconds)\")\n",
    "    ax[3, 2].legend()\n",
    "\n",
    "    ax[3, 3].plot(ts, k)\n",
    "    ax[3, 3].set(title=\"(I) Average Node Degree\", xlabel=\"Time (seconds)\")\n",
    "\n",
    "    for a in ax\n",
    "        a.grid()\n",
    "    end\n",
    "\n",
    "    fig.set_tight_layout(tight)\n",
    "    return fig\n",
    "end"
   ]
  },
  {
   "cell_type": "code",
   "execution_count": null,
   "id": "82f85c0f",
   "metadata": {},
   "outputs": [],
   "source": [
    "figs1 = plot_figs1(sol);"
   ]
  },
  {
   "cell_type": "code",
   "execution_count": null,
   "id": "4a98228f-6ed7-41f5-b654-a4b62a5a6c4e",
   "metadata": {
    "execution": {
     "iopub.execute_input": "2022-02-28T09:46:28.114000Z",
     "iopub.status.busy": "2022-02-28T09:46:28.113000Z",
     "iopub.status.idle": "2022-02-28T09:46:28.117000Z",
     "shell.execute_reply": "2022-02-28T09:46:28.116000Z"
    }
   },
   "outputs": [],
   "source": [
    "# Uncomment if pdf file is required\n",
    "# figs1.savefig(\"FigS1.tif\", dpi=300, format=\"tiff\", pil_kwargs=Dict(\"compression\" => \"tiff_lzw\"))"
   ]
  }
 ],
 "metadata": {
  "kernelspec": {
   "display_name": "Julia 1.7.2",
   "language": "julia",
   "name": "julia-1.7"
  },
  "language_info": {
   "file_extension": ".jl",
   "mimetype": "application/julia",
   "name": "julia",
   "version": "1.7.2"
  }
 },
 "nbformat": 4,
 "nbformat_minor": 5
}
