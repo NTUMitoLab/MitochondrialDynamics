{
 "cells": [
  {
   "cell_type": "markdown",
   "id": "93808e79-d6a2-45f5-84c0-33b4f1b7542f",
   "metadata": {},
   "source": [
    "# Figure S1\n",
    "\n",
    "Supplementary figure 1: Response to elevated glucose concentrations in steps."
   ]
  },
  {
   "cell_type": "code",
   "execution_count": null,
   "id": "3de58f34-29c2-4df1-b4bc-54bf081430c2",
   "metadata": {
    "execution": {
     "iopub.execute_input": "2022-02-28T09:45:12.309000Z",
     "iopub.status.busy": "2022-02-28T09:45:11.571000Z",
     "iopub.status.idle": "2022-02-28T09:45:36.092000Z",
     "shell.execute_reply": "2022-02-28T09:45:36.049000Z"
    }
   },
   "outputs": [],
   "source": [
    "using DifferentialEquations\n",
    "using ModelingToolkit\n",
    "using MitochondrialDynamics\n",
    "using MitochondrialDynamics: t, Glc, G3P, Pyr, NADH_c, NADH_m, Ca_c, Ca_m, ΔΨm, ATP_c, ADP_c, AMP_c, degavg, x\n",
    "using MitochondrialDynamics.Utils: second, μM, mV, mM, Hz\n",
    "\n",
    "using Plots\n",
    "pyplot()\n",
    "Plots.pyrcparams[\"font.size\"] = 14\n",
    "Plots.pyrcparams[\"font.sans-serif\"] = \"Arial\"\n",
    "Plots.pyrcparams[\"font.family\"] = \"sans-serif\""
   ]
  },
  {
   "cell_type": "code",
   "execution_count": null,
   "id": "73e430d4",
   "metadata": {},
   "outputs": [],
   "source": [
    "function glc_step(t)\n",
    "    if t < 1000.0second\n",
    "        g = 5.0mM\n",
    "    elseif 1000.0second <= t < 2000.0second\n",
    "        g = 10.0mM\n",
    "    else\n",
    "        g = 15.0mM\n",
    "    end\n",
    "end\n",
    "\n",
    "@register_symbolic glc_step(t)"
   ]
  },
  {
   "cell_type": "code",
   "execution_count": 3,
   "id": "56cea865",
   "metadata": {},
   "outputs": [],
   "source": [
    "tend = 3000.0second\n",
    "@named sys = make_model(;glcrhs=glc_step(t))\n",
    "prob = ODEProblem(sys, DEFAULT_U0, tend)\n",
    "sol = solve(prob, tstops=[1000.0second, 2000.0second])"
   ]
  },
  {
   "cell_type": "code",
   "execution_count": null,
   "id": "6a6a0c46",
   "metadata": {},
   "outputs": [],
   "source": [
    "ts = LinRange(0.0, tend, 201)\n",
    "g3p = sol(ts, idxs=G3P)\n",
    "pyr = sol(ts, idxs=Pyr)\n",
    "nadh_c = sol(ts, idxs=NADH_c)\n",
    "nadh_m = sol(ts, idxs=NADH_m)\n",
    "ca_c = sol(ts, idxs=Ca_c)\n",
    "ca_m = sol(ts, idxs=Ca_m)\n",
    "atp_c = sol(ts, idxs=ATP_c)\n",
    "adp_c = sol(ts, idxs=ADP_c)\n",
    "amp_c = sol(ts, idxs=AMP_c)\n",
    "dpsi = sol(ts, idxs=ΔΨm)\n",
    "degree = sol(ts, idxs=degavg)\n",
    "x1 = sol(ts, idxs=x[1])\n",
    "x2 = sol(ts, idxs=x[2])\n",
    "x3 = sol(ts, idxs=x[3])"
   ]
  },
  {
   "cell_type": "code",
   "execution_count": null,
   "id": "d5518223",
   "metadata": {},
   "outputs": [],
   "source": [
    "pl1 = plot(g3p.t, g3p.u .* 1000, title=\"(A) G3P (μM)\", ylim=(0.0, 8.0), label=false)\n",
    "pl2 = plot(pyr.t, pyr.u .* 1000, title=\"(B) Pyruvate (μM)\", ylim=(0.0, 50.0), label=false)\n",
    "pl3 = plot(ts, [ca_c.u ca_m.u] .* 1000, title=\"(C) Calcium (μM)\", label=[\"cyto\" \"mito\"], legend=:right)\n",
    "pl4 = plot(ts, [nadh_c.u nadh_m.u] .* 1000, title=\"(D) NADH (μM)\", label=[\"cyto\" \"mito\"])\n",
    "pl5 = plot(ts, [atp_c.u adp_c.u amp_c.u] .* 1000, title=\"(E) Adenylates (μM)\", label=[\"ATP\" \"ADP\" \"AMP\"], legend=:right)\n",
    "pl6 = plot(atp_c.t, atp_c.u ./ adp_c.u, title=\"(F) ATP/ADP ratio\", ylim=(0.0, 40.0), label=false)\n",
    "pl7 = plot(dpsi.t, dpsi.u .* 1000, title=\"(G) ΔΨ (mV)\", ylim=(80, 150), label=false)\n",
    "pl8 = plot(ts, [x1.u x2.u x3.u], title=\"(H) Mitochondrial nodes\", label=[\"X1\" \"X2\" \"X3\"])\n",
    "pl9 = plot(degree.t, degree.u, title=\"(I) Average Node Degree\", xlabel=\"Time (seconds)\", label=false)\n",
    "plot(pl1, pl2, pl3, pl4, pl5, pl6, pl7, pl8, pl9, size = (1000, 1000))"
   ]
  },
  {
   "cell_type": "code",
   "execution_count": null,
   "id": "4a98228f-6ed7-41f5-b654-a4b62a5a6c4e",
   "metadata": {
    "execution": {
     "iopub.execute_input": "2022-02-28T09:46:28.114000Z",
     "iopub.status.busy": "2022-02-28T09:46:28.113000Z",
     "iopub.status.idle": "2022-02-28T09:46:28.117000Z",
     "shell.execute_reply": "2022-02-28T09:46:28.116000Z"
    }
   },
   "outputs": [],
   "source": [
    "# Uncomment to generate pdf\n",
    "# savefig(\"S1_Fig1.pdf\")"
   ]
  }
 ],
 "metadata": {
  "kernelspec": {
   "display_name": "Julia 1.7.2",
   "language": "julia",
   "name": "julia-1.7"
  },
  "language_info": {
   "file_extension": ".jl",
   "mimetype": "application/julia",
   "name": "julia",
   "version": "1.7.2"
  }
 },
 "nbformat": 4,
 "nbformat_minor": 5
}
