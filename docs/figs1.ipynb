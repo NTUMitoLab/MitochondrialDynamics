{
 "cells": [
  {
   "cell_type": "markdown",
   "id": "93808e79-d6a2-45f5-84c0-33b4f1b7542f",
   "metadata": {},
   "source": [
    "# Figure S1"
   ]
  },
  {
   "cell_type": "code",
   "execution_count": null,
   "id": "3de58f34-29c2-4df1-b4bc-54bf081430c2",
   "metadata": {
    "execution": {
     "iopub.execute_input": "2022-02-28T09:45:12.309000Z",
     "iopub.status.busy": "2022-02-28T09:45:11.571000Z",
     "iopub.status.idle": "2022-02-28T09:45:36.092000Z",
     "shell.execute_reply": "2022-02-28T09:45:36.049000Z"
    }
   },
   "outputs": [],
   "source": [
    "# Supplementary figure 1: Response to elevated glucose concentrations in steps.\n",
    "using DifferentialEquations\n",
    "using LabelledArrays\n",
    "using Parameters\n",
    "using MitochondrialDynamics\n",
    "import MitochondrialDynamics.Utils: second, μM, mV, mM, Hz\n",
    "\n",
    "# Plotting\n",
    "import PyPlot as plt\n",
    "rcParams = plt.PyDict(plt.matplotlib.\"rcParams\")\n",
    "rcParams[\"font.size\"] = 14\n",
    "rcParams[\"font.sans-serif\"] = \"Arial\"\n",
    "rcParams[\"font.family\"] = \"sans-serif\""
   ]
  },
  {
   "cell_type": "code",
   "execution_count": null,
   "id": "281c9047-5fdf-469b-9b22-ce8ca05e4d16",
   "metadata": {
    "execution": {
     "iopub.execute_input": "2022-02-28T09:45:36.365000Z",
     "iopub.status.busy": "2022-02-28T09:45:36.094000Z",
     "iopub.status.idle": "2022-02-28T09:46:03.081000Z",
     "shell.execute_reply": "2022-02-28T09:46:03.081000Z"
    }
   },
   "outputs": [],
   "source": [
    "u0 = LVector(g3p = 2.8μM,\n",
    "             pyr = 8.5μM,\n",
    "             nadh_c = 1μM,\n",
    "             nadh_m = 60μM,\n",
    "             atp_c = 4000μM,\n",
    "             adp_c = 500μM,\n",
    "             ca_m = 0.250μM,\n",
    "             dpsi = 100mV,\n",
    "             x2=0.25, x3=0.05)\n",
    "tend = 3000.0\n",
    "param = MitoDynNode()\n",
    "prob = ODEProblem(model!, u0, tend, param)\n",
    "\n",
    "sol = solve(prob)\n",
    "uInf = sol.u[end]"
   ]
  },
  {
   "cell_type": "code",
   "execution_count": null,
   "id": "88b6a59c-9ea5-4768-9e2b-58e2a79b6a51",
   "metadata": {
    "execution": {
     "iopub.execute_input": "2022-02-28T09:46:03.086000Z",
     "iopub.status.busy": "2022-02-28T09:46:03.084000Z",
     "iopub.status.idle": "2022-02-28T09:46:03.708000Z",
     "shell.execute_reply": "2022-02-28T09:46:03.706000Z"
    }
   },
   "outputs": [],
   "source": [
    "@show getx1(uInf) avgdeg(uInf)"
   ]
  },
  {
   "cell_type": "code",
   "execution_count": null,
   "id": "10f4b596-3287-4efc-89a6-af23f7beb720",
   "metadata": {
    "execution": {
     "iopub.execute_input": "2022-02-28T09:46:03.711000Z",
     "iopub.status.busy": "2022-02-28T09:46:03.709000Z",
     "iopub.status.idle": "2022-02-28T09:46:04.417000Z",
     "shell.execute_reply": "2022-02-28T09:46:04.415000Z"
    }
   },
   "outputs": [],
   "source": [
    "\"Create a function to change glucose level for callbacks\"\n",
    "function make_glc_event(glc, newdt=0.01)\n",
    "    return i -> begin\n",
    "        i.p = setglc(i.p, glc)\n",
    "        set_proposed_dt!(i, newdt)\n",
    "    end\n",
    "end"
   ]
  },
  {
   "cell_type": "code",
   "execution_count": null,
   "id": "eee8d196-77fa-4eba-8c73-781d8b6bee8a",
   "metadata": {
    "execution": {
     "iopub.execute_input": "2022-02-28T09:46:04.420000Z",
     "iopub.status.busy": "2022-02-28T09:46:04.419000Z",
     "iopub.status.idle": "2022-02-28T09:46:15.216000Z",
     "shell.execute_reply": "2022-02-28T09:46:15.215000Z"
    }
   },
   "outputs": [],
   "source": [
    "cb1 = PresetTimeCallback([1000.0second], make_glc_event(10mM))\n",
    "cb2 = PresetTimeCallback([2000.0second], make_glc_event(15mM))\n",
    "cbs = CallbackSet(cb1, cb2)\n",
    "\n",
    "sol1s = solve(ODEProblem(model!, uInf, tend, param), callback=cbs);"
   ]
  },
  {
   "cell_type": "code",
   "execution_count": null,
   "id": "1d709733-fa12-432d-a57a-3e2d416ba386",
   "metadata": {
    "execution": {
     "iopub.execute_input": "2022-02-28T09:46:15.220000Z",
     "iopub.status.busy": "2022-02-28T09:46:15.219000Z",
     "iopub.status.idle": "2022-02-28T09:46:15.756000Z",
     "shell.execute_reply": "2022-02-28T09:46:15.755000Z"
    }
   },
   "outputs": [],
   "source": [
    "function plot_fig1s(sol1s, tend; figsize=(15,15))\n",
    "    ts = LinRange(0.0, tend, 201)\n",
    "    g3p = sol1s.(ts, idxs=1)\n",
    "    pyr = sol1s.(ts, idxs=2)\n",
    "    nadh_c = sol1s.(ts, idxs=3)\n",
    "    nadh_m = sol1s.(ts, idxs=4)\n",
    "    atp_c = sol1s.(ts, idxs=5)\n",
    "    adp_c = sol1s.(ts, idxs=6)\n",
    "    amp_c = ampcyto.(adp_c, atp_c, Ref(param))\n",
    "    ca_m = sol1s.(ts, idxs=7)\n",
    "    ca_c = cacyto.(adp_c, atp_c, Ref(param), ts)\n",
    "    ΔΨ = sol1s.(ts, idxs=8)\n",
    "    x2 = sol1s.(ts, idxs=9)\n",
    "    x3 = sol1s.(ts, idxs=10)\n",
    "    x1 = getx1.(x2, x3)\n",
    "    degree = avgdeg.(x2, x3, x1)\n",
    "\n",
    "    # convert unit to μM\n",
    "    for arr in (g3p, pyr, nadh_c, nadh_m, atp_c, adp_c, amp_c, ca_m, ca_c, ΔΨ)\n",
    "        arr .*= 1000\n",
    "    end\n",
    "\n",
    "    fig, ax = plt.subplots(3, 3, figsize=figsize)\n",
    "    ax[1, 1].plot(ts, g3p, label=nothing)\n",
    "    ax[1, 1].set(title=\"(A) G3P (μM)\", ylim=(0.0, 10.0))\n",
    "\n",
    "    ax[1, 2].plot(ts, pyr)\n",
    "    ax[1, 2].set(title=\"(B) Pyruvate (μM)\", ylim=(0.0, 80.0))\n",
    "\n",
    "    ax[1, 3].plot(ts, ca_c, label=\"cyto\")\n",
    "    ax[1, 3].plot(ts, ca_m, label=\"mito\")\n",
    "    ax[1, 3].set(ylim=(0.0, 1.5), title=\"(C) Calcium (μM)\")\n",
    "    ax[1, 3].legend(loc=\"upper left\")\n",
    "\n",
    "    ax[2, 1].plot(ts, nadh_c, label=\"cyto\")\n",
    "    ax[2, 1].plot(ts, nadh_m, label=\"mito\")\n",
    "    ax[2, 1].set(title=\"(D) NADH (μM)\")\n",
    "    ax[2, 1].legend()\n",
    "\n",
    "    ax[2, 2].plot(ts, atp_c, label=\"ATP\")\n",
    "    ax[2, 2].plot(ts, adp_c, label=\"ADP\")\n",
    "    ax[2, 2].plot(ts, amp_c, label=\"AMP\")\n",
    "    ax[2, 2].set(title=\"(E) Adenylates (μM)\")\n",
    "    ax[2, 2].legend()\n",
    "\n",
    "    ax[2, 3].plot(ts, atp_c ./ adp_c)\n",
    "    ax[2, 3].set(title=\"(F) ATP/ADP ratio\", ylim=(0.0, 45.0) )\n",
    "\n",
    "    ax[3, 1].plot(ts, ΔΨ)\n",
    "    ax[3, 1].set(title=\"(G) ΔΨ (mV)\", ylim=(80, 150), xlabel=\"Time (seconds)\")\n",
    "\n",
    "    ax[3, 2].plot(ts, x1, label=\"X1\")\n",
    "    ax[3, 2].plot(ts, x2, label=\"X2\")\n",
    "    ax[3, 2].plot(ts, x3, label=\"X3\")\n",
    "    ax[3, 2].set(title=\"(H) Mitochondrial nodes\", xlabel=\"Time (seconds)\", ylim=(0.0, 0.6))\n",
    "    ax[3, 2].legend()\n",
    "\n",
    "    ax[3, 3].plot(ts, degree)\n",
    "    ax[3, 3].set(title=\"(I) Average Node Degree\", xlabel=\"Time (seconds)\")\n",
    "\n",
    "    plt.tight_layout()\n",
    "    return fig\n",
    "end"
   ]
  },
  {
   "cell_type": "code",
   "execution_count": null,
   "id": "f610ab71-2b1b-40f3-959d-14842345c383",
   "metadata": {
    "execution": {
     "iopub.execute_input": "2022-02-28T09:46:15.759000Z",
     "iopub.status.busy": "2022-02-28T09:46:15.758000Z",
     "iopub.status.idle": "2022-02-28T09:46:28.111000Z",
     "shell.execute_reply": "2022-02-28T09:46:28.110000Z"
    }
   },
   "outputs": [],
   "source": [
    "fig1s = plot_fig1s(sol1s, tend, figsize=(12,10));"
   ]
  },
  {
   "cell_type": "code",
   "execution_count": null,
   "id": "4a98228f-6ed7-41f5-b654-a4b62a5a6c4e",
   "metadata": {
    "execution": {
     "iopub.execute_input": "2022-02-28T09:46:28.114000Z",
     "iopub.status.busy": "2022-02-28T09:46:28.113000Z",
     "iopub.status.idle": "2022-02-28T09:46:28.117000Z",
     "shell.execute_reply": "2022-02-28T09:46:28.116000Z"
    }
   },
   "outputs": [],
   "source": [
    "# Uncomment to generate pdf\n",
    "# fig1s.savefig(\"S1_Fig1.pdf\")"
   ]
  }
 ],
 "metadata": {
  "kernelspec": {
   "display_name": "Julia 1.7.2",
   "language": "julia",
   "name": "julia-1.7"
  },
  "language_info": {
   "file_extension": ".jl",
   "mimetype": "application/julia",
   "name": "julia",
   "version": "1.7.2"
  }
 },
 "nbformat": 4,
 "nbformat_minor": 5
}
