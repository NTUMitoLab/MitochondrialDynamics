{
 "cells": [
  {
   "cell_type": "markdown",
   "id": "fffa5b7c-08d1-4278-93c7-27d1a4d8c4a1",
   "metadata": {},
   "source": [
    "# Figure 7 "
   ]
  },
  {
   "cell_type": "code",
   "execution_count": null,
   "id": "7a9431aa-d14f-4df2-9c4a-b00cf3c57a4f",
   "metadata": {
    "execution": {
     "iopub.execute_input": "2022-02-28T09:45:12.356000Z",
     "iopub.status.busy": "2022-02-28T09:45:11.604000Z",
     "iopub.status.idle": "2022-02-28T09:45:47.124000Z",
     "shell.execute_reply": "2022-02-28T09:45:47.079000Z"
    }
   },
   "outputs": [],
   "source": [
    "using DifferentialEquations\n",
    "using LabelledArrays\n",
    "using Parameters\n",
    "using Setfield\n",
    "# using CSV\n",
    "# using DataFrames\n",
    "using MitochondrialDynamics\n",
    "import MitochondrialDynamics.Utils: second, μM, mV, mM, Hz\n",
    "\n",
    "# Plotting\n",
    "import PyPlot as plt\n",
    "rcParams = plt.PyDict(plt.matplotlib.\"rcParams\")\n",
    "rcParams[\"font.size\"] = 14\n",
    "rcParams[\"font.sans-serif\"] = \"Arial\"\n",
    "rcParams[\"font.family\"] = \"sans-serif\""
   ]
  },
  {
   "cell_type": "code",
   "execution_count": null,
   "id": "395704c3-6861-457a-a127-b4313a326dc6",
   "metadata": {
    "execution": {
     "iopub.execute_input": "2022-02-28T09:45:47.753000Z",
     "iopub.status.busy": "2022-02-28T09:45:47.127000Z",
     "iopub.status.idle": "2022-02-28T09:45:48.456000Z",
     "shell.execute_reply": "2022-02-28T09:45:48.456000Z"
    }
   },
   "outputs": [],
   "source": [
    "function get_data(p, glc = range(3.0mM, 30.0mM, length=101))\n",
    "    us = map(glc) do g\n",
    "        param = setglc(p, g)\n",
    "        prob = SteadyStateProblem(model!, u0, param)\n",
    "        sol = solve(prob, DynamicSS(Rodas5(), tspan=tend))\n",
    "        u = sol.u\n",
    "    end\n",
    "    jANT = [1//3 * p.f1fo(u.adp_c, u.dpsi, u.ca_m) for u in us]\n",
    "    jHL = [ p.hleak(u.dpsi) for u in us]\n",
    "    ff = (p.K_FUSE / p.K_FISS) .* jANT ./ jHL\n",
    "    return (; jANT, jHL, ff)\n",
    "end"
   ]
  },
  {
   "cell_type": "code",
   "execution_count": null,
   "id": "83c004c9-5e8b-48e7-b971-38e793a8732f",
   "metadata": {
    "execution": {
     "iopub.execute_input": "2022-02-28T09:45:48.461000Z",
     "iopub.status.busy": "2022-02-28T09:45:48.459000Z",
     "iopub.status.idle": "2022-02-28T09:45:54.455000Z",
     "shell.execute_reply": "2022-02-28T09:45:54.454000Z"
    }
   },
   "outputs": [],
   "source": [
    "glc = range(3.0mM, 30.0mM, length=136)  # Range of glucose\n",
    "tend = 3000.0second  # Time span\n",
    "# Initial conditions\n",
    "u0 = LVector(g3p = 2.8μM,\n",
    "             pyr = 8.5μM,\n",
    "             nadh_c = 1μM,\n",
    "             nadh_m = 60μM,\n",
    "             atp_c = 4000μM,\n",
    "             adp_c = 500μM,\n",
    "             ca_m = 0.250μM,\n",
    "             dpsi = 100mV,\n",
    "             x2=0.25,\n",
    "             x3=0.05)"
   ]
  },
  {
   "cell_type": "code",
   "execution_count": null,
   "id": "54c8ce79-4109-4707-a5dc-d921bc000001",
   "metadata": {
    "execution": {
     "iopub.execute_input": "2022-02-28T09:45:54.459000Z",
     "iopub.status.busy": "2022-02-28T09:45:54.457000Z",
     "iopub.status.idle": "2022-02-28T09:45:58.921000Z",
     "shell.execute_reply": "2022-02-28T09:45:58.920000Z"
    }
   },
   "outputs": [],
   "source": [
    "param0 = MitoDynNode()\n",
    "paramHL = @set param0.hleak.P_H *= 5\n",
    "paramF1 = @set param0.f1fo.VMAX *= 0.1\n",
    "paramETC = @set param0.etc.VMAX *= 0.1\n",
    "paramDM = let rPDH = 0.5, rETC = 0.75, rHL  = 1.4, rF1  = 0.5\n",
    "    p = @set param0.pdh.VMAX *= rPDH\n",
    "    p = @set p.hleak.P_H *= rHL\n",
    "    p = @set p.f1fo.VMAX *= rF1\n",
    "    p = @set p.etc.VMAX *= rETC\n",
    "end"
   ]
  },
  {
   "cell_type": "code",
   "execution_count": null,
   "id": "5faeedc2-d550-4db4-8cd0-3251abadc7c6",
   "metadata": {
    "execution": {
     "iopub.execute_input": "2022-02-28T09:45:58.925000Z",
     "iopub.status.busy": "2022-02-28T09:45:58.924000Z",
     "iopub.status.idle": "2022-02-28T09:45:59.105000Z",
     "shell.execute_reply": "2022-02-28T09:45:59.104000Z"
    }
   },
   "outputs": [],
   "source": [
    "function plot_fig7(y1, yHL, yF1, yETC, yDM, glc; figsize=(12,6))\n",
    "\n",
    "    xx = glc ./ 5\n",
    "\n",
    "    fig, ax = plt.subplots(2, 1, figsize=figsize)\n",
    "    ax[1].plot(xx, y1.ff, \"b-\", label=\"Baseline\")\n",
    "    ax[1].plot(xx, yDM.ff, \"r-\", label=\"Diabetic\")\n",
    "    ax[1].plot(xx, yETC.ff, \"g-\", label=\"Rotenone\")\n",
    "    ax[1].plot(xx, yF1.ff, \"c-\", label=\"Oligomycin\")\n",
    "    ax[1].plot(xx, yHL.ff, \"k-\", label=\"Uncoupler\")\n",
    "    ax[1].legend(loc=\"upper center\")\n",
    "    ax[1].set(xlabel=\"Glucose (X)\", ylabel=\"Fusion / Fission rate\", xlim=(0.0, 6.0), ylim=(0.0, 2.5))\n",
    "    ax[1].set_title(\"A\", loc=\"left\")\n",
    "    ax[1].axhline(y=1.0, color=\"black\", linestyle=\"--\")\n",
    "\n",
    "    ax[2].plot(y1.jHL, y1.jANT, \"b-\",  label=\"Baseline\")\n",
    "    ax[2].plot(y1.jHL[1:5:end], y1.jANT[1:5:end], \"bo\")\n",
    "    ax[2].plot(yDM.jHL, yDM.jANT, \"r-\", label=\"Diabetic\")\n",
    "    ax[2].plot(yDM.jHL[1:5:end], yDM.jANT[1:5:end], \"ro\")\n",
    "    ax[2].plot(yETC.jHL, yETC.jANT, \"g-\",label=\"Rotenone\")\n",
    "    ax[2].plot(yETC.jHL[1:5:end], yETC.jANT[1:5:end], \"go\")\n",
    "    ax[2].plot(yF1.jHL, yF1.jANT, \"c-\", label=\"Oligomycin\")\n",
    "    ax[2].plot(yF1.jHL[1:5:end], yF1.jANT[1:5:end], \"co\")\n",
    "    ax[2].plot(yHL.jHL, yHL.jANT, \"k-\", label=\"Uncoupler\")\n",
    "    ax[2].plot(yHL.jHL[1:5:end], yHL.jANT[1:5:end], \"ko\")\n",
    "\n",
    "    ax[2].set(xlabel=\"Proton leak rate (mM/s)\", ylabel=\"ATP synthase rate (mM/s)\", xlim=(0.0, 0.45), ylim=(0.0,0.20))\n",
    "    ax[2].set_aspect(1)\n",
    "    ax[2].set_title(\"B\", loc=\"left\")\n",
    "    ax[2].legend(loc=\"lower right\")\n",
    "    ax[2].axline((0.1, 0.1), slope=1.0, color=\"black\", linestyle=\"--\")\n",
    "\n",
    "    return fig\n",
    "\n",
    "end"
   ]
  },
  {
   "cell_type": "code",
   "execution_count": null,
   "id": "9fd1d1c6-7764-4aa9-97a0-cea74ea654c2",
   "metadata": {
    "execution": {
     "iopub.execute_input": "2022-02-28T09:45:59.108000Z",
     "iopub.status.busy": "2022-02-28T09:45:59.107000Z",
     "iopub.status.idle": "2022-02-28T09:46:44.316000Z",
     "shell.execute_reply": "2022-02-28T09:46:44.316000Z"
    }
   },
   "outputs": [],
   "source": [
    "y1 = get_data(param0, glc)\n",
    "yHL = get_data(paramHL, glc)\n",
    "yF1 = get_data(paramF1, glc)\n",
    "yETC = get_data(paramETC, glc)\n",
    "yDM = get_data(paramDM, glc)\n",
    "fig7 = plot_fig7(y1, yHL, yF1, yETC, yDM, glc, figsize=(8, 12));"
   ]
  },
  {
   "cell_type": "code",
   "execution_count": null,
   "id": "92bfd5c4",
   "metadata": {},
   "outputs": [],
   "source": [
    "# Uncomment to generate pdf figure\n",
    "# fig7.savefig(\"Fig7.pdf\")"
   ]
  },
  {
   "cell_type": "code",
   "execution_count": null,
   "id": "cc8017ca-6472-4a76-b8ec-5b1d14733ad3",
   "metadata": {
    "execution": {
     "iopub.execute_input": "2022-02-28T09:46:44.318000Z",
     "iopub.status.busy": "2022-02-28T09:46:44.318000Z",
     "iopub.status.idle": "2022-02-28T09:46:44.319000Z",
     "shell.execute_reply": "2022-02-28T09:46:44.319000Z"
    }
   },
   "outputs": [],
   "source": [
    "#= Uncomment to generate CSV files\n",
    "df1 = DataFrame(Glucose = glc, Baseline = y1.ff, Hleak = yHL.ff,\n",
    "                Oligomycin = yF1.ff, Rotenone = yETC.ff,\n",
    "                T2DM = yDM.ff)\n",
    "df2 = DataFrame(glucose=glc, BaseLeak=y1.jHL, BaseATP=y1.jANT,\n",
    "                            HLLeak=yHL.jHL, HLATP=yHL.jANT,\n",
    "                            F1Leak=yF1.jHL, F1ATP=yF1.jANT,\n",
    "                            ETCLeak=yETC.jHL, ETCATP=yETC.jANT,\n",
    "                            DMLeak=yDM.jHL, DMATP=yDM.jANT,)\n",
    "CSV.write(\"Fig7A.csv\", df1)\n",
    "CSV.write(\"Fig7B.csv\", df2)\n",
    "=#"
   ]
  }
 ],
 "metadata": {
  "kernelspec": {
   "display_name": "Julia 1.7.2",
   "language": "julia",
   "name": "julia-1.7"
  },
  "language_info": {
   "file_extension": ".jl",
   "mimetype": "application/julia",
   "name": "julia",
   "version": "1.7.2"
  }
 },
 "nbformat": 4,
 "nbformat_minor": 5
}
