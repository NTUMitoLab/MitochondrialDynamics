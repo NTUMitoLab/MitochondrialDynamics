{
 "cells": [
  {
   "cell_type": "markdown",
   "id": "2789a75c-5a5a-46e5-bd68-c1699621e5c0",
   "metadata": {},
   "source": [
    "# Figure S2 : DM step response\n",
    "\n",
    "Response to adding glucose in healthy and DM cells.\n",
    "\n",
    "In the diabetic parameter set. We adjusted\n",
    "\n",
    "- PDH capacity\n",
    "- ETC capacity\n",
    "- F1 synthase capacity\n",
    "- Proton leak rate"
   ]
  },
  {
   "cell_type": "code",
   "execution_count": null,
   "id": "d20d080c-37ed-4f38-9335-854e6d821d75",
   "metadata": {
    "execution": {
     "iopub.execute_input": "2022-02-28T09:45:12.288000Z",
     "iopub.status.busy": "2022-02-28T09:45:11.555000Z",
     "iopub.status.idle": "2022-02-28T09:45:35.796000Z",
     "shell.execute_reply": "2022-02-28T09:45:35.753000Z"
    }
   },
   "outputs": [],
   "source": [
    "using DifferentialEquations\n",
    "using ModelingToolkit\n",
    "using MitochondrialDynamics\n",
    "using MitochondrialDynamics: t, Glc, G3P, Pyr, NADH_c, NADH_m, Ca_c, Ca_m, ΔΨm, ATP_c, ADP_c, AMP_c, degavg, x, VmaxPDH, pHleak, VmaxF1, VmaxETC\n",
    "using MitochondrialDynamics.Utils: second, μM, mV, mM, Hz, minute\n",
    "\n",
    "using Plots\n",
    "pyplot()\n",
    "Plots.pyrcparams[\"font.size\"] = 14\n",
    "Plots.pyrcparams[\"font.sans-serif\"] = \"Arial\"\n",
    "Plots.pyrcparams[\"font.family\"] = \"sans-serif\""
   ]
  },
  {
   "cell_type": "code",
   "execution_count": null,
   "id": "91066daa",
   "metadata": {},
   "outputs": [],
   "source": [
    "function glc_step(t)\n",
    "    if t < 20minute\n",
    "        g = 5.0mM\n",
    "    elseif 20minute <= t < 40minute\n",
    "        g = 10.0mM\n",
    "    else\n",
    "        g = 15.0mM\n",
    "    end\n",
    "end\n",
    "\n",
    "@register_symbolic glc_step(t)"
   ]
  },
  {
   "cell_type": "code",
   "execution_count": null,
   "id": "827eada1",
   "metadata": {},
   "outputs": [],
   "source": [
    "tend = 60minute\n",
    "@named sys = make_model(;glcrhs=glc_step(t))\n",
    "prob = ODEProblem(sys, DEFAULT_U0, tend)"
   ]
  },
  {
   "cell_type": "code",
   "execution_count": null,
   "id": "4157f451",
   "metadata": {},
   "outputs": [],
   "source": [
    "function make_dm_prob(prob; rPDH=0.5, rETC=0.75, rHL=1.4, rF1=0.5)\n",
    "    newparams = copy(prob.p)\n",
    "    idxVmaxPDH = findfirst(isequal(VmaxPDH), parameters(sys))\n",
    "    idxpHleak = findfirst(isequal(pHleak), parameters(sys))\n",
    "    idxVmaxF1 = findfirst(isequal(VmaxF1), parameters(sys))\n",
    "    idxVmaxETC = findfirst(isequal(VmaxETC), parameters(sys))\n",
    "    newparams[idxVmaxPDH] = prob.p[idxVmaxPDH] * rPDH\n",
    "    newparams[idxpHleak] = prob.p[idxpHleak] * rHL\n",
    "    newparams[idxVmaxF1] = prob.p[idxVmaxF1] * rF1\n",
    "    newparams[idxVmaxETC] = prob.p[idxVmaxETC] * rETC\n",
    "    return remake(prob, p=newparams)\n",
    "end"
   ]
  },
  {
   "cell_type": "code",
   "execution_count": null,
   "id": "10d35f2d",
   "metadata": {},
   "outputs": [],
   "source": [
    "probDM = make_dm_prob(prob)"
   ]
  },
  {
   "cell_type": "code",
   "execution_count": null,
   "id": "e0067ad8",
   "metadata": {},
   "outputs": [],
   "source": [
    "sol = solve(prob, tstops=[20minute, 40minute])\n",
    "solDM = solve(probDM, tstops=[20minute, 40minute])"
   ]
  },
  {
   "cell_type": "code",
   "execution_count": null,
   "id": "4461b95e",
   "metadata": {},
   "outputs": [],
   "source": [
    "ts = range(0.0, tend, length=300)\n",
    "g3p = [sol(ts, idxs=G3P).u solDM(ts, idxs=G3P).u] .* 1000\n",
    "pyr = [sol(ts, idxs=Pyr).u solDM(ts, idxs=Pyr).u] .* 1000\n",
    "nadh_c = [sol(ts, idxs=NADH_c).u solDM(ts, idxs=NADH_c).u] .* 1000\n",
    "nadh_m = [sol(ts, idxs=NADH_m).u solDM(ts, idxs=NADH_m).u] .* 1000\n",
    "ca_c = [sol(ts, idxs=Ca_c).u solDM(ts, idxs=Ca_c).u] .* 1000\n",
    "ca_m = [sol(ts, idxs=Ca_m).u solDM(ts, idxs=Ca_m).u] .* 1000\n",
    "dpsi = [sol(ts, idxs=ΔΨm).u solDM(ts, idxs=ΔΨm).u] .* 1000\n",
    "atp_c = [sol(ts, idxs=ATP_c).u solDM(ts, idxs=ATP_c).u] .* 1000\n",
    "adp_c = [sol(ts, idxs=ADP_c).u solDM(ts, idxs=ADP_c).u] .* 1000\n",
    "td = atp_c ./ adp_c\n",
    "deg = [sol(ts, idxs=degavg).u solDM(ts, idxs=degavg).u]"
   ]
  },
  {
   "cell_type": "code",
   "execution_count": null,
   "id": "d41b46ee",
   "metadata": {},
   "outputs": [],
   "source": [
    "labels = [\"Baseline\" \"Diabetic\"]\n",
    "tsm = ts ./ 60\n",
    "pl1 = plot(tsm, g3p, ylabel=\"G3P (μM)\", title=\"(A)\", titlelocation=:left, label=labels, legend=:right)\n",
    "pl2 = plot(tsm, pyr, ylabel=\"Pyruvate (μM)\", title=\"(B)\", titlelocation=:left, label=labels, legend=:right)\n",
    "pl3 = plot(tsm, nadh_c, ylabel=\"Cytosolic NADH (μM)\", title=\"(C)\", titlelocation=:left, label=labels, legend=:right)\n",
    "pl4 = plot(tsm, nadh_m, ylabel=\"Mitochondrial NADH (μM)\", title=\"(D)\", titlelocation=:left, label=labels, legend=:right)\n",
    "pl5 = plot(tsm, ca_c, ylabel=\"Cytosolic Calcium (μM)\", title=\"(E)\", titlelocation=:left, label=labels, legend=:right)\n",
    "pl6 = plot(tsm, ca_m, ylabel=\"Mitochondrial Calcium (μM)\", title=\"(F)\", titlelocation=:left, label=labels, legend=:right)\n",
    "pl7 = plot(tsm, td, ylabel=\"ATP/ADP ratio\", title=\"(G)\", titlelocation=:left, label=labels, legend=:right)\n",
    "pl8 = plot(tsm, dpsi, ylabel=\"Mitochodrial membrane potential (mV)\", title=\"(H)\", titlelocation=:left, label=labels, legend=:right)\n",
    "pl9 = plot(tsm, deg, ylabel=\"Average Node Degree\", title=\"(I)\", titlelocation=:left, label=labels, legend=:right)\n",
    "\n",
    "plot(pl1, pl2, pl3, pl4, pl5, pl6, pl7, pl8, pl9; size=(2000,2000))"
   ]
  },
  {
   "cell_type": "code",
   "execution_count": null,
   "id": "61bbb18e-837f-441c-a28b-9ec5d0f33d59",
   "metadata": {
    "execution": {
     "iopub.execute_input": "2022-02-28T09:46:29.473000Z",
     "iopub.status.busy": "2022-02-28T09:46:29.473000Z",
     "iopub.status.idle": "2022-02-28T09:46:29.473000Z",
     "shell.execute_reply": "2022-02-28T09:46:29.473000Z"
    }
   },
   "outputs": [],
   "source": [
    "# Uncomment to generate PDF\n",
    "# savefig(\"S1_Fig2.pdf\")"
   ]
  }
 ],
 "metadata": {
  "kernelspec": {
   "display_name": "Julia 1.7.2",
   "language": "julia",
   "name": "julia-1.7"
  },
  "language_info": {
   "file_extension": ".jl",
   "mimetype": "application/julia",
   "name": "julia",
   "version": "1.7.2"
  }
 },
 "nbformat": 4,
 "nbformat_minor": 5
}
