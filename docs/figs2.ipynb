{
 "cells": [
  {
   "cell_type": "markdown",
   "id": "2789a75c-5a5a-46e5-bd68-c1699621e5c0",
   "metadata": {},
   "source": [
    "# Figure S2 : DM step response\n",
    "\n",
    "Response to adding glucose in healthy and DM cells.\n",
    "\n",
    "In the diabetic parameter set. We adjusted\n",
    "\n",
    "- PDH capacity\n",
    "- ETC capacity\n",
    "- F1 synthase capacity\n",
    "- Proton leak rate"
   ]
  },
  {
   "cell_type": "code",
   "execution_count": null,
   "id": "d20d080c-37ed-4f38-9335-854e6d821d75",
   "metadata": {
    "execution": {
     "iopub.execute_input": "2022-02-28T09:45:12.288000Z",
     "iopub.status.busy": "2022-02-28T09:45:11.555000Z",
     "iopub.status.idle": "2022-02-28T09:45:35.796000Z",
     "shell.execute_reply": "2022-02-28T09:45:35.753000Z"
    }
   },
   "outputs": [],
   "source": [
    "using DifferentialEquations\n",
    "using LabelledArrays\n",
    "using Parameters\n",
    "using MitochondrialDynamics\n",
    "using Setfield\n",
    "import MitochondrialDynamics.Utils: second, μM, mV, mM, Hz, minute\n",
    "\n",
    "import PyPlot as plt\n",
    "rcParams = plt.PyDict(plt.matplotlib.\"rcParams\")\n",
    "rcParams[\"font.size\"] = 12\n",
    "rcParams[\"font.sans-serif\"] = \"Arial\"\n",
    "rcParams[\"font.family\"] = \"sans-serif\""
   ]
  },
  {
   "cell_type": "code",
   "execution_count": null,
   "id": "20aee5ce-423b-413c-b344-8fc786b3423a",
   "metadata": {
    "execution": {
     "iopub.execute_input": "2022-02-28T09:45:36.065000Z",
     "iopub.status.busy": "2022-02-28T09:45:35.799000Z",
     "iopub.status.idle": "2022-02-28T09:46:05.638000Z",
     "shell.execute_reply": "2022-02-28T09:46:05.638000Z"
    }
   },
   "outputs": [],
   "source": [
    "u0 = LVector(g3p = 2.8μM,\n",
    "             pyr = 8.5μM,\n",
    "             nadh_c = 1μM,\n",
    "             nadh_m = 60μM,\n",
    "             atp_c = 4000μM,\n",
    "             adp_c = 500μM,\n",
    "             ca_m = 0.250μM,\n",
    "             dpsi = 100mV,\n",
    "             x2 = 0.20,\n",
    "             x3 = 0.05)\n",
    "\n",
    "param = MitoDynNode()\n",
    "\n",
    "tend = 50minute\n",
    "\n",
    "function make_paramDM(param; rPDH = 0.5, rETC = 0.75, rHL  = 1.4, rF1  = 0.5)\n",
    "    paramDM = begin\n",
    "        p = @set param.pdh.VMAX *= rPDH\n",
    "        p = @set p.hleak.P_H *= rHL\n",
    "        p = @set p.f1fo.VMAX *= rF1\n",
    "        p = @set p.etc.VMAX *= rETC\n",
    "    end\n",
    "\n",
    "    return paramDM\n",
    "end\n",
    "\n",
    "paramDM = make_paramDM(param)\n",
    "\n",
    "ussDM = solve(ODEProblem(model!, u0, 50minute, paramDM)).u[end]\n",
    "uss = solve(ODEProblem(model!, u0, 50minute, param)).u[end]"
   ]
  },
  {
   "cell_type": "code",
   "execution_count": null,
   "id": "2c349b12-cbf3-4aa7-8990-cdca2582827e",
   "metadata": {
    "execution": {
     "iopub.execute_input": "2022-02-28T09:46:05.642000Z",
     "iopub.status.busy": "2022-02-28T09:46:05.641000Z",
     "iopub.status.idle": "2022-02-28T09:46:06.151000Z",
     "shell.execute_reply": "2022-02-28T09:46:06.149000Z"
    }
   },
   "outputs": [],
   "source": [
    "function make_affect(x, newdt=0.01)\n",
    "  return (integrator) -> begin\n",
    "    integrator.p = setglc(integrator.p, x)\n",
    "    set_proposed_dt!(integrator, newdt)\n",
    "  end\n",
    "end"
   ]
  },
  {
   "cell_type": "code",
   "execution_count": null,
   "id": "d4868f28-7958-4d11-b4e1-666187589a83",
   "metadata": {
    "execution": {
     "iopub.execute_input": "2022-02-28T09:46:06.154000Z",
     "iopub.status.busy": "2022-02-28T09:46:06.153000Z",
     "iopub.status.idle": "2022-02-28T09:46:17.052000Z",
     "shell.execute_reply": "2022-02-28T09:46:17.052000Z"
    }
   },
   "outputs": [],
   "source": [
    "t10mM = 20minute\n",
    "t15mM = 40minute\n",
    "cb = CallbackSet(\n",
    "\t\tPresetTimeCallback([t10mM], make_affect(10mM)),\n",
    "\t\tPresetTimeCallback([t15mM], make_affect(15mM)))\n",
    "\n",
    "\n",
    "tend = 60minute\n",
    "\n",
    "sol = solve(ODEProblem(model!, uss, tend, param), callback=cb)\n",
    "solDM = solve(ODEProblem(model!, ussDM, tend, paramDM), callback=cb);"
   ]
  },
  {
   "cell_type": "code",
   "execution_count": null,
   "id": "7d1fb1f0-9014-4a71-a6c8-f7b8561edfca",
   "metadata": {
    "execution": {
     "iopub.execute_input": "2022-02-28T09:46:17.056000Z",
     "iopub.status.busy": "2022-02-28T09:46:17.055000Z",
     "iopub.status.idle": "2022-02-28T09:46:17.251000Z",
     "shell.execute_reply": "2022-02-28T09:46:17.249000Z"
    }
   },
   "outputs": [],
   "source": [
    "function plot_fig2s(sol, solDM, tend;\n",
    "    labels=[\"Baseline\",\"Diabetic\"], figsize=(20,20))\n",
    "\n",
    "    ll=labels\n",
    "\n",
    "    ts = range(0.0, tend, length=300)\n",
    "    tsm = ts ./ 60\n",
    "    g3p = [sol.(ts, idxs=1) solDM.(ts, idxs=1)]\n",
    "    pyr = [sol.(ts, idxs=2) solDM.(ts, idxs=2)]\n",
    "    nadh_c = [sol.(ts, idxs=3) solDM.(ts, idxs=3)]\n",
    "    nadh_m = [sol.(ts, idxs=4) solDM.(ts, idxs=4)]\n",
    "    atp_c = [sol.(ts, idxs=5) solDM.(ts, idxs=5)]\n",
    "    adp_c = [sol.(ts, idxs=6) solDM.(ts, idxs=6)]\n",
    "    td = atp_c ./ adp_c\n",
    "    ca_m = [sol.(ts, idxs=7) solDM.(ts, idxs=7)]\n",
    "    ca_c = cacyto.(adp_c, atp_c, Ref(param), nothing)\n",
    "    dpsi = [sol.(ts, idxs=8) solDM.(ts, idxs=8)]\n",
    "    x2 = [sol.(ts, idxs=9) solDM.(ts, idxs=9)]\n",
    "    x3 = [sol.(ts, idxs=10) solDM.(ts, idxs=10)]\n",
    "    x1 = getx1.(x2, x3)\n",
    "    avgDeg = avgdeg.(x2, x3, x1)\n",
    "    x13 = x1 ./ x3\n",
    "    for arr in (g3p, pyr, nadh_c, nadh_m, atp_c, adp_c, ca_m, ca_c, dpsi)\n",
    "        arr .*= 1000\n",
    "    end\n",
    "\n",
    "    fig, ax = plt.subplots(3, 3, figsize=figsize)\n",
    "\n",
    "    ax[1].plot(tsm, g3p)\n",
    "    ax[1].legend(ll)\n",
    "    ax[1].set_ylabel(\"G3P (μM)\")\n",
    "    ax[1].set_xlabel(\"Time (minute)\")\n",
    "    ax[1].set_title(\"A\", loc=\"left\")\n",
    "    ax[1].set_ylim(0.0, 8.0)\n",
    "\n",
    "    ax[4].plot(tsm, pyr)\n",
    "    ax[4].legend(ll)\n",
    "    ax[4].set_ylabel(\"Pyruvate (μM)\")\n",
    "    ax[4].set_xlabel(\"Time (minute)\")\n",
    "    ax[4].set_title(\"B\", loc=\"left\")\n",
    "    ax[4].set_ylim(0.0, 500.0)\n",
    "\n",
    "    ax[7].plot(tsm, nadh_c)\n",
    "    ax[7].legend(ll)\n",
    "    ax[7].set_ylabel(\"Cytosolic NADH (μM)\")\n",
    "    ax[7].set_xlabel(\"Time (minute)\")\n",
    "    ax[7].set_title(\"C\", loc=\"left\")\n",
    "    ax[7].set_ylim(0.0, 5.5)\n",
    "\n",
    "    ax[2].plot(tsm, nadh_m)\n",
    "    ax[2].legend(ll)\n",
    "    ax[2].set_ylabel(\"Mitochondrial NADH (μM)\")\n",
    "    ax[2].set_xlabel(\"Time (minute)\")\n",
    "    ax[2].set_title(\"D\", loc=\"left\")\n",
    "    ax[2].set_ylim(0.0, 140.0)\n",
    "\n",
    "    ax[5].plot(tsm, ca_c)\n",
    "    ax[5].legend(ll)\n",
    "    ax[5].set_ylabel(\"Cytosolic Calcium (μM)\")\n",
    "    ax[5].set_xlabel(\"Time (minute)\")\n",
    "    ax[5].set_title(\"E\", loc=\"left\")\n",
    "    ax[5].set_ylim()\n",
    "\n",
    "    ax[8].plot(tsm, ca_m)\n",
    "    ax[8].legend(ll)\n",
    "    ax[8].set_ylabel(\"Mitochondrial Calcium (μM)\")\n",
    "    ax[8].set_xlabel(\"Time (minute)\")\n",
    "    ax[8].set_title(\"F\", loc=\"left\")\n",
    "    ax[8].set_ylim()\n",
    "\n",
    "    ax[3].plot(tsm, td)\n",
    "    ax[3].legend(ll)\n",
    "    ax[3].set_ylabel(\"ATP/ADP ratio\")\n",
    "    ax[3].set_xlabel(\"Time (minute)\")\n",
    "    ax[3].set_title(\"G\", loc=\"left\")\n",
    "    ax[3].set_ylim()\n",
    "\n",
    "    ax[6].plot(tsm, dpsi)\n",
    "    ax[6].legend(ll)\n",
    "    ax[6].set_ylabel(\"Mitochodrial membrane potential (mV)\")\n",
    "    ax[6].set_xlabel(\"Time (minute)\")\n",
    "    ax[6].set_title(\"H\", loc=\"left\")\n",
    "    ax[6].set_ylim()\n",
    "\n",
    "    ax[9].plot(tsm, avgDeg)\n",
    "    ax[9].legend(ll)\n",
    "    ax[9].set_ylabel(\"Average Node Degree\")\n",
    "    ax[9].set_xlabel(\"Time (minute)\")\n",
    "    ax[9].set_title(\"I\", loc=\"left\")\n",
    "    ax[9].set_ylim()\n",
    "\n",
    "    plt.tight_layout()\n",
    "\n",
    "    return fig\n",
    "end"
   ]
  },
  {
   "cell_type": "code",
   "execution_count": null,
   "id": "bf0b66df-9542-4f99-b52f-fc94274992dc",
   "metadata": {
    "execution": {
     "iopub.execute_input": "2022-02-28T09:46:17.254000Z",
     "iopub.status.busy": "2022-02-28T09:46:17.252000Z",
     "iopub.status.idle": "2022-02-28T09:46:29.469000Z",
     "shell.execute_reply": "2022-02-28T09:46:29.469000Z"
    }
   },
   "outputs": [],
   "source": [
    "fig2s = plot_fig2s(sol, solDM, tend, figsize=(12,8));"
   ]
  },
  {
   "cell_type": "code",
   "execution_count": null,
   "id": "61bbb18e-837f-441c-a28b-9ec5d0f33d59",
   "metadata": {
    "execution": {
     "iopub.execute_input": "2022-02-28T09:46:29.473000Z",
     "iopub.status.busy": "2022-02-28T09:46:29.473000Z",
     "iopub.status.idle": "2022-02-28T09:46:29.473000Z",
     "shell.execute_reply": "2022-02-28T09:46:29.473000Z"
    }
   },
   "outputs": [],
   "source": [
    "# Uncomment to generate PDF\n",
    "# fig2s.savefig(\"S1_Fig2.pdf\")"
   ]
  }
 ],
 "metadata": {
  "kernelspec": {
   "display_name": "Julia 1.7.2",
   "language": "julia",
   "name": "julia-1.7"
  },
  "language_info": {
   "file_extension": ".jl",
   "mimetype": "application/julia",
   "name": "julia",
   "version": "1.7.2"
  }
 },
 "nbformat": 4,
 "nbformat_minor": 5
}
