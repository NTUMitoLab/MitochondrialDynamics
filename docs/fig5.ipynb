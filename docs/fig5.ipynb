{
 "cells": [
  {
   "cell_type": "markdown",
   "id": "58fca5d3-3014-4f88-a241-a2b76113f4ab",
   "metadata": {},
   "source": [
    "# Figure 5"
   ]
  },
  {
   "cell_type": "code",
   "execution_count": null,
   "id": "0e153921-70e3-4b99-abd0-8eb285d04842",
   "metadata": {
    "execution": {
     "iopub.execute_input": "2022-02-28T09:45:12.347000Z",
     "iopub.status.busy": "2022-02-28T09:45:11.601000Z",
     "iopub.status.idle": "2022-02-28T09:45:35.706000Z",
     "shell.execute_reply": "2022-02-28T09:45:35.665000Z"
    }
   },
   "outputs": [],
   "source": [
    "using DifferentialEquations\n",
    "using ModelingToolkit\n",
    "using MitochondrialDynamics\n",
    "using MitochondrialDynamics: GlcConst, degavg, ΔΨm, Ca_c, Ca_m, t, G3P\n",
    "using MitochondrialDynamics: Pyr, NADH_c, NADH_m, ATP_c, ADP_c, degavg\n",
    "using MitochondrialDynamics.Utils: second, μM, mV, mM, Hz, minute\n",
    "using Plots\n",
    "pyplot()\n",
    "Plots.pyrcparams[\"font.size\"] = 14\n",
    "Plots.pyrcparams[\"font.sans-serif\"] = \"Arial\"\n",
    "Plots.pyrcparams[\"font.family\"] = \"sans-serif\""
   ]
  },
  {
   "cell_type": "code",
   "execution_count": null,
   "id": "e4295f23-404e-4d91-a3a0-8fbc47960718",
   "metadata": {
    "execution": {
     "iopub.execute_input": "2022-02-28T09:45:35.982000Z",
     "iopub.status.busy": "2022-02-28T09:45:35.709000Z",
     "iopub.status.idle": "2022-02-28T09:46:16.789000Z",
     "shell.execute_reply": "2022-02-28T09:46:16.789000Z"
    },
    "jupyter": {
     "outputs_hidden": true
    },
    "tags": []
   },
   "outputs": [],
   "source": [
    "tend = 2000.0\n",
    "@named sys = make_model(; glcrhs=10mM)\n",
    "sssol = solve(SteadyStateProblem(sys, []), DynamicSS(Rodas5(), tspan=tend))\n",
    "caavg = sssol[Ca_c]"
   ]
  },
  {
   "cell_type": "code",
   "execution_count": null,
   "id": "58c13f6a-a7a8-477d-8b29-154d48f95d52",
   "metadata": {
    "execution": {
     "iopub.execute_input": "2022-02-28T09:46:16.794000Z",
     "iopub.status.busy": "2022-02-28T09:46:16.792000Z",
     "iopub.status.idle": "2022-02-28T09:46:34.602000Z",
     "shell.execute_reply": "2022-02-28T09:46:34.602000Z"
    },
    "jupyter": {
     "outputs_hidden": true
    },
    "tags": []
   },
   "outputs": [],
   "source": [
    "function cac_wave(t)\n",
    "    ka_ca = (caavg - 0.09μM) * 1.5\n",
    "    ca_r = 0.09μM\n",
    "    period = 2minute\n",
    "    x = 5 * modf(t / period)[1]\n",
    "    ca_r + ka_ca * (x * exp(1 - x))^4\n",
    "end\n",
    "\n",
    "@register_symbolic cac_wave(t)\n",
    "@named sysosci = make_model(; cacrhs=cac_wave(t), glcrhs=10mM)\n",
    "sol = solve(ODEProblem(sysosci, sssol.u, tend))"
   ]
  },
  {
   "cell_type": "code",
   "execution_count": null,
   "id": "3d336e10",
   "metadata": {},
   "outputs": [],
   "source": [
    "ts = LinRange(1520, tend, 200)\n",
    "tsm = ts ./ 60\n",
    "\n",
    "ca_c = sol(ts, idxs=Ca_c)\n",
    "ca_m = sol(ts, idxs=Ca_m)\n",
    "g3p = sol(ts, idxs=G3P)\n",
    "pyr = sol(ts, idxs=Pyr)\n",
    "nadh_c = sol(ts, idxs=NADH_c)\n",
    "nadh_m = sol(ts, idxs=NADH_m)\n",
    "atp_c = sol(ts, idxs=ATP_c)\n",
    "adp_c = sol(ts, idxs=ADP_c)\n",
    "td = atp_c.u ./ adp_c.u\n",
    "dpsi = sol(ts, idxs=ΔΨm)\n",
    "avgDeg = sol(ts, idxs=degavg)"
   ]
  },
  {
   "cell_type": "code",
   "execution_count": null,
   "id": "e03ff449",
   "metadata": {},
   "outputs": [],
   "source": [
    "pl1 = plot(tsm, ca_c.u .* 1000, title=\"A\", titlelocation=:left, label=\"Ca(cyto)\")\n",
    "plot!(pl1, tsm, ca_m.u .* 1000, label=\"Ca(mito)\", xlabel=\"\", ylabel=\"Conc. (μM)\",\n",
    "    legend=:right, xlims=(tsm[begin], tsm[end]), ylims=(0.0, 1.0))"
   ]
  },
  {
   "cell_type": "code",
   "execution_count": null,
   "id": "8b6539ac",
   "metadata": {},
   "outputs": [],
   "source": [
    "pl2 = plot(tsm, g3p.u .* 1000, title=\"B\", titlelocation=:left, label=\"G3P\")\n",
    "plot!(pl2, tsm, nadh_c.u .* 1000, label=\"NADH (cyto)\", xlabel=\"\", ylabel=\"Conc. (μM)\", legend=:right, xlims=(tsm[begin], tsm[end]))"
   ]
  },
  {
   "cell_type": "code",
   "execution_count": null,
   "id": "f8a1bbad-3b20-4764-93b9-86177b70c796",
   "metadata": {
    "execution": {
     "iopub.execute_input": "2022-02-28T09:46:34.605000Z",
     "iopub.status.busy": "2022-02-28T09:46:34.605000Z",
     "iopub.status.idle": "2022-02-28T09:46:34.914000Z",
     "shell.execute_reply": "2022-02-28T09:46:34.914000Z"
    }
   },
   "outputs": [],
   "source": [
    "pl3 = plot(tsm, pyr.u .* 1000, title=\"C\", titlelocation=:left, label=\"Pyr\")\n",
    "plot!(pl3, tsm, nadh_m.u .* 1000, label=\"NADH (mito)\", xlabel=\"\", ylabel=\"Conc. (μM)\", legend=:right, xlims=(tsm[begin], tsm[end]))"
   ]
  },
  {
   "cell_type": "code",
   "execution_count": null,
   "id": "3242e385-2cde-434e-a501-faa9f09c202e",
   "metadata": {
    "execution": {
     "iopub.execute_input": "2022-02-28T09:46:34.916000Z",
     "iopub.status.busy": "2022-02-28T09:46:34.916000Z",
     "iopub.status.idle": "2022-02-28T09:46:35.041000Z",
     "shell.execute_reply": "2022-02-28T09:46:35.041000Z"
    }
   },
   "outputs": [],
   "source": [
    "pl4 = plot(tsm, td, title=\"D\", titlelocation=:left, label=\"ATP:ADP\", xlabel=\"\", legend=:right, xlims=(tsm[begin], tsm[end]))"
   ]
  },
  {
   "cell_type": "code",
   "execution_count": null,
   "id": "75685a61",
   "metadata": {},
   "outputs": [],
   "source": [
    "pl5 = plot(tsm, dpsi .* 1000, title=\"E\", titlelocation=:left, label=\"ΔΨm\", xlabel=\"\", legend=:right, xlims=(tsm[begin], tsm[end]))"
   ]
  },
  {
   "cell_type": "code",
   "execution_count": null,
   "id": "75014393",
   "metadata": {},
   "outputs": [],
   "source": [
    "pl6 = plot(tsm, avgDeg, title=\"F\", titlelocation=:left, label=\"<k>\", xlabel=\"Time (minute)\", legend=:right, xlims=(tsm[begin], tsm[end]))"
   ]
  },
  {
   "cell_type": "code",
   "execution_count": null,
   "id": "a707e3c5-7480-4f1b-9b8b-402c75c247d5",
   "metadata": {
    "execution": {
     "iopub.execute_input": "2022-02-28T09:46:35.044000Z",
     "iopub.status.busy": "2022-02-28T09:46:35.044000Z",
     "iopub.status.idle": "2022-02-28T09:46:41.386000Z",
     "shell.execute_reply": "2022-02-28T09:46:41.386000Z"
    }
   },
   "outputs": [],
   "source": [
    "plot(pl1, pl2, pl3, pl4, pl5, pl6, layout=(6, 1), size=(1000, 1200))"
   ]
  },
  {
   "cell_type": "code",
   "execution_count": null,
   "id": "64e8c275-d699-458e-8e70-0997863b42a3",
   "metadata": {
    "execution": {
     "iopub.execute_input": "2022-02-28T09:46:41.388000Z",
     "iopub.status.busy": "2022-02-28T09:46:41.388000Z",
     "iopub.status.idle": "2022-02-28T09:46:41.388000Z",
     "shell.execute_reply": "2022-02-28T09:46:41.388000Z"
    }
   },
   "outputs": [],
   "source": [
    "# Uncomment to generate the pdf file \n",
    "# savefig(\"Fig5.pdf\")"
   ]
  }
 ],
 "metadata": {
  "kernelspec": {
   "display_name": "Julia 1.7.3",
   "language": "julia",
   "name": "julia-1.7"
  },
  "language_info": {
   "file_extension": ".jl",
   "mimetype": "application/julia",
   "name": "julia",
   "version": "1.7.3"
  }
 },
 "nbformat": 4,
 "nbformat_minor": 5
}
