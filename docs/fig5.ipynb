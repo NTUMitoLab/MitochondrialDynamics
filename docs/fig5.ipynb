{
 "cells": [
  {
   "cell_type": "markdown",
   "id": "58fca5d3-3014-4f88-a241-a2b76113f4ab",
   "metadata": {},
   "source": [
    "# Figure 5"
   ]
  },
  {
   "cell_type": "code",
   "execution_count": null,
   "id": "0e153921-70e3-4b99-abd0-8eb285d04842",
   "metadata": {
    "execution": {
     "iopub.execute_input": "2022-02-28T09:45:12.347000Z",
     "iopub.status.busy": "2022-02-28T09:45:11.601000Z",
     "iopub.status.idle": "2022-02-28T09:45:35.706000Z",
     "shell.execute_reply": "2022-02-28T09:45:35.665000Z"
    }
   },
   "outputs": [],
   "source": [
    "using DifferentialEquations\n",
    "using LabelledArrays\n",
    "using Parameters\n",
    "using Setfield\n",
    "using MitochondrialDynamics\n",
    "import MitochondrialDynamics: CaOsciSmooth\n",
    "import MitochondrialDynamics.Utils: second, μM, mV, mM, Hz\n",
    "# Plotting config\n",
    "import PyPlot as plt\n",
    "rcParams = plt.PyDict(plt.matplotlib.\"rcParams\")\n",
    "rcParams[\"font.size\"] = 14\n",
    "rcParams[\"font.sans-serif\"] = \"Arial\"\n",
    "rcParams[\"font.family\"] = \"sans-serif\""
   ]
  },
  {
   "cell_type": "code",
   "execution_count": null,
   "id": "e4295f23-404e-4d91-a3a0-8fbc47960718",
   "metadata": {
    "execution": {
     "iopub.execute_input": "2022-02-28T09:45:35.982000Z",
     "iopub.status.busy": "2022-02-28T09:45:35.709000Z",
     "iopub.status.idle": "2022-02-28T09:46:16.789000Z",
     "shell.execute_reply": "2022-02-28T09:46:16.789000Z"
    },
    "jupyter": {
     "outputs_hidden": true
    },
    "tags": []
   },
   "outputs": [],
   "source": [
    "tend = 2000.0\n",
    "\n",
    "u0 = LVector(g3p = 2.8μM,\n",
    "             pyr = 8.5μM,\n",
    "             nadh_c = 1μM,\n",
    "             nadh_m = 60μM,\n",
    "             atp_c = 4000μM,\n",
    "             adp_c = 500μM,\n",
    "             ca_m = 0.250μM,\n",
    "             dpsi = 100mV,\n",
    "             x2 = 0.2,\n",
    "             x3 = 0.05)\n",
    "param = setglc(MitoDynNode(), 10mM)\n",
    "sssol = solve(SteadyStateProblem(model!, u0, param), DynamicSS(Rodas5(), tspan=tend))"
   ]
  },
  {
   "cell_type": "code",
   "execution_count": null,
   "id": "58c13f6a-a7a8-477d-8b29-154d48f95d52",
   "metadata": {
    "execution": {
     "iopub.execute_input": "2022-02-28T09:46:16.794000Z",
     "iopub.status.busy": "2022-02-28T09:46:16.792000Z",
     "iopub.status.idle": "2022-02-28T09:46:34.602000Z",
     "shell.execute_reply": "2022-02-28T09:46:34.602000Z"
    },
    "jupyter": {
     "outputs_hidden": true
    },
    "tags": []
   },
   "outputs": [],
   "source": [
    "caavg = cacyto(sssol.u[:adp_c], sssol.u[:atp_c], param, nothing)\n",
    "\n",
    "pOsc = @set param.cai = CaOsciSmooth(ka_ca=(caavg - 0.09μM) * 1.5)\n",
    "\n",
    "sol = solve(ODEProblem(model!, sssol.u, tend, pOsc))"
   ]
  },
  {
   "cell_type": "code",
   "execution_count": null,
   "id": "f8a1bbad-3b20-4764-93b9-86177b70c796",
   "metadata": {
    "execution": {
     "iopub.execute_input": "2022-02-28T09:46:34.605000Z",
     "iopub.status.busy": "2022-02-28T09:46:34.605000Z",
     "iopub.status.idle": "2022-02-28T09:46:34.914000Z",
     "shell.execute_reply": "2022-02-28T09:46:34.914000Z"
    }
   },
   "outputs": [],
   "source": [
    "# Same legend box for twin plots\n",
    "# https://stackoverflow.com/questions/5484922/secondary-axis-with-twinx-how-to-add-to-legend\n",
    "\n",
    "function plottwin!(ax, ts, ys, cac; title=\"\", ylabel=\"\", xlabel=\"Time (minute)\", ylim=(), label=\"\")\n",
    "    ax.set_title(title, loc=\"left\")\n",
    "    ax.set_ylabel(ylabel)\n",
    "    ax.set_xlabel(xlabel)\n",
    "    isempty(ylim) || ax.set_ylim(ylim...)\n",
    "    lx = ax.plot(ts, ys, \"k-\")\n",
    "    axca = ax.twinx()\n",
    "    lca = axca.plot(ts, cac, \"b--\")\n",
    "    axca.set_ylabel(\"Calcium (μM)\")\n",
    "    axca.set_ylim(0.0, 1.0)\n",
    "    ax.legend([first(lx), first(lca)], [label, \"Ca (c)\"], loc=\"upper left\")\n",
    "    return ax\n",
    "end"
   ]
  },
  {
   "cell_type": "code",
   "execution_count": null,
   "id": "3242e385-2cde-434e-a501-faa9f09c202e",
   "metadata": {
    "execution": {
     "iopub.execute_input": "2022-02-28T09:46:34.916000Z",
     "iopub.status.busy": "2022-02-28T09:46:34.916000Z",
     "iopub.status.idle": "2022-02-28T09:46:35.041000Z",
     "shell.execute_reply": "2022-02-28T09:46:35.041000Z"
    }
   },
   "outputs": [],
   "source": [
    "function plot_fig5(sol; ts = LinRange(1520, tend, 200), figsize=(10,12))\n",
    "\n",
    "    g3p = sol.(ts, idxs=1)\n",
    "    pyr = sol.(ts, idxs=2)\n",
    "    nadh_c = sol.(ts, idxs=3)\n",
    "    nadh_m = sol.(ts, idxs=4)\n",
    "    atp_c = sol.(ts, idxs=5)\n",
    "    adp_c = sol.(ts, idxs=6)\n",
    "    # amp_c = ampcyto.(adp_c, atp_c, Ref(param))\n",
    "    ca_m = sol.(ts, idxs=7)\n",
    "    dpsi = sol.(ts, idxs=8)\n",
    "    x2 = sol.(ts, idxs=9)\n",
    "    x3 = sol.(ts, idxs=10)\n",
    "    x1 = getx1.(x2, x3)\n",
    "    ca_c = pOsc.cai.(ts)\n",
    "\n",
    "    td = atp_c ./ adp_c\n",
    "    avgDeg = avgdeg.(x2, x3, x1)\n",
    "    \n",
    "    # Convert mM to μM\n",
    "    for arr in (g3p, pyr, nadh_c, nadh_m, ca_m, ca_c, atp_c, adp_c, dpsi)\n",
    "        arr .*= 1000\n",
    "    end\n",
    "\n",
    "    # Convert sec to min\n",
    "    tsm = ts ./ 60\n",
    "\n",
    "    fig, ax = plt.subplots(6, 1, figsize=figsize)\n",
    "\n",
    "    ax[1].plot(tsm, ca_c, label=\"Ca(c)\")\n",
    "    ax[1].plot(tsm, ca_m, label=\"Ca(m)\")\n",
    "    ax[1].set_title(\"A\", loc=\"left\")\n",
    "    ax[1].set_ylabel(\"Conc. (μM)\")\n",
    "    # ax[1].set_xlabel(\"Time (minute)\")\n",
    "    ax[1].set_ylim(0.0, 1.0)\n",
    "    ax[1].set_xlim(tsm[1], tsm[end])\n",
    "    ax[1].legend(loc=\"right\")\n",
    "\n",
    "    ax[2].plot(tsm, g3p, label=\"G3P\")\n",
    "    ax[2].plot(tsm, nadh_c, label=\"NADH(c)\")\n",
    "    ax[2].set_title(\"B\", loc=\"left\")\n",
    "    ax[2].set_ylabel(\"Conc. (μM)\")\n",
    "    # ax[2].set_ylim()\n",
    "    ax[2].set_xlim(tsm[1], tsm[end])\n",
    "    ax[2].legend(loc=\"right\")\n",
    "\n",
    "\n",
    "    ax[3].plot(tsm, pyr, label=\"Pyr\")\n",
    "    ax[3].plot(tsm, nadh_m, label=\"NADH(m)\")\n",
    "    ax[3].set_title(\"C\", loc=\"left\")\n",
    "    ax[3].set_ylabel(\"Conc. (μM)\")\n",
    "    ax[3].set_xlim(tsm[1], tsm[end])\n",
    "    ax[3].legend(loc=\"right\")\n",
    "\n",
    "    ax[4].plot(tsm, td, label=\"ATP:ADP\")\n",
    "    ax[4].set_title(\"D\", loc=\"left\")\n",
    "    ax[4].set_ylabel(\"a.u.\")\n",
    "    ax[4].set_xlim(tsm[1], tsm[end])\n",
    "    ax[4].legend(loc=\"right\")\n",
    "\n",
    "    ax[5].plot(tsm, dpsi, label=\"ΔΨ\")\n",
    "    ax[5].set_title(\"E\", loc=\"left\")\n",
    "    ax[5].set_ylabel(\"mV\")\n",
    "    ax[5].set_xlim(tsm[1], tsm[end])\n",
    "    ax[5].legend(loc=\"right\")\n",
    "\n",
    "    ax[6].plot(tsm, avgDeg, label=\"<k>\")\n",
    "    ax[6].set_title(\"F\", loc=\"left\")\n",
    "    ax[6].set_ylabel(\"a.u.\")\n",
    "    ax[6].set_xlim(tsm[1], tsm[end])\n",
    "    ax[6].legend(loc=\"right\")\n",
    "    ax[6].set_xlabel(\"Time (minute)\")\n",
    "    plt.tight_layout()\n",
    "\n",
    "    fig\n",
    "end"
   ]
  },
  {
   "cell_type": "code",
   "execution_count": null,
   "id": "a707e3c5-7480-4f1b-9b8b-402c75c247d5",
   "metadata": {
    "execution": {
     "iopub.execute_input": "2022-02-28T09:46:35.044000Z",
     "iopub.status.busy": "2022-02-28T09:46:35.044000Z",
     "iopub.status.idle": "2022-02-28T09:46:41.386000Z",
     "shell.execute_reply": "2022-02-28T09:46:41.386000Z"
    }
   },
   "outputs": [],
   "source": [
    "fig5 = plot_fig5(sol);"
   ]
  },
  {
   "cell_type": "code",
   "execution_count": null,
   "id": "64e8c275-d699-458e-8e70-0997863b42a3",
   "metadata": {
    "execution": {
     "iopub.execute_input": "2022-02-28T09:46:41.388000Z",
     "iopub.status.busy": "2022-02-28T09:46:41.388000Z",
     "iopub.status.idle": "2022-02-28T09:46:41.388000Z",
     "shell.execute_reply": "2022-02-28T09:46:41.388000Z"
    }
   },
   "outputs": [],
   "source": [
    "# Uncomment to generate the pdf file \n",
    "# fig5.savefig(\"Fig5.pdf\")"
   ]
  }
 ],
 "metadata": {
  "kernelspec": {
   "display_name": "Julia 1.7.2",
   "language": "julia",
   "name": "julia-1.7"
  },
  "language_info": {
   "file_extension": ".jl",
   "mimetype": "application/julia",
   "name": "julia",
   "version": "1.7.2"
  }
 },
 "nbformat": 4,
 "nbformat_minor": 5
}
