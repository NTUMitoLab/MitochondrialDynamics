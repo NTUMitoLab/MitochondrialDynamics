{
 "cells": [
  {
   "cell_type": "markdown",
   "id": "b33a8e1d-f2db-4c78-b4f2-25908c0720aa",
   "metadata": {},
   "source": [
    "# Figure 6 and 7"
   ]
  },
  {
   "cell_type": "code",
   "execution_count": null,
   "id": "0c16753e-2ba8-47f2-a2d8-e37ade895535",
   "metadata": {
    "execution": {
     "iopub.execute_input": "2022-02-28T09:45:12.364000Z",
     "iopub.status.busy": "2022-02-28T09:45:11.615000Z",
     "iopub.status.idle": "2022-02-28T09:45:35.800000Z",
     "shell.execute_reply": "2022-02-28T09:45:35.756000Z"
    }
   },
   "outputs": [],
   "source": [
    "using DifferentialEquations\n",
    "using ModelingToolkit\n",
    "using MitochondrialDynamics\n",
    "using MitochondrialDynamics: GlcConst, VmaxPDH, pHleak, VmaxF1, VmaxETC, J_ANT, J_HL\n",
    "using MitochondrialDynamics: G3P, Pyr, NADH_c, NADH_m, Ca_c, Ca_m, ΔΨm, ATP_c, ADP_c, degavg\n",
    "using MitochondrialDynamics.Utils: second, μM, mV, mM, Hz, minute\n",
    "\n",
    "using Plots\n",
    "pyplot()\n",
    "Plots.pyrcparams[\"font.size\"] = 14\n",
    "Plots.pyrcparams[\"font.sans-serif\"] = \"Arial\"\n",
    "Plots.pyrcparams[\"font.family\"] = \"sans-serif\""
   ]
  },
  {
   "cell_type": "code",
   "execution_count": null,
   "id": "b794b413-43a4-45d9-9540-058539e29df8",
   "metadata": {
    "execution": {
     "iopub.execute_input": "2022-02-28T09:45:36.078000Z",
     "iopub.status.busy": "2022-02-28T09:45:35.803000Z",
     "iopub.status.idle": "2022-02-28T09:45:37.845000Z",
     "shell.execute_reply": "2022-02-28T09:45:37.845000Z"
    }
   },
   "outputs": [],
   "source": [
    "glc = range(3.0mM, 30.0mM, length=301)\n",
    "tend = 50minute\n",
    "@named sys = make_model()\n",
    "prob = SteadyStateProblem(sys, DEFAULT_U0)"
   ]
  },
  {
   "cell_type": "markdown",
   "id": "7d8dca30",
   "metadata": {},
   "source": [
    "## Figure 6"
   ]
  },
  {
   "cell_type": "code",
   "execution_count": null,
   "id": "dd7f0cea-c95b-47fc-b888-01c3275b3223",
   "metadata": {
    "execution": {
     "iopub.execute_input": "2022-02-28T09:45:37.849000Z",
     "iopub.status.busy": "2022-02-28T09:45:37.849000Z",
     "iopub.status.idle": "2022-02-28T09:46:23.152000Z",
     "shell.execute_reply": "2022-02-28T09:46:23.152000Z"
    }
   },
   "outputs": [],
   "source": [
    "idxGlc = findfirst(isequal(GlcConst), parameters(sys))\n",
    "idxVmaxPDH = findfirst(isequal(VmaxPDH), parameters(sys))\n",
    "idxpHleak = findfirst(isequal(pHleak), parameters(sys))\n",
    "idxVmaxF1 = findfirst(isequal(VmaxF1), parameters(sys))\n",
    "idxVmaxETC = findfirst(isequal(VmaxETC), parameters(sys))\n",
    "\n",
    "function make_dm_prob(prob; rPDH=0.5, rETC=0.75, rHL=1.4, rF1=0.5)\n",
    "    newparams = copy(prob.p)\n",
    "    newparams[idxVmaxPDH] = prob.p[idxVmaxPDH] * rPDH\n",
    "    newparams[idxpHleak] = prob.p[idxpHleak] * rHL\n",
    "    newparams[idxVmaxF1] = prob.p[idxVmaxF1] * rF1\n",
    "    newparams[idxVmaxETC] = prob.p[idxVmaxETC] * rETC\n",
    "    return remake(prob, p=newparams)\n",
    "end\n",
    "\n",
    "function make_rotenone_prob(prob; rETC=0.1)\n",
    "    newparams = copy(prob.p)\n",
    "    newparams[idxVmaxETC] = prob.p[idxVmaxETC] * rETC\n",
    "    return remake(prob, p=newparams)\n",
    "end\n",
    "\n",
    "function make_oligomycin_prob(prob; rF1=0.1)\n",
    "    newparams = copy(prob.p)\n",
    "    newparams[idxVmaxF1] = prob.p[idxVmaxF1] * rF1\n",
    "    return remake(prob, p=newparams)\n",
    "end\n",
    "\n",
    "function make_fccp_prob(prob; rHL=5)\n",
    "    newparams = copy(prob.p)\n",
    "    newparams[idxpHleak] = prob.p[idxpHleak] * rHL\n",
    "    return remake(prob, p=newparams)\n",
    "end"
   ]
  },
  {
   "cell_type": "code",
   "execution_count": null,
   "id": "ce9cb592",
   "metadata": {},
   "outputs": [],
   "source": [
    "prob_dm = make_dm_prob(sys, prob)\n",
    "\n",
    "sols = map(glc) do g\n",
    "    p = copy(prob.p)\n",
    "    p[idxGlc] = g\n",
    "    solve(remake(prob; p=p), DynamicSS(Rodas5()))\n",
    "end\n",
    "\n",
    "solsDM = map(glc) do g\n",
    "    p = copy(prob_dm.p)\n",
    "    p[idxGlc] = g\n",
    "    solve(remake(prob_dm; p=p), DynamicSS(Rodas5()))\n",
    "end\n",
    "\n",
    "glc5 = glc ./ 5"
   ]
  },
  {
   "cell_type": "code",
   "execution_count": null,
   "id": "37ace9ea",
   "metadata": {},
   "outputs": [],
   "source": [
    "g3p = [getindex.(sols, G3P) getindex.(solsDM, G3P)] .* 1000\n",
    "pyr = [getindex.(sols, Pyr) getindex.(solsDM, Pyr)] .* 1000\n",
    "nadh_c = [getindex.(sols, NADH_c) getindex.(solsDM, NADH_c)] .* 1000\n",
    "nadh_m = [getindex.(sols, NADH_m) getindex.(solsDM, NADH_m)] .* 1000\n",
    "ca_c = [getindex.(sols, Ca_c) getindex.(solsDM, Ca_c)] .* 1000\n",
    "ca_m = [getindex.(sols, Ca_m) getindex.(solsDM, Ca_m)] .* 1000\n",
    "dpsi = [getindex.(sols, ΔΨm) getindex.(solsDM, ΔΨm)] .* 1000\n",
    "td = [getindex.(sols, ATP_c) ./ getindex.(sols, ADP_c) getindex.(solsDM, ATP_c) ./ getindex.(solsDM, ADP_c)]\n",
    "avgDeg = [getindex.(sols, degavg) getindex.(solsDM, degavg)]"
   ]
  },
  {
   "cell_type": "code",
   "execution_count": null,
   "id": "5f02ca70",
   "metadata": {},
   "outputs": [],
   "source": [
    "pl1 = plot(glc5, g3p; labels=[\"Baseline\" \"Diabetic\"],\n",
    "    legend=:right, ylabel=\"Conc. (μM)\", title=\"G3P\", titlelocation=:left)\n",
    "pl2 = plot(glc5, pyr; labels=[\"Baseline\" \"Diabetic\"],\n",
    "    legend=:right, ylabel=\"Conc. (μM)\", title=\"(A) Pyruvate\", titlelocation=:left)\n",
    "pl3 = plot(glc5, nadh_c; labels=[\"Baseline\" \"Diabetic\"],\n",
    "    legend=:right, ylabel=\"Conc. (μM)\", title=\"(B) Cytosolic NADH\", titlelocation=:left)\n",
    "pl4 = plot(glc5, nadh_m; labels=[\"Baseline\" \"Diabetic\"],\n",
    "    legend=:right, ylabel=\"Conc. (μM)\", title=\"(C) Mitochondrial NADH\", titlelocation=:left)\n",
    "pl5 = plot(glc5, ca_c; labels=[\"Baseline\" \"Diabetic\"],\n",
    "    legend=:bottomright, ylabel=\"Conc. (μM)\", title=\"(D) Cytosolic Ca\", titlelocation=:left)\n",
    "pl6 = plot(glc5, ca_m; labels=[\"Baseline\" \"Diabetic\"],\n",
    "    legend=:bottomright, ylabel=\"Conc. (μM)\", title=\"(E) Mitochondrial Ca\", titlelocation=:left)\n",
    "pl7 = plot(glc5, dpsi; labels=[\"Baseline\" \"Diabetic\"],\n",
    "    legend=:right, ylabel=\"ΔΨ (mV)\", title=\"(F) Mitochondrial membrane potential\", titlelocation=:left)\n",
    "pl8 = plot(glc5, td; labels=[\"Baseline\" \"Diabetic\"],\n",
    "    legend=:bottomright, ylabel=\"\", title=\"(G) ATP:ADP\", titlelocation=:left)\n",
    "pl9 = plot(glc5, avgDeg; labels=[\"Baseline\" \"Diabetic\"],\n",
    "    legend=:right, ylabel=\"\", title=\"(H) Average node degree\", titlelocation=:left)\n",
    "\n",
    "plot(pl1, pl2, pl3, pl4, pl5, pl6, pl7, pl8, pl9;\n",
    "    size=(2000, 1000))"
   ]
  },
  {
   "cell_type": "code",
   "execution_count": null,
   "id": "33050535-221d-461e-a0fa-b4c651715913",
   "metadata": {
    "execution": {
     "iopub.execute_input": "2022-02-28T09:46:33.226000Z",
     "iopub.status.busy": "2022-02-28T09:46:33.225000Z",
     "iopub.status.idle": "2022-02-28T09:46:33.243000Z",
     "shell.execute_reply": "2022-02-28T09:46:33.242000Z"
    }
   },
   "outputs": [],
   "source": [
    "# Uncomment to generate pdf file\n",
    "# savefig(\"Fig6.pdf\")"
   ]
  },
  {
   "cell_type": "markdown",
   "id": "51302e50",
   "metadata": {},
   "source": [
    "## Figure 7"
   ]
  },
  {
   "cell_type": "code",
   "execution_count": null,
   "id": "c2731674",
   "metadata": {},
   "outputs": [],
   "source": [
    "prob_fccp = make_fccp_prob(prob)\n",
    "prob_rotenone = make_rotenone_prob(prob)\n",
    "prob_oligomycin = make_oligomycin_prob(prob)\n",
    "\n",
    "solsFCCP = map(glc) do g\n",
    "    p = copy(prob_fccp.p)\n",
    "    p[idxGlc] = g\n",
    "    solve(remake(prob_fccp; p=p), DynamicSS(Rodas5()))\n",
    "end\n",
    "\n",
    "solsRot = map(glc) do g\n",
    "    p = copy(prob_rotenone.p)\n",
    "    p[idxGlc] = g\n",
    "    solve(remake(prob_rotenone; p=p), DynamicSS(Rodas5()))\n",
    "end\n",
    "\n",
    "solsOligo = map(glc) do g\n",
    "    p = copy(prob_oligomycin.p)\n",
    "    p[idxGlc] = g\n",
    "    solve(remake(prob_oligomycin; p=p), DynamicSS(Rodas5()))\n",
    "end;\n"
   ]
  },
  {
   "cell_type": "code",
   "execution_count": null,
   "id": "7bedfe83",
   "metadata": {},
   "outputs": [],
   "source": [
    "# Gather ATP synthesis rate (fusion) and proton leak rate (fission)\n",
    "\n",
    "jHL_baseline = getindex.(sols, J_HL)\n",
    "jANT_baseline = getindex.(sols, J_ANT)\n",
    "ff_baseline = jANT_baseline ./ jHL_baseline\n",
    "jHL_dm = getindex.(solsDM, J_HL)\n",
    "jANT_dm = getindex.(solsDM, J_ANT)\n",
    "ff_dm =  jANT_dm ./ jHL_dm \n",
    "jHL_fccp = getindex.(solsFCCP, J_HL)\n",
    "jANT_fccp = getindex.(solsFCCP, J_ANT)\n",
    "ff_fccp = jANT_fccp ./ jHL_fccp \n",
    "jHL_rot = getindex.(solsRot, J_HL)\n",
    "jANT_rot = getindex.(solsRot, J_ANT)\n",
    "ff_rot = jANT_rot ./ jHL_rot  \n",
    "jHL_oligo = getindex.(solsOligo, J_HL)\n",
    "jANT_oligo = getindex.(solsOligo, J_ANT)\n",
    "ff_oligo = jANT_oligo ./ jHL_oligo  "
   ]
  },
  {
   "cell_type": "code",
   "execution_count": null,
   "id": "1be917d8",
   "metadata": {},
   "outputs": [],
   "source": [
    "glc5 = glc ./ 5\n",
    "pl1 = plot(glc5, ff_baseline, line=(:blue, :dash), label=\"Baseline\")\n",
    "plot!(pl1, glc5, ff_dm, line=(:red, :dash), label=\"Diabetic\")\n",
    "plot!(pl1, glc5, ff_rot, line=(:green, :dash), label=\"Rotenone\")\n",
    "plot!(pl1, glc5, ff_oligo, line=(:cyan, :dash), label=\"Oligomycin\")\n",
    "plot!(pl1, glc5, ff_fccp, line=(:black, :dash), label=\"Uncoupler\")\n",
    "plot!(pl1, xlabel=\"Glucose (X)\", ylabel=\"Fusion rate / Fission rate\", xlim=(0.0, 6.0), ylim=(0.0, 2.5), title=\"(A)\", titlelocation=:left)"
   ]
  },
  {
   "cell_type": "code",
   "execution_count": null,
   "id": "6b31bbd9",
   "metadata": {},
   "outputs": [],
   "source": [
    "pl2 = plot(jHL_baseline, jANT_baseline, line=(:blue, :dash), label=\"Baseline\")\n",
    "scatter!(pl2, jHL_baseline[begin:10:end], jANT_baseline[begin:10:end], marker = (:blue, 1), lab=false)\n",
    "plot!(pl2, jHL_dm, jANT_dm, line=(:red, :dash), label=\"Diabetic\")\n",
    "scatter!(pl2, jHL_dm[begin:10:end], jANT_dm[begin:10:end], marker = (:red, 1), lab=false)\n",
    "plot!(pl2, jHL_rot, jANT_rot, line=(:green, :dash), label=\"Rotenone\")\n",
    "scatter!(pl2, jHL_rot[begin:10:end], jANT_rot[begin:10:end], marker = (:green, 1), lab=false)\n",
    "plot!(pl2, jHL_oligo, jANT_oligo, line=(:cyan, :dash), label=\"Oligomycin\")\n",
    "scatter!(pl2, jHL_oligo[begin:10:end], jANT_oligo[begin:10:end], marker = (:cyan, 1), lab=false)\n",
    "plot!(pl2, jHL_fccp, jANT_fccp, line=(:black, :dash), label=\"Uncoupler\")\n",
    "scatter!(pl2, jHL_fccp[begin:10:end], jANT_fccp[begin:10:end], marker = (:black, 1), lab=false)\n",
    "plot!(pl2, xlabel=\"Proton leak rate (mM/s)\", ylabel=\"ATP synthase rate (mM/s)\", xlim=(0.0, 0.45), ylim=(0.0,0.15), title=\"(B)\", titlelocation=:left)"
   ]
  },
  {
   "cell_type": "code",
   "execution_count": null,
   "id": "a6a6e81e",
   "metadata": {},
   "outputs": [],
   "source": [
    "plot(pl1, pl2, size=(1200, 600))"
   ]
  },
  {
   "cell_type": "code",
   "execution_count": null,
   "id": "fdcd5bc3",
   "metadata": {},
   "outputs": [],
   "source": [
    "# Uncomment to generate pdf figure\n",
    "# savefig(\"Fig7.pdf\")"
   ]
  }
 ],
 "metadata": {
  "kernelspec": {
   "display_name": "Julia 1.7.2",
   "language": "julia",
   "name": "julia-1.7"
  },
  "language_info": {
   "file_extension": ".jl",
   "mimetype": "application/julia",
   "name": "julia",
   "version": "1.7.2"
  }
 },
 "nbformat": 4,
 "nbformat_minor": 5
}
