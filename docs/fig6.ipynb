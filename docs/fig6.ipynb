{
 "cells": [
  {
   "cell_type": "markdown",
   "id": "b33a8e1d-f2db-4c78-b4f2-25908c0720aa",
   "metadata": {},
   "source": [
    "# Figure 6"
   ]
  },
  {
   "cell_type": "code",
   "execution_count": null,
   "id": "0c16753e-2ba8-47f2-a2d8-e37ade895535",
   "metadata": {
    "execution": {
     "iopub.execute_input": "2022-02-28T09:45:12.364000Z",
     "iopub.status.busy": "2022-02-28T09:45:11.615000Z",
     "iopub.status.idle": "2022-02-28T09:45:35.800000Z",
     "shell.execute_reply": "2022-02-28T09:45:35.756000Z"
    }
   },
   "outputs": [],
   "source": [
    "using DifferentialEquations\n",
    "using LabelledArrays\n",
    "using Parameters\n",
    "using Setfield\n",
    "using MitochondrialDynamics\n",
    "import MitochondrialDynamics.Utils: second, μM, mV, mM, Hz, minute\n",
    "\n",
    "# Plotting\n",
    "import PyPlot as plt\n",
    "rcParams = plt.PyDict(plt.matplotlib.\"rcParams\")\n",
    "rcParams[\"font.size\"] = 14\n",
    "rcParams[\"font.sans-serif\"] = \"Arial\"\n",
    "rcParams[\"font.family\"] = \"sans-serif\""
   ]
  },
  {
   "cell_type": "code",
   "execution_count": null,
   "id": "b794b413-43a4-45d9-9540-058539e29df8",
   "metadata": {
    "execution": {
     "iopub.execute_input": "2022-02-28T09:45:36.078000Z",
     "iopub.status.busy": "2022-02-28T09:45:35.803000Z",
     "iopub.status.idle": "2022-02-28T09:45:37.845000Z",
     "shell.execute_reply": "2022-02-28T09:45:37.845000Z"
    }
   },
   "outputs": [],
   "source": [
    "glc = range(3.0mM, 30.0mM, length=301)\n",
    "\n",
    "tend = 50minute\n",
    "\n",
    "u0 = LVector(g3p = 2.8μM,\n",
    "             pyr = 8.5μM,\n",
    "             nadh_c = 1μM,\n",
    "             nadh_m = 60μM,\n",
    "             atp_c = 4000μM,\n",
    "             adp_c = 500μM,\n",
    "             ca_m = 0.250μM,\n",
    "             dpsi = 100mV,\n",
    "             x2 = 0.20,\n",
    "             x3 = 0.05)\n",
    "\n",
    "# Baseline parameters\n",
    "param = MitoDynNode()"
   ]
  },
  {
   "cell_type": "code",
   "execution_count": null,
   "id": "dd7f0cea-c95b-47fc-b888-01c3275b3223",
   "metadata": {
    "execution": {
     "iopub.execute_input": "2022-02-28T09:45:37.849000Z",
     "iopub.status.busy": "2022-02-28T09:45:37.849000Z",
     "iopub.status.idle": "2022-02-28T09:46:23.152000Z",
     "shell.execute_reply": "2022-02-28T09:46:23.152000Z"
    }
   },
   "outputs": [],
   "source": [
    "# Diabetic Parameters\n",
    "paramDM = let rPDH = 0.5, rETC = 0.75, rHL  = 1.4, rF1  = 0.5\n",
    "    p = @set param.pdh.VMAX *= rPDH\n",
    "    p = @set p.hleak.P_H *= rHL\n",
    "    p = @set p.f1fo.VMAX *= rF1\n",
    "    p = @set p.etc.VMAX *= rETC\n",
    "end\n",
    "\n",
    "function solve_ssens(param)\n",
    "    ssprob = SteadyStateProblem(model!, u0, param)\n",
    "    eprob =  EnsembleProblem(ssprob,prob_func=(prob, i, r) -> remake(prob, p=setglc(prob.p, glc[i])))\n",
    "    esol = solve(eprob, DynamicSS(Rodas5(), tspan=tend), EnsembleThreads(), trajectories=length(glc))\n",
    "    return esol\n",
    "end\n",
    "\n",
    "sim = solve_ssens(param)\n",
    "simDM = solve_ssens(paramDM)"
   ]
  },
  {
   "cell_type": "code",
   "execution_count": null,
   "id": "b88936ff-c7f4-4db2-8e50-315962004754",
   "metadata": {
    "execution": {
     "iopub.execute_input": "2022-02-28T09:46:23.157000Z",
     "iopub.status.busy": "2022-02-28T09:46:23.155000Z",
     "iopub.status.idle": "2022-02-28T09:46:23.693000Z",
     "shell.execute_reply": "2022-02-28T09:46:23.692000Z"
    }
   },
   "outputs": [],
   "source": [
    "function plot_cont!(ax, glc5, ys;\n",
    "                    labels=[\"Baseline\", \"Diabetic\"], ylabel=\"\", xlabel=\"Glucose (X)\", title=\"\",\n",
    "                    xlims=(), ylims=())\n",
    "    ax.plot(glc5, ys)\n",
    "    ax.legend(labels)\n",
    "    ax.set(ylabel=ylabel, xlabel=xlabel)\n",
    "    ax.set_title(title, loc=\"left\")\n",
    "    isempty(xlims) || ax.set_xlim(xlims...)\n",
    "    isempty(ylims) || ax.set_ylim(ylims...)\n",
    "    return ax\n",
    "end\n",
    "\n",
    "function plot_fig6(sim, simDM, glc, param; figsize=(20,10), glcscale=5.0)\n",
    "    glc5    = glc ./ glcscale\n",
    "    g3p     = [sim[1, :] simDM[1, :]]\n",
    "    pyr     = [sim[2, :] simDM[2, :]]\n",
    "    nadh_c  = [sim[3, :] simDM[3, :]]\n",
    "    nadh_m  = [sim[4, :] simDM[4, :]]\n",
    "    atp_c   = [sim[5, :] simDM[5, :]]\n",
    "    adp_c   = [sim[6, :] simDM[6, :]]\n",
    "    td      = atp_c ./ adp_c\n",
    "    ca_m    = [sim[7, :] simDM[7, :]]\n",
    "    dpsi    = [sim[8, :] simDM[8, :]]\n",
    "    x2      = [sim[9, :] simDM[9, :]]\n",
    "    x3      = [sim[10, :] simDM[10, :]]\n",
    "    x1      = getx1.(x2, x3)\n",
    "    ca_c    = param.cai.(adp_c, atp_c, nothing)\n",
    "    avgDeg = avgdeg.(x2, x3, x1)\n",
    "    x13 = x1 ./ x3\n",
    "\n",
    "    # mM -> μM\n",
    "    for arr in (g3p, pyr, nadh_c, nadh_m, atp_c, adp_c, ca_m, ca_c, dpsi)\n",
    "        arr .*= 1000\n",
    "    end\n",
    "\n",
    "    fig, axs = plt.subplots(2, 4, figsize=figsize)\n",
    "\n",
    "    plot_cont!(axs[1, 1], glc5, pyr, ylabel=\"Conc. (μM)\", title=\"(A) Pyruvate\")\n",
    "    plot_cont!(axs[1, 2], glc5, nadh_c, ylabel=\"Conc. (μM)\", title=\"(B) Cytosolic NADH\")\n",
    "    plot_cont!(axs[1, 3], glc5, nadh_m, ylabel=\"Conc. (μM)\", title=\"(C) Mitochondrial NADH\")\n",
    "    plot_cont!(axs[1, 4], glc5, ca_c, ylabel=\"Conc. (μM)\", title=\"(D) Cytosolic Ca\")\n",
    "    plot_cont!(axs[2, 1], glc5, ca_m, ylabel=\"Conc. (μM)\", title=\"(E) Mitochondrial Ca\")\n",
    "    plot_cont!(axs[2, 2], glc5, dpsi, ylabel=\"ΔΨ (mV)\", title=\"(F) ΔΨ\")\n",
    "    plot_cont!(axs[2, 3], glc5, td, title=\"(G) ATP:ADP\")\n",
    "    plot_cont!(axs[2, 4], glc5, avgDeg, title=\"(H) Average node degree\")\n",
    "    # plot_cont!(axs[3, 3], glc5, x13, ylabel=\"X1/X3 ratio\", title=\"I\")\n",
    "\n",
    "    plt.tight_layout()\n",
    "    return fig\n",
    "end"
   ]
  },
  {
   "cell_type": "code",
   "execution_count": null,
   "id": "9da60015-ff35-4fb6-ad30-aa1c5250315b",
   "metadata": {
    "execution": {
     "iopub.execute_input": "2022-02-28T09:46:23.697000Z",
     "iopub.status.busy": "2022-02-28T09:46:23.695000Z",
     "iopub.status.idle": "2022-02-28T09:46:33.222000Z",
     "shell.execute_reply": "2022-02-28T09:46:33.222000Z"
    }
   },
   "outputs": [],
   "source": [
    "fig6 = plot_fig6(sim, simDM, glc, param,  figsize=(16,8))"
   ]
  },
  {
   "cell_type": "code",
   "execution_count": null,
   "id": "33050535-221d-461e-a0fa-b4c651715913",
   "metadata": {
    "execution": {
     "iopub.execute_input": "2022-02-28T09:46:33.226000Z",
     "iopub.status.busy": "2022-02-28T09:46:33.225000Z",
     "iopub.status.idle": "2022-02-28T09:46:33.243000Z",
     "shell.execute_reply": "2022-02-28T09:46:33.242000Z"
    }
   },
   "outputs": [],
   "source": [
    "# Uncomment to generate pdf file\n",
    "# fig6.savefig(\"Fig6.pdf\")"
   ]
  }
 ],
 "metadata": {
  "kernelspec": {
   "display_name": "Julia 1.7.2",
   "language": "julia",
   "name": "julia-1.7"
  },
  "language_info": {
   "file_extension": ".jl",
   "mimetype": "application/julia",
   "name": "julia",
   "version": "1.7.2"
  }
 },
 "nbformat": 4,
 "nbformat_minor": 5
}
