{
 "cells": [
  {
   "cell_type": "markdown",
   "metadata": {},
   "source": [
    "# Free fatty acid and galactose treatment\n",
    "\n",
    "- Free fatty acid: adding more citric acid cycle (CAC) flux\n",
    "- Galactose: Tweak the stoichiometry so that glycolysis yields no ATP."
   ]
  },
  {
   "cell_type": "code",
   "execution_count": null,
   "metadata": {},
   "outputs": [],
   "source": [
    "using DifferentialEquations\n",
    "using ModelingToolkit\n",
    "using MitochondrialDynamics\n",
    "using MitochondrialDynamics: GlcConst, G3P, Pyr, NADH_c, NADH_m, ATP_c, ADP_c, AMP_c, Ca_m, Ca_c, x, ΔΨm, degavg, J_CAC\n",
    "import MitochondrialDynamics.Utils: second, μM, mV, mM, Hz\n",
    "import PyPlot as plt\n",
    "rcParams = plt.PyDict(plt.matplotlib.\"rcParams\")\n",
    "rcParams[\"font.size\"] = 14\n",
    "# rcParams[\"font.sans-serif\"] = \"Arial\"\n",
    "# rcParams[\"font.family\"] = \"sans-serif\""
   ]
  },
  {
   "cell_type": "code",
   "execution_count": null,
   "metadata": {},
   "outputs": [],
   "source": [
    "@named sys = make_model()\n",
    "\n",
    "pidx = Dict(k => i for (i, k) in enumerate(parameters(sys)))\n",
    "idxGlc = pidx[GlcConst]\n",
    "\n",
    "# Empty array = using default u0\n",
    "prob = SteadyStateProblem(sys, [])\n",
    "sol = solve(prob)"
   ]
  },
  {
   "cell_type": "code",
   "execution_count": null,
   "metadata": {},
   "outputs": [],
   "source": [
    "glc = range(3.0mM, 30.0mM, length=101)  # Range of glucose\n",
    "\n",
    "function remake_glc(prob, g)\n",
    "    p = copy(prob.p)\n",
    "    p[idxGlc] = g\n",
    "    remake(prob; p=p)\n",
    "end\n",
    "\n",
    "sols = map(glc) do g\n",
    "    solve(remake_glc(prob, g), DynamicSS(Rodas5()))\n",
    "end\n",
    "\n",
    "# Additional CAC flux: 3.4 μM/s\n",
    "@named sysffa = make_model(j_ffa=sol[J_CAC] * 0.5)\n",
    "probffa = SteadyStateProblem(sysffa, [])\n",
    "solsffa = map(glc) do g\n",
    "    solve(remake_glc(probffa, g), DynamicSS(Rodas5()))\n",
    "end\n",
    "\n",
    "# Additional CAC flux: 3.4 μM/s\n",
    "@named sys_gal = make_model(gk_atp_stoich=4)\n",
    "prob_gal = SteadyStateProblem(sys_gal, [])\n",
    "sols_gal = map(glc) do g\n",
    "    solve(remake_glc(prob_gal, g), DynamicSS(Rodas5()))\n",
    "end"
   ]
  },
  {
   "cell_type": "code",
   "execution_count": null,
   "metadata": {},
   "outputs": [],
   "source": [
    "extract(sols, k) = map(s -> s[k], sols)\n",
    "\n",
    "function plot_ffa(\n",
    "    sols, solsffa, glc;\n",
    "    figsize=(12, 12),\n",
    "    tight=true,\n",
    "    labels=[\"Default\", \"FFA\"]\n",
    ")\n",
    "    glc5 = glc ./ 5\n",
    "    fig, ax = plt.subplots(3, 3; figsize)\n",
    "\n",
    "    ax[1, 1].plot(glc5, extract(sols, G3P) .* 1000, label=labels[1])\n",
    "    ax[1, 1].plot(glc5, extract(solsffa, G3P) .* 1000, label=labels[2])\n",
    "    ax[1, 1].set(title=\"(A) G3P (μM)\", ylim=(0, 10))\n",
    "\n",
    "    ax[1, 2].plot(glc5, extract(sols, Pyr) .* 1000, label=labels[1])\n",
    "    ax[1, 2].plot(glc5, extract(solsffa, Pyr) .* 1000, label=labels[2])\n",
    "    ax[1, 2].set(title=\"(B) Pyruvate (μM)\", ylim=(0, 160))\n",
    "\n",
    "    ax[1, 3].plot(glc5, extract(sols, Ca_c) .* 1000, label=labels[1])\n",
    "    ax[1, 3].plot(glc5, extract(solsffa, Ca_c) .* 1000, label=labels[2])\n",
    "    ax[1, 3].set(title=\"(C) Cytosolic Calcium (μM)\", ylim=(0.0, 0.4))\n",
    "\n",
    "    ax[2, 1].plot(glc5, extract(sols, Ca_m) .* 1000, label=labels[1])\n",
    "    ax[2, 1].plot(glc5, extract(solsffa, Ca_m) .* 1000, label=labels[2])\n",
    "    ax[2, 1].set(title=\"(D) Mitochondrial Calcium (μM)\", ylim=(0.0, 1.5))\n",
    "\n",
    "    ax[2, 2].plot(glc5, extract(sols, NADH_c) .* 1000, label=labels[1])\n",
    "    ax[2, 2].plot(glc5, extract(solsffa, NADH_c) .* 1000, label=labels[2])\n",
    "    ax[2, 2].set(title=\"(E) Cytosolic NADH (μM)\")\n",
    "\n",
    "    ax[2, 3].plot(glc5, extract(sols, NADH_m) .* 1000, label=labels[1])\n",
    "    ax[2, 3].plot(glc5, extract(solsffa, NADH_m) .* 1000, label=labels[2])\n",
    "    ax[2, 3].set(title=\"(F) Mitochondrial NADH (μM)\")\n",
    "\n",
    "    ax[3, 1].plot(glc5, extract(sols, ATP_c) ./ extract(sols, ADP_c), label=labels[1])\n",
    "    ax[3, 1].plot(glc5, extract(solsffa, ATP_c) ./ extract(solsffa, ADP_c), label=labels[2])\n",
    "    ax[3, 1].set(title=\"(G) ATP:ADP\")\n",
    "\n",
    "    ax[3, 2].plot(glc5, extract(sols, ΔΨm) .* 1000, label=labels[1])\n",
    "    ax[3, 2].plot(glc5, extract(solsffa, ΔΨm) .* 1000, label=labels[2])\n",
    "    ax[3, 2].set(title=\"(H) ΔΨ (mV)\")\n",
    "\n",
    "    ax[3, 3].plot(glc5, extract(sols, degavg), label=labels[1])\n",
    "    ax[3, 3].plot(glc5, extract(solsffa, degavg), label=labels[2])\n",
    "    ax[3, 3].set(title=\"(I) Average Degree\")\n",
    "\n",
    "    for a in ax\n",
    "        a.set_xticks(1:6)\n",
    "        a.grid()\n",
    "        a.legend()\n",
    "    end\n",
    "\n",
    "    fig.set_tight_layout(tight)\n",
    "    return fig\n",
    "end"
   ]
  },
  {
   "cell_type": "code",
   "execution_count": null,
   "metadata": {},
   "outputs": [],
   "source": [
    "fig_ffa = plot_ffa(sols, solsffa, glc; labels=[\"Default\", \"FFA\"]);"
   ]
  },
  {
   "cell_type": "code",
   "execution_count": null,
   "metadata": {},
   "outputs": [],
   "source": [
    "# Uncomment if pdf file is required\n",
    "# fig_ffa.savefig(\"Fig_FFA.tif\", dpi=300, format=\"tiff\", pil_kwargs=Dict(\"compression\" => \"tiff_lzw\"))"
   ]
  },
  {
   "cell_type": "code",
   "execution_count": null,
   "metadata": {},
   "outputs": [],
   "source": [
    "fig_gal = plot_ffa(sols, sols_gal, glc; labels=[\"Default\", \"Galactose\"]);"
   ]
  },
  {
   "cell_type": "code",
   "execution_count": null,
   "metadata": {},
   "outputs": [],
   "source": [
    "# Uncomment if pdf file is required\n",
    "# fig_gal.savefig(\"Fig_GAL.tif\", dpi=300, format=\"tiff\", pil_kwargs=Dict(\"compression\" => \"tiff_lzw\"))"
   ]
  }
 ],
 "metadata": {
  "kernelspec": {
   "display_name": "Julia 1.7.3",
   "language": "julia",
   "name": "julia-1.7"
  },
  "language_info": {
   "name": "julia"
  },
  "orig_nbformat": 4
 },
 "nbformat": 4,
 "nbformat_minor": 2
}
