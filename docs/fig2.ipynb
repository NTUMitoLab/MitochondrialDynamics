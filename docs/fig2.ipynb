{
 "cells": [
  {
   "cell_type": "markdown",
   "id": "70893e86-c77a-42e8-ae88-0940aa5f7fac",
   "metadata": {},
   "source": [
    "# Figure 2"
   ]
  },
  {
   "cell_type": "code",
   "execution_count": null,
   "id": "c84b0fb1-3862-485b-9b96-05482b68e68b",
   "metadata": {
    "tags": []
   },
   "outputs": [],
   "source": [
    "using DifferentialEquations\n",
    "using ModelingToolkit\n",
    "using MitochondrialDynamics\n",
    "using MitochondrialDynamics: GlcConst, G3P, Pyr, NADH_c, NADH_m, ATP_c, ADP_c, AMP_c, Ca_m, Ca_c, x, ΔΨm, degavg\n",
    "import MitochondrialDynamics.Utils: second, μM, mV, mM, Hz\n",
    "import PyPlot as plt\n",
    "rcParams = plt.PyDict(plt.matplotlib.\"rcParams\")\n",
    "rcParams[\"font.size\"] = 14\n",
    "rcParams[\"font.sans-serif\"] = \"Arial\"\n",
    "rcParams[\"font.family\"] = \"sans-serif\""
   ]
  },
  {
   "cell_type": "code",
   "execution_count": null,
   "id": "07e45bff-a04a-45d8-8a87-bef687e46abf",
   "metadata": {
    "tags": []
   },
   "outputs": [],
   "source": [
    "@named sys = make_model()\n",
    "\n",
    "pidx = Dict(k => i for (i, k) in enumerate(parameters(sys)))\n",
    "idxGlc = pidx[GlcConst]\n",
    "\n",
    "# Empty array = using default u0\n",
    "prob = SteadyStateProblem(sys, [])"
   ]
  },
  {
   "cell_type": "code",
   "execution_count": null,
   "id": "c881a3bb-cb7c-488a-bde6-1c4775609b19",
   "metadata": {
    "tags": []
   },
   "outputs": [],
   "source": [
    "glc = range(3.0mM, 30.0mM, length=101)  # Range of glucose\n",
    "\n",
    "function remake_glc(prob, g)\n",
    "    p = copy(prob.p)\n",
    "    p[idxGlc] = g\n",
    "    remake(prob; p=p)\n",
    "end\n",
    "\n",
    "sols = map(glc) do g\n",
    "    solve(remake_glc(prob, g), DynamicSS(Rodas5()))\n",
    "end"
   ]
  },
  {
   "cell_type": "code",
   "execution_count": null,
   "id": "0c446f8f",
   "metadata": {},
   "outputs": [],
   "source": [
    "extract(sols, k) = map(s->s[k], sols)\n",
    "\n",
    "function plot_fig2(glc, sols; size=(1200, 1200))\n",
    "    glc5 = glc ./ 5\n",
    "    g3p = extract(sols, G3P) .* 1000\n",
    "    pyr = extract(sols, Pyr) .* 1000\n",
    "    ca_c = extract(sols, Ca_c) .* 1000\n",
    "    ca_m = extract(sols, Ca_m) .* 1000\n",
    "    nadh_c = extract(sols, NADH_c) .* 1000\n",
    "    nadh_m = extract(sols, NADH_m) .* 1000\n",
    "    atp_c = extract(sols, ATP_c) .* 1000\n",
    "    adp_c = extract(sols, ADP_c) .* 1000\n",
    "    amp_c = extract(sols, AMP_c) .* 1000\n",
    "    dpsi = extract(sols, ΔΨm) .* 1000\n",
    "    x1 = extract(sols, x[1])\n",
    "    x2 = extract(sols, x[2])\n",
    "    x3 = extract(sols, x[3])\n",
    "    deg = extract(sols, degavg)\n",
    "\n",
    "    fig, ax = plt.subplots(3, 3; figsize)\n",
    "\n",
    "    ax[1, 1].plot(glc5, g3p)\n",
    "    ax[1, 1].set(title=\"(A) G3P (μM)\", ylim=(0.0, 10.0))\n",
    "    ax[1, 2].plot(glc5, pyr)\n",
    "    ax[1, 2].set(title=\"(B) Pyruvate (μM)\", ylim=(0.0, 120.0))\n",
    "    ax[1, 3].plot(glc5, ca_c, label=\"cyto\")\n",
    "    ax[1, 3].plot(glc5, ca_m, label=\"mito\")\n",
    "    ax[1, 3].legend()\n",
    "    ax[1, 3].set(title=\"(C) Calcium (μM)\", ylim=(0.0, 1.5))\n",
    "    ax[2, 1].plot(glc5, nadh_c, label=\"cyto\")\n",
    "    ax[2, 1].plot(glc5, nadh_m, label=\"mito\")\n",
    "    ax[2, 1].legend()\n",
    "    ax[2, 1].set(title=\"(D) NADH (μM)\")\n",
    "    ax[2, 2].plot(glc5, atp_c, label=\"ATP\")\n",
    "    ax[2, 2].plot(glc5, adp_c, label=\"ADP\")\n",
    "    ax[2, 2].plot(glc5, amp_c, label=\"AMP\")\n",
    "    ax[2, 2].legend()\n",
    "    ax[2, 2].set(title=\"(E) Adenylates (μM)\")\n",
    "    ax[2, 3].plot(glc5, atp_c ./ adp_c)\n",
    "    ax[2, 3].set(title=\"(F) ATP/ADP ratio\")\n",
    "    ax[3, 1].plot(glc5, dpsi, label=\"cyto\")\n",
    "    ax[3, 1].set(title=\"(G) ΔΨ (mV)\", ylim=(80, 160), xlabel=\"Glucose (X)\")\n",
    "    ax[3, 2].plot(glc5, x1, label=\"X1\")\n",
    "    ax[3, 2].plot(glc5, x2, label=\"X2\")\n",
    "    ax[3, 2].plot(glc5, x3, label=\"X3\")\n",
    "    ax[3, 2].set(title=\"(H) Mitochondrial nodes\", xlabel=\"Glucose (X)\")\n",
    "    ax[3, 3].plot(glc5, deg)\n",
    "    ax[3, 3].set(title=\"(I) Average Node Degree\", xlabel=\"Glucose (X)\")\n",
    "\n",
    "    for a in ax\n",
    "        a.set_xticks(1:6)\n",
    "        a.grid()\n",
    "    end\n",
    "\n",
    "    plt.tight_layout()\n",
    "    return fig\n",
    "end"
   ]
  },
  {
   "cell_type": "code",
   "execution_count": null,
   "id": "7ca21872",
   "metadata": {},
   "outputs": [],
   "source": [
    "fig2 = plot_fig2(glc, sols)"
   ]
  },
  {
   "cell_type": "code",
   "execution_count": null,
   "id": "07dcc3f6-389f-4b74-8e90-651db04b6967",
   "metadata": {
    "execution": {
     "iopub.execute_input": "2022-02-28T09:46:33.059000Z",
     "iopub.status.busy": "2022-02-28T09:46:33.059000Z",
     "iopub.status.idle": "2022-02-28T09:46:33.060000Z",
     "shell.execute_reply": "2022-02-28T09:46:33.060000Z"
    }
   },
   "outputs": [],
   "source": [
    "# Uncomment if pdf file is required\n",
    "# fig2.savefig(\"Fig2.tif\", dpi=300, format=\"tiff\", pil_kwargs=Dict(\"compression\" => \"tiff_lzw\"))"
   ]
  }
 ],
 "metadata": {
  "kernelspec": {
   "display_name": "Julia 1.7.3",
   "language": "julia",
   "name": "julia-1.7"
  },
  "language_info": {
   "file_extension": ".jl",
   "mimetype": "application/julia",
   "name": "julia",
   "version": "1.7.2"
  }
 },
 "nbformat": 4,
 "nbformat_minor": 5
}
