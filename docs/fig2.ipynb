{
 "cells": [
  {
   "cell_type": "markdown",
   "id": "70893e86-c77a-42e8-ae88-0940aa5f7fac",
   "metadata": {},
   "source": [
    "# Figure 2"
   ]
  },
  {
   "cell_type": "code",
   "execution_count": null,
   "id": "c84b0fb1-3862-485b-9b96-05482b68e68b",
   "metadata": {
    "execution": {
     "iopub.execute_input": "2022-02-28T09:45:12.362000Z",
     "iopub.status.busy": "2022-02-28T09:45:11.606000Z",
     "iopub.status.idle": "2022-02-28T09:45:36.215000Z",
     "shell.execute_reply": "2022-02-28T09:45:36.173000Z"
    }
   },
   "outputs": [],
   "source": [
    "using DifferentialEquations\n",
    "using LabelledArrays\n",
    "using Parameters\n",
    "using MitochondrialDynamics\n",
    "import MitochondrialDynamics.Utils: second, μM, mV, mM, Hz\n",
    "import PyPlot as plt\n",
    "rcParams = plt.PyDict(plt.matplotlib.\"rcParams\")\n",
    "rcParams[\"font.size\"] = 14\n",
    "rcParams[\"font.sans-serif\"] = \"Arial\"\n",
    "rcParams[\"font.family\"] = \"sans-serif\""
   ]
  },
  {
   "cell_type": "code",
   "execution_count": null,
   "id": "07e45bff-a04a-45d8-8a87-bef687e46abf",
   "metadata": {
    "execution": {
     "iopub.execute_input": "2022-02-28T09:45:36.508000Z",
     "iopub.status.busy": "2022-02-28T09:45:36.218000Z",
     "iopub.status.idle": "2022-02-28T09:45:38.266000Z",
     "shell.execute_reply": "2022-02-28T09:45:38.265000Z"
    }
   },
   "outputs": [],
   "source": [
    "glc = range(3.0mM, 30.0mM, length=101)  # Range of glucose\n",
    "tend = 3000.0  # Time span\n",
    "u0 = LVector(g3p = 2.8μM,\n",
    "             pyr = 8.5μM,\n",
    "             nadh_c = 1μM,\n",
    "             nadh_m = 60μM,\n",
    "             atp_c = 4000μM,\n",
    "             adp_c = 500μM,\n",
    "             ca_m = 0.250μM,\n",
    "             dpsi = 100mV,\n",
    "             x2=0.25,\n",
    "             x3=0.05)\n",
    "\n",
    "param0 = MitoDynNode()"
   ]
  },
  {
   "cell_type": "code",
   "execution_count": null,
   "id": "c881a3bb-cb7c-488a-bde6-1c4775609b19",
   "metadata": {
    "execution": {
     "iopub.execute_input": "2022-02-28T09:45:38.268000Z",
     "iopub.status.busy": "2022-02-28T09:45:38.267000Z",
     "iopub.status.idle": "2022-02-28T09:46:21.079000Z",
     "shell.execute_reply": "2022-02-28T09:46:21.079000Z"
    },
    "jupyter": {
     "outputs_hidden": true
    },
    "tags": []
   },
   "outputs": [],
   "source": [
    "sols = map(glc) do g\n",
    "    param = setglc(param0, g)\n",
    "    prob = SteadyStateProblem(model!, u0, param)\n",
    "    sol = solve(prob, DynamicSS(Rodas5(), tspan=tend))\n",
    "end"
   ]
  },
  {
   "cell_type": "code",
   "execution_count": null,
   "id": "974d9ed4-027a-405c-81c3-dda2eb38ea6f",
   "metadata": {
    "execution": {
     "iopub.execute_input": "2022-02-28T09:46:21.084000Z",
     "iopub.status.busy": "2022-02-28T09:46:21.083000Z",
     "iopub.status.idle": "2022-02-28T09:46:21.947000Z",
     "shell.execute_reply": "2022-02-28T09:46:21.945000Z"
    }
   },
   "outputs": [],
   "source": [
    "\"Plot figure 2\"\n",
    "function plot_fig2(sols, glc; size=(20,15),\n",
    "                   glucoseScale = 5mM,\n",
    "                   xlabelfontsize=16)\n",
    "\n",
    "    # Collect data\n",
    "\n",
    "    g3p = map(s->s.u.g3p, sols)\n",
    "    pyr = map(s->s.u.pyr, sols)\n",
    "    nadh_c = map(s->s.u.nadh_c, sols)\n",
    "    nadh_m = map(s->s.u.nadh_m, sols)\n",
    "    atp_c = map(s->s.u.atp_c, sols)\n",
    "    adp_c = map(s->s.u.adp_c, sols)\n",
    "    amp_c = ampcyto.(adp_c, atp_c, Ref(param0))\n",
    "    ca_m = map(s->s.u.ca_m, sols)\n",
    "    dpsi = map(s->s.u.dpsi, sols)\n",
    "    ca_c  = cacyto.(adp_c, atp_c, Ref(param0), 0.0)\n",
    "    x2 = map(s->s.u.x2, sols)\n",
    "    x3 = map(s->s.u.x3, sols)\n",
    "    x1 = getx1.(x2, x3)\n",
    "    degree = avgdeg.(x2, x3, x1)\n",
    "\n",
    "    for x in (g3p, pyr, nadh_c, nadh_m, atp_c, adp_c, amp_c, ca_m, dpsi, ca_c)\n",
    "        x .*= 1000\n",
    "    end\n",
    "\n",
    "\n",
    "    # Plot\n",
    "    glc5 = glc ./ glucoseScale\n",
    "\n",
    "    fig, ax = plt.subplots(3, 3, figsize=size)\n",
    "\n",
    "    ax[1, 1].plot(glc5, g3p)\n",
    "    ax[1, 1].set(title=\"(A) G3P (μM)\", ylim=(0.0, 10.0))\n",
    "\n",
    "    ax[1, 2].plot(glc5, pyr)\n",
    "    ax[1, 2].set(title=\"(B) Pyruvate (μM)\", ylim=(0.0, 125.0))\n",
    "\n",
    "    ax[1, 3].plot(glc5, ca_c, label=\"cyto\")\n",
    "    ax[1, 3].plot(glc5, ca_m, label=\"mito\")\n",
    "    ax[1, 3].set(ylim=(0.0, 1.5), title=\"(C) Calcium (μM)\")\n",
    "    ax[1, 3].legend(loc=\"right\")\n",
    "\n",
    "    ax[2, 1].plot(glc5, nadh_c, label=\"cyto\")\n",
    "    ax[2, 1].plot(glc5, nadh_m, label=\"mito\")\n",
    "    ax[2, 1].set(title=\"(D) NADH (μM)\")\n",
    "    ax[2, 1].legend(loc=\"right\")\n",
    "\n",
    "    ax[2, 2].plot(glc5, atp_c, label=\"ATP\")\n",
    "    ax[2, 2].plot(glc5, adp_c, label=\"ADP\")\n",
    "    ax[2, 2].plot(glc5, amp_c, label=\"AMP\")\n",
    "    ax[2, 2].set(title=\"(E) Adenylates (μM)\")\n",
    "    ax[2, 2].legend(loc=\"right\")\n",
    "\n",
    "    ax[2, 3].plot(glc5, atp_c ./ adp_c)\n",
    "    ax[2, 3].set(title=\"(F) ATP/ADP ratio\" , ylim=(0.0, 45.0))\n",
    "\n",
    "    ax[3, 1].plot(glc5, dpsi)\n",
    "    ax[3, 1].set(title=\"(G) ΔΨ (mV)\", ylim=(80, 160))\n",
    "    ax[3, 1].set_xlabel(\"Glucose (X)\", fontsize=xlabelfontsize)\n",
    "    # ax[3, 1].legend(loc=\"best\")\n",
    "\n",
    "    ax[3, 2].plot(glc5, x1, label=\"X1\")\n",
    "    ax[3, 2].plot(glc5, x2, label=\"X2\")\n",
    "    ax[3, 2].plot(glc5, x3, label=\"X3\")\n",
    "    ax[3, 2].set_title(\"(H) Mitochondrial nodes\")\n",
    "    ax[3, 2].set_xlabel(\"Glucose (X)\", fontsize=xlabelfontsize)\n",
    "    ax[3, 2].legend()\n",
    "\n",
    "    ax[3, 3].plot(glc5, degree)\n",
    "    ax[3, 3].set_title(\"(I) Average Node Degree\")\n",
    "    ax[3, 3].set_xlabel(\"Glucose (X)\", fontsize=xlabelfontsize)\n",
    "\n",
    "    plt.tight_layout()\n",
    "    return fig\n",
    "end"
   ]
  },
  {
   "cell_type": "code",
   "execution_count": null,
   "id": "ff8cfe86-73d2-402b-a3a2-1fc942b4afa6",
   "metadata": {
    "execution": {
     "iopub.execute_input": "2022-02-28T09:46:21.950000Z",
     "iopub.status.busy": "2022-02-28T09:46:21.948000Z",
     "iopub.status.idle": "2022-02-28T09:46:33.058000Z",
     "shell.execute_reply": "2022-02-28T09:46:33.057000Z"
    }
   },
   "outputs": [],
   "source": [
    "fig2 = plot_fig2(sols, glc, size=(12, 8));"
   ]
  },
  {
   "cell_type": "code",
   "execution_count": null,
   "id": "07dcc3f6-389f-4b74-8e90-651db04b6967",
   "metadata": {
    "execution": {
     "iopub.execute_input": "2022-02-28T09:46:33.059000Z",
     "iopub.status.busy": "2022-02-28T09:46:33.059000Z",
     "iopub.status.idle": "2022-02-28T09:46:33.060000Z",
     "shell.execute_reply": "2022-02-28T09:46:33.060000Z"
    }
   },
   "outputs": [],
   "source": [
    "# Uncomment if pdf file is required\n",
    "# fig2.savefig(\"Fig2.pdf\")"
   ]
  }
 ],
 "metadata": {
  "kernelspec": {
   "display_name": "Julia 1.7.2",
   "language": "julia",
   "name": "julia-1.7"
  },
  "language_info": {
   "file_extension": ".jl",
   "mimetype": "application/julia",
   "name": "julia",
   "version": "1.7.2"
  }
 },
 "nbformat": 4,
 "nbformat_minor": 5
}
