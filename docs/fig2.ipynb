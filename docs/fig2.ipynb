{
 "cells": [
  {
   "cell_type": "markdown",
   "id": "70893e86-c77a-42e8-ae88-0940aa5f7fac",
   "metadata": {},
   "source": [
    "# Figure 2"
   ]
  },
  {
   "cell_type": "code",
   "execution_count": null,
   "id": "c84b0fb1-3862-485b-9b96-05482b68e68b",
   "metadata": {
    "tags": []
   },
   "outputs": [],
   "source": [
    "using DifferentialEquations\n",
    "using ModelingToolkit\n",
    "using MitochondrialDynamics\n",
    "using MitochondrialDynamics: GlcConst, G3P, Pyr, NADH_c, NADH_m, ATP_c, ADP_c, AMP_c, Ca_m, Ca_c, x, ΔΨm, degavg\n",
    "import MitochondrialDynamics.Utils: second, μM, mV, mM, Hz\n",
    "using Plots\n",
    "pyplot()\n",
    "Plots.pyrcparams[\"font.size\"] = 14\n",
    "Plots.pyrcparams[\"font.sans-serif\"] = \"Arial\"\n",
    "Plots.pyrcparams[\"font.family\"] = \"sans-serif\""
   ]
  },
  {
   "cell_type": "code",
   "execution_count": null,
   "id": "07e45bff-a04a-45d8-8a87-bef687e46abf",
   "metadata": {
    "tags": []
   },
   "outputs": [],
   "source": [
    "glc = range(3.0mM, 30.0mM, length=101)  # Range of glucose\n",
    "\n",
    "@named sys = make_model()\n",
    "idxGlc = findfirst(isequal(GlcConst), parameters(sys))\n",
    "prob = SteadyStateProblem(sys, DEFAULT_U0)"
   ]
  },
  {
   "cell_type": "code",
   "execution_count": null,
   "id": "c881a3bb-cb7c-488a-bde6-1c4775609b19",
   "metadata": {
    "tags": []
   },
   "outputs": [],
   "source": [
    "sols = map(glc) do g\n",
    "    params = copy(prob.p)\n",
    "    params[idxGlc] = g\n",
    "    solve(remake(prob, p=params), DynamicSS(Rodas5()))\n",
    "end"
   ]
  },
  {
   "cell_type": "code",
   "execution_count": null,
   "id": "a3f92763",
   "metadata": {},
   "outputs": [],
   "source": [
    "extract(sols, k) = map(s->s[k], sols)"
   ]
  },
  {
   "cell_type": "code",
   "execution_count": null,
   "id": "0c446f8f",
   "metadata": {},
   "outputs": [],
   "source": [
    "glc5 = glc ./ 5\n",
    "g3p = extract(sols, G3P) .* 1000\n",
    "pyr = extract(sols, Pyr) .* 1000\n",
    "ca_c = extract(sols, Ca_c) .* 1000\n",
    "ca_m = extract(sols, Ca_m) .* 1000\n",
    "nadh_c = extract(sols, NADH_c) .* 1000\n",
    "nadh_m = extract(sols, NADH_m) .* 1000\n",
    "atp_c = extract(sols, ATP_c) .* 1000\n",
    "adp_c = extract(sols, ADP_c) .* 1000\n",
    "amp_c = extract(sols, AMP_c) .* 1000\n",
    "dpsi = extract(sols, ΔΨm) .* 1000\n",
    "x1 = extract(sols, x[1])\n",
    "x2 = extract(sols, x[2])\n",
    "x3 = extract(sols, x[3])\n",
    "deg = extract(sols, degavg)"
   ]
  },
  {
   "cell_type": "code",
   "execution_count": null,
   "id": "7ca21872",
   "metadata": {},
   "outputs": [],
   "source": [
    "pl1 = plot(glc5, g3p, title=\"(A) G3P (μM)\", ylim=(0.0, 8.0), lab=false)\n",
    "pl2 = plot(glc5, pyr, title=\"(B) Pyruvate (μM)\", ylim=(0.0, 75.0), lab=false)\n",
    "pl3 = plot(glc5, [ca_c ca_m], label = [\"cyto\" \"mito\"], title=\"(C) Calcium (μM)\", ylim=(0.0, 1.2), legend=:right)\n",
    "pl4 = plot(glc5, [nadh_c nadh_m], label = [\"cyto\" \"mito\"], title=\"(D) NADH (μM)\", legend=:right)\n",
    "pl5 = plot(glc5, [atp_c adp_c amp_c], label = [\"ATP\" \"ADP\" \"AMP\"], title=\"(E) Adenylates (μM)\", legend=:right)\n",
    "pl6 = plot(glc5, atp_c ./ adp_c, title=\"(F) ATP/ADP ratio\", legend=:right)\n",
    "pl7 = plot(glc5, dpsi, title=\"(G) ΔΨ (mV)\", label=false, ylim=(80, 150), xlabel=\"Glucose (X)\")\n",
    "pl8 = plot(glc5, [x1 x2 x3], label=[\"X1\" \"X2\" \"X3\"], title=\"(H) Mitochondrial nodes\", xlabel=\"Glucose (X)\", legend=:right)\n",
    "pl9 = plot(glc5, deg, label=false, title=\"(I) Average Node Degree\", xlabel=\"Glucose (X)\")\n",
    "plot(pl1, pl2, pl3, pl4, pl5, pl6, pl7, pl8, pl9; size = (2000, 1500))"
   ]
  },
  {
   "cell_type": "code",
   "execution_count": null,
   "id": "07dcc3f6-389f-4b74-8e90-651db04b6967",
   "metadata": {
    "execution": {
     "iopub.execute_input": "2022-02-28T09:46:33.059000Z",
     "iopub.status.busy": "2022-02-28T09:46:33.059000Z",
     "iopub.status.idle": "2022-02-28T09:46:33.060000Z",
     "shell.execute_reply": "2022-02-28T09:46:33.060000Z"
    }
   },
   "outputs": [],
   "source": [
    "# Uncomment if pdf file is required\n",
    "# savefig(\"Fig2.pdf\")"
   ]
  }
 ],
 "metadata": {
  "kernelspec": {
   "display_name": "Julia 1.7.2",
   "language": "julia",
   "name": "julia-1.7"
  },
  "language_info": {
   "file_extension": ".jl",
   "mimetype": "application/julia",
   "name": "julia",
   "version": "1.7.2"
  }
 },
 "nbformat": 4,
 "nbformat_minor": 5
}
