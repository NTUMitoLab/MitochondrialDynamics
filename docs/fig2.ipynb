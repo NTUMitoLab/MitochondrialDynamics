{
 "cells": [
  {
   "cell_type": "markdown",
   "id": "70893e86-c77a-42e8-ae88-0940aa5f7fac",
   "metadata": {},
   "source": [
    "# Figure 2"
   ]
  },
  {
   "cell_type": "code",
   "execution_count": null,
   "id": "c84b0fb1-3862-485b-9b96-05482b68e68b",
   "metadata": {
    "tags": []
   },
   "outputs": [],
   "source": [
    "using DifferentialEquations\n",
    "using ModelingToolkit\n",
    "using MitochondrialDynamics\n",
    "using ThreadsX\n",
    "import MitochondrialDynamics: GlcConst\n",
    "import MitochondrialDynamics.Utils: second, μM, mV, mM, Hz\n",
    "import PyPlot as plt\n",
    "rcParams = plt.PyDict(plt.matplotlib.\"rcParams\")\n",
    "rcParams[\"font.size\"] = 14\n",
    "rcParams[\"font.sans-serif\"] = \"Arial\"\n",
    "rcParams[\"font.family\"] = \"sans-serif\""
   ]
  },
  {
   "cell_type": "code",
   "execution_count": null,
   "id": "07e45bff-a04a-45d8-8a87-bef687e46abf",
   "metadata": {
    "tags": []
   },
   "outputs": [],
   "source": [
    "glc = range(3.0mM, 30.0mM, length=101)  # Range of glucose\n",
    "\n",
    "@named sys = make_model()\n",
    "idxGlc = findfirst(isequal(GlcConst), parameters(sys))\n",
    "prob = SteadyStateProblem(sys, DEFAULT_U0)"
   ]
  },
  {
   "cell_type": "code",
   "execution_count": null,
   "id": "c881a3bb-cb7c-488a-bde6-1c4775609b19",
   "metadata": {
    "tags": []
   },
   "outputs": [],
   "source": [
    "sols = ThreadsX.map(glc) do g\n",
    "    params = copy(prob.p)\n",
    "    params[idxGlc] = g\n",
    "    sol = solve(remake(prob, p=params), DynamicSS(Rodas5()))\n",
    "end"
   ]
  },
  {
   "cell_type": "code",
   "execution_count": null,
   "id": "974d9ed4-027a-405c-81c3-dda2eb38ea6f",
   "metadata": {
    "tags": []
   },
   "outputs": [],
   "source": [
    "import MitochondrialDynamics: G3P, Pyr, NADH_c, NADH_m, ATP_c, ADP_c, AMP_c, Ca_m, Ca_c, x, ΔΨm, degavg\n",
    "\n",
    "\"Plot figure 2\"\n",
    "function plot_fig2(sols, glc; size=(20,15),\n",
    "                   glcscale = 5mM,\n",
    "                   xlabelfontsize=16)\n",
    "    \n",
    "    extract(sols, k) = map(s->s[k], sols)\n",
    "    \n",
    "    # Plot\n",
    "    glc5 = glc ./ glcscale\n",
    "\n",
    "    fig, ax = plt.subplots(3, 3, figsize=size)\n",
    "\n",
    "    ax[1, 1].plot(glc5, extract(sols, G3P) .* 1000 )\n",
    "    ax[1, 1].set(title=\"(A) G3P (μM)\", ylim=(0.0, 10.0))\n",
    "\n",
    "    ax[1, 2].plot(glc5, extract(sols, Pyr) .* 1000 )\n",
    "    ax[1, 2].set(title=\"(B) Pyruvate (μM)\", ylim=(0.0, 125.0))\n",
    "\n",
    "    ax[1, 3].plot(glc5, extract(sols, Ca_c) .* 1000, label=\"cyto\")\n",
    "    ax[1, 3].plot(glc5, extract(sols, Ca_m) .* 1000, label=\"mito\")\n",
    "    ax[1, 3].set(ylim=(0.0, 1.5), title=\"(C) Calcium (μM)\")\n",
    "    ax[1, 3].legend(loc=\"right\")\n",
    "\n",
    "    ax[2, 1].plot(glc5, extract(sols, NADH_c) .* 1000, label=\"cyto\")\n",
    "    ax[2, 1].plot(glc5, extract(sols, NADH_m) .* 1000, label=\"mito\")\n",
    "    ax[2, 1].set(title=\"(D) NADH (μM)\")\n",
    "    ax[2, 1].legend(loc=\"right\")\n",
    "\n",
    "    ax[2, 2].plot(glc5, extract(sols, ATP_c) .* 1000, label=\"ATP\")\n",
    "    ax[2, 2].plot(glc5, extract(sols, ADP_c) .* 1000, label=\"ADP\")\n",
    "    ax[2, 2].plot(glc5, extract(sols, AMP_c) .* 1000, label=\"AMP\")\n",
    "    ax[2, 2].set(title=\"(E) Adenylates (μM)\")\n",
    "    ax[2, 2].legend(loc=\"right\")\n",
    "\n",
    "    ax[2, 3].plot(glc5, extract(sols, ATP_c) ./ extract(sols, ADP_c))\n",
    "    ax[2, 3].set(title=\"(F) ATP/ADP ratio\" , ylim=(0.0, 45.0))\n",
    "\n",
    "    ax[3, 1].plot(glc5, extract(sols, ΔΨm) .* 1000)\n",
    "    ax[3, 1].set(title=\"(G) ΔΨ (mV)\", ylim=(80, 160))\n",
    "    ax[3, 1].set_xlabel(\"Glucose (X)\", fontsize=xlabelfontsize)\n",
    "    # ax[3, 1].legend(loc=\"best\")\n",
    "\n",
    "    ax[3, 2].plot(glc5, extract(sols, x[1]), label=\"X1\")\n",
    "    ax[3, 2].plot(glc5, extract(sols, x[2]), label=\"X2\")\n",
    "    ax[3, 2].plot(glc5, extract(sols, x[3]), label=\"X3\")\n",
    "    ax[3, 2].set_title(\"(H) Mitochondrial nodes\")\n",
    "    ax[3, 2].set_xlabel(\"Glucose (X)\", fontsize=xlabelfontsize)\n",
    "    ax[3, 2].legend()\n",
    "\n",
    "    ax[3, 3].plot(glc5, extract(sols, degavg))\n",
    "    ax[3, 3].set_title(\"(I) Average Node Degree\")\n",
    "    ax[3, 3].set_xlabel(\"Glucose (X)\", fontsize=xlabelfontsize)\n",
    "\n",
    "    plt.tight_layout()\n",
    "    return fig\n",
    "end"
   ]
  },
  {
   "cell_type": "code",
   "execution_count": null,
   "id": "ff8cfe86-73d2-402b-a3a2-1fc942b4afa6",
   "metadata": {
    "tags": []
   },
   "outputs": [],
   "source": [
    "fig2 = plot_fig2(sols, glc, size=(12, 8));"
   ]
  },
  {
   "cell_type": "code",
   "execution_count": null,
   "id": "07dcc3f6-389f-4b74-8e90-651db04b6967",
   "metadata": {
    "execution": {
     "iopub.execute_input": "2022-02-28T09:46:33.059000Z",
     "iopub.status.busy": "2022-02-28T09:46:33.059000Z",
     "iopub.status.idle": "2022-02-28T09:46:33.060000Z",
     "shell.execute_reply": "2022-02-28T09:46:33.060000Z"
    }
   },
   "outputs": [],
   "source": [
    "# Uncomment if pdf file is required\n",
    "# fig2.savefig(\"Fig2.pdf\")"
   ]
  }
 ],
 "metadata": {
  "kernelspec": {
   "display_name": "Julia 1.7.2",
   "language": "julia",
   "name": "julia-1.7"
  },
  "language_info": {
   "file_extension": ".jl",
   "mimetype": "application/julia",
   "name": "julia",
   "version": "1.7.2"
  }
 },
 "nbformat": 4,
 "nbformat_minor": 5
}
