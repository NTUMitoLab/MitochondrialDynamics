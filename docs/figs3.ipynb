{
 "cells": [
  {
   "cell_type": "markdown",
   "id": "f0a1bfb0-100a-47ae-b589-8b67ce58ae46",
   "metadata": {},
   "source": [
    "# Fig S3\n",
    "\n",
    "Oxygen consumption in response to both glucose stimulation and chemical agents"
   ]
  },
  {
   "cell_type": "code",
   "execution_count": null,
   "id": "e714065f-5ca0-4d29-9716-12bd037819d7",
   "metadata": {
    "execution": {
     "iopub.execute_input": "2022-02-28T09:45:29.182000Z",
     "iopub.status.busy": "2022-02-28T09:45:28.427000Z",
     "iopub.status.idle": "2022-02-28T09:45:53.489000Z",
     "shell.execute_reply": "2022-02-28T09:45:53.447000Z"
    },
    "scrolled": true
   },
   "outputs": [],
   "source": [
    "using DifferentialEquations\n",
    "using LabelledArrays\n",
    "using Parameters\n",
    "using Setfield\n",
    "using MitochondrialDynamics\n",
    "import MitochondrialDynamics.Utils: second, μM, mV, mM, Hz, minute\n",
    "\n",
    "import PyPlot as plt\n",
    "rcParams = plt.PyDict(plt.matplotlib.\"rcParams\")\n",
    "rcParams[\"font.size\"] = 14\n",
    "rcParams[\"font.sans-serif\"] = \"Arial\"\n",
    "rcParams[\"font.family\"] = \"sans-serif\""
   ]
  },
  {
   "cell_type": "code",
   "execution_count": null,
   "id": "76ecd7cd-1983-4ff8-88ec-09de8c9f8769",
   "metadata": {
    "execution": {
     "iopub.execute_input": "2022-02-28T09:45:53.783000Z",
     "iopub.status.busy": "2022-02-28T09:45:53.492000Z",
     "iopub.status.idle": "2022-02-28T09:45:58.286000Z",
     "shell.execute_reply": "2022-02-28T09:45:58.286000Z"
    },
    "scrolled": true
   },
   "outputs": [],
   "source": [
    "tend = 80minute\n",
    "\n",
    "u0 = LVector(g3p = 2.8μM,\n",
    "             pyr = 8.5μM,\n",
    "             nadh_c = 1μM,\n",
    "             nadh_m = 60μM,\n",
    "             atp_c = 4000μM,\n",
    "             adp_c = 500μM,\n",
    "             ca_m = 0.250μM,\n",
    "             dpsi = 100mV,\n",
    "             x2 = 0.20,\n",
    "             x3 = 0.05)\n",
    "\n",
    "param = MitoDynNode()\n",
    "\n",
    "paramDM = let rPDH = 0.5, rETC = 0.75, rHL  = 1.4, rF1  = 0.5\n",
    "    p = @set param.pdh.VMAX *= rPDH\n",
    "    p = @set p.hleak.P_H *= rHL\n",
    "    p = @set p.f1fo.VMAX *= rF1\n",
    "    p = @set p.etc.VMAX *= rETC\n",
    "end"
   ]
  },
  {
   "cell_type": "code",
   "execution_count": null,
   "id": "e98ed84f-9aae-44ab-8f13-9d284ca0a23d",
   "metadata": {
    "execution": {
     "iopub.execute_input": "2022-02-28T09:45:58.290000Z",
     "iopub.status.busy": "2022-02-28T09:45:58.289000Z",
     "iopub.status.idle": "2022-02-28T09:45:59.072000Z",
     "shell.execute_reply": "2022-02-28T09:45:59.071000Z"
    },
    "scrolled": true
   },
   "outputs": [],
   "source": [
    "# Add glucose to 20mM\n",
    "function add_glc!(integrator, glc=20mM, newdt = 0.01)\n",
    "    integrator.p = setglc(integrator.p, glc)\n",
    "    set_proposed_dt!(integrator, newdt)\n",
    "end\n",
    "\n",
    "# Oligomycin: cut ATP synthase to 10%\n",
    "function oligomycin!(integrator, f1Cut = 0.05, newdt = 0.01)\n",
    "    p = integrator.p\n",
    "    integrator.p = @set p.f1fo.VMAX *= f1Cut\n",
    "    set_proposed_dt!(integrator, newdt)\n",
    "end\n",
    "\n",
    "# Rotenone: cut ETC\n",
    "function rotenone!(integrator, etcCut = 0.05, newdt = 0.01)\n",
    "    p = integrator.p\n",
    "    integrator.p = @set p.etc.VMAX *= etcCut\n",
    "    set_proposed_dt!(integrator, newdt)\n",
    "end\n",
    "\n",
    "# FCCP: increase proton leak\n",
    "function fccp!(integrator, leakRate = 10.0, newdt = 0.01)\n",
    "    p = integrator.p\n",
    "    integrator.p = @set p.hleak.P_H *= leakRate\n",
    "    set_proposed_dt!(integrator, newdt)\n",
    "end\n",
    "\n",
    "ssalg=DynamicSS(Rodas5(), tspan=tend)"
   ]
  },
  {
   "cell_type": "code",
   "execution_count": null,
   "id": "e1f37cb7-cbe9-4558-82d3-62930a3fbac9",
   "metadata": {
    "execution": {
     "iopub.execute_input": "2022-02-28T09:45:59.076000Z",
     "iopub.status.busy": "2022-02-28T09:45:59.074000Z",
     "iopub.status.idle": "2022-02-28T09:46:44.712000Z",
     "shell.execute_reply": "2022-02-28T09:46:44.712000Z"
    },
    "scrolled": true
   },
   "outputs": [],
   "source": [
    "u∞ = solve(SteadyStateProblem(model!, u0, param), ssalg).u\n",
    "u∞DM = solve(SteadyStateProblem(model!, u0, paramDM), ssalg).u\n",
    "\n",
    "cbs = CallbackSet( \tPresetTimeCallback([20minute], add_glc!),\n",
    "                    PresetTimeCallback([40minute], oligomycin!),\n",
    "                    PresetTimeCallback([60minute], fccp!))\n",
    "\n",
    "sol = solve(ODEProblem(model!, u∞, tend, param), callback=cbs)\n",
    "solDM = solve(ODEProblem(model!, u∞DM, tend, paramDM), callback=cbs);"
   ]
  },
  {
   "cell_type": "code",
   "execution_count": null,
   "id": "05768279-05c4-4a17-9dd3-1e5e0e9b44e1",
   "metadata": {
    "execution": {
     "iopub.execute_input": "2022-02-28T09:46:44.714000Z",
     "iopub.status.busy": "2022-02-28T09:46:44.714000Z",
     "iopub.status.idle": "2022-02-28T09:46:45.022000Z",
     "shell.execute_reply": "2022-02-28T09:46:45.022000Z"
    },
    "scrolled": true
   },
   "outputs": [],
   "source": [
    "function plot_fig71(sol, solDM, tend = 80minute;\n",
    "    figsize=(20,20), labels=[\"Baseline\",\"Diabetic\"])\n",
    "\n",
    "    ts = range(0.0, tend, length=301)\n",
    "\n",
    "    g3p = [sol.(ts, idxs=1) solDM.(ts, idxs=1)]\n",
    "    pyr = [sol.(ts, idxs=2) solDM.(ts, idxs=2)]\n",
    "    nadh_c = [sol.(ts, idxs=3) solDM.(ts, idxs=3)]\n",
    "    nadh_m = [sol.(ts, idxs=4) solDM.(ts, idxs=4)]\n",
    "    atp_c = [sol.(ts, idxs=5) solDM.(ts, idxs=5)]\n",
    "    adp_c = [sol.(ts, idxs=6) solDM.(ts, idxs=6)]\n",
    "    td = atp_c ./ adp_c\n",
    "    ca_m = [sol.(ts, idxs=7) solDM.(ts, idxs=7)]\n",
    "    ca_c = cacyto.(adp_c, atp_c, Ref(param), nothing)\n",
    "    dpsi = [sol.(ts, idxs=8) solDM.(ts, idxs=8)]\n",
    "    x2 = [sol.(ts, idxs=9) solDM.(ts, idxs=9)]\n",
    "    x3 = [sol.(ts, idxs=10) solDM.(ts, idxs=10)]\n",
    "    x1 = getx1.(x2, x3)\n",
    "    avgDeg = avgdeg.(x2, x3, x1)\n",
    "\n",
    "    for arr in (g3p, pyr, nadh_c, nadh_m, atp_c, adp_c, ca_m, ca_c, dpsi)\n",
    "        arr .*= 1000\n",
    "    end\n",
    "\n",
    "    ll = labels\n",
    "    tsm = ts ./ 60\n",
    "    fig, ax = plt.subplots(3, 3, figsize=figsize)\n",
    "\n",
    "    ax[1].plot(tsm, g3p)\n",
    "    ax[1].legend(ll)\n",
    "    ax[1].set_ylabel(\"G3P (μM)\")\n",
    "    ax[1].set_xlabel(\"Time (minute)\")\n",
    "    ax[1].set_title(\"A\", loc=\"left\")\n",
    "    ax[1].set_ylim(0.0, 9.0)\n",
    "\n",
    "    ax[4].plot(tsm, pyr)\n",
    "    ax[4].legend(ll)\n",
    "    ax[4].set_ylabel(\"Pyruvate (μM)\")\n",
    "    ax[4].set_xlabel(\"Time (minute)\")\n",
    "    ax[4].set_title(\"B\", loc=\"left\")\n",
    "    ax[4].set_ylim(0.0, 700.0)\n",
    "\n",
    "    ax[7].plot(tsm, nadh_c)\n",
    "    ax[7].legend(ll)\n",
    "    ax[7].set_ylabel(\"Cytosolic NADH (μM)\")\n",
    "    ax[7].set_xlabel(\"Time (minute)\")\n",
    "    ax[7].set_title(\"C\", loc=\"left\")\n",
    "    ax[7].set_ylim(0.0, 8.0)\n",
    "\n",
    "    ax[2].plot(tsm, nadh_m)\n",
    "    ax[2].legend(ll)\n",
    "    ax[2].set_ylabel(\"Mitochondrial NADH (μM)\")\n",
    "    ax[2].set_xlabel(\"Time (minute)\")\n",
    "    ax[2].set_title(\"D\", loc=\"left\")\n",
    "    ax[2].set_ylim(0.0, 200.0)\n",
    "\n",
    "    ax[5].plot(tsm, ca_c)\n",
    "    ax[5].legend(ll)\n",
    "    ax[5].set_ylabel(\"Cytosolic Calcium (μM)\")\n",
    "    ax[5].set_xlabel(\"Time (minute)\")\n",
    "    ax[5].set_title(\"E\", loc=\"left\")\n",
    "    ax[5].set_ylim(0.0, 0.4)\n",
    "\n",
    "    ax[8].plot(tsm, ca_m)\n",
    "    ax[8].legend(ll)\n",
    "    ax[8].set_ylabel(\"Mitochondrial Calcium (μM)\")\n",
    "    ax[8].set_xlabel(\"Time (minute)\")\n",
    "    ax[8].set_title(\"F\", loc=\"left\")\n",
    "    ax[8].set_ylim(0.0, 1.2)\n",
    "\n",
    "    ax[3].plot(tsm, td)\n",
    "    ax[3].legend(ll)\n",
    "    ax[3].set_ylabel(\"ATP/ADP ratio\")\n",
    "    ax[3].set_xlabel(\"Time (minute)\")\n",
    "    ax[3].set_title(\"G\", loc=\"left\")\n",
    "    ax[3].set_ylim()\n",
    "\n",
    "    ax[6].plot(tsm, dpsi)\n",
    "    ax[6].legend(ll, loc=\"upper right\")\n",
    "    ax[6].set_ylabel(\"Mitochodrial membrane potential (mV)\")\n",
    "    ax[6].set_xlabel(\"Time (minute)\")\n",
    "    ax[6].set_title(\"H\", loc=\"left\")\n",
    "    ax[6].set_ylim()\n",
    "\n",
    "    ax[9].plot(tsm, avgDeg)\n",
    "    ax[9].legend(ll)\n",
    "    ax[9].set_ylabel(\"Average Node Degree\")\n",
    "    ax[9].set_xlabel(\"Time (minute)\")\n",
    "    ax[9].set_title(\"I\", loc=\"left\")\n",
    "    ax[9].set_ylim()\n",
    "    \n",
    "    plt.tight_layout()\n",
    "\n",
    "    fig\n",
    "end"
   ]
  },
  {
   "cell_type": "code",
   "execution_count": null,
   "id": "925aef45-4f92-412a-acbb-8ee94eed6ebd",
   "metadata": {
    "execution": {
     "iopub.execute_input": "2022-02-28T09:46:45.024000Z",
     "iopub.status.busy": "2022-02-28T09:46:45.024000Z",
     "iopub.status.idle": "2022-02-28T09:46:51.299000Z",
     "shell.execute_reply": "2022-02-28T09:46:51.299000Z"
    },
    "scrolled": true
   },
   "outputs": [],
   "source": [
    "fig71 = plot_fig71(sol, solDM, tend, figsize=(14, 10));"
   ]
  },
  {
   "cell_type": "code",
   "execution_count": null,
   "id": "5cd3967d-b9bc-4f60-b4a7-1ec7826a1fd5",
   "metadata": {
    "execution": {
     "iopub.execute_input": "2022-02-28T09:46:51.301000Z",
     "iopub.status.busy": "2022-02-28T09:46:51.301000Z",
     "iopub.status.idle": "2022-02-28T09:46:51.302000Z",
     "shell.execute_reply": "2022-02-28T09:46:51.302000Z"
    },
    "scrolled": true
   },
   "outputs": [],
   "source": [
    "# Uncomment to generate PDF\n",
    "# fig71.savefig(\"S1Fig3-1.pdf\")"
   ]
  },
  {
   "cell_type": "code",
   "execution_count": null,
   "id": "3237c598-16af-42ed-8360-7a86431c6e0c",
   "metadata": {
    "execution": {
     "iopub.execute_input": "2022-02-28T09:46:51.303000Z",
     "iopub.status.busy": "2022-02-28T09:46:51.303000Z",
     "iopub.status.idle": "2022-02-28T09:46:55.573000Z",
     "shell.execute_reply": "2022-02-28T09:46:55.573000Z"
    },
    "scrolled": true
   },
   "outputs": [],
   "source": [
    "ssalg=DynamicSS(Rodas5(), tspan=tend)\n",
    "\n",
    "u∞ = solve(SteadyStateProblem(model!, u0, param), ssalg).u\n",
    "u∞DM = solve(SteadyStateProblem(model!, u0, paramDM), ssalg).u\n",
    "\n",
    "cbs = CallbackSet( \tPresetTimeCallback([20minute], add_glc!),\n",
    "                    PresetTimeCallback([40minute], oligomycin!),\n",
    "                    PresetTimeCallback([60minute], rotenone!))\n",
    "\n",
    "sol = solve(ODEProblem(model!, u∞, tend, param), callback=cbs)\n",
    "solDM = solve(ODEProblem(model!, u∞DM, tend, paramDM), callback=cbs);"
   ]
  },
  {
   "cell_type": "code",
   "execution_count": null,
   "id": "ee85e2fc-fbba-4f7c-b38a-f4780af7d779",
   "metadata": {
    "execution": {
     "iopub.execute_input": "2022-02-28T09:46:55.575000Z",
     "iopub.status.busy": "2022-02-28T09:46:55.575000Z",
     "iopub.status.idle": "2022-02-28T09:46:55.731000Z",
     "shell.execute_reply": "2022-02-28T09:46:55.731000Z"
    },
    "scrolled": true
   },
   "outputs": [],
   "source": [
    "function plot_fig72(sol, solDM, tend = 80minute;\n",
    "    figsize=(20,20), lables=[\"Baseline\",\"Diabetic\"], etcCut = 0.05)\n",
    "\n",
    "    ts = range(0.0, tend, length=301)\n",
    "\n",
    "    g3p = [sol.(ts, idxs=1) solDM.(ts, idxs=1)]\n",
    "    pyr = [sol.(ts, idxs=2) solDM.(ts, idxs=2)]\n",
    "    nadh_c = [sol.(ts, idxs=3) solDM.(ts, idxs=3)]\n",
    "    nadh_m = [sol.(ts, idxs=4) solDM.(ts, idxs=4)]\n",
    "    atp_c = [sol.(ts, idxs=5) solDM.(ts, idxs=5)]\n",
    "    adp_c = [sol.(ts, idxs=6) solDM.(ts, idxs=6)]\n",
    "    td = atp_c ./ adp_c\n",
    "    ca_m = [sol.(ts, idxs=7) solDM.(ts, idxs=7)]\n",
    "    ca_c = cacyto.(adp_c, atp_c, Ref(param), nothing)\n",
    "    dpsi = [sol.(ts, idxs=8) solDM.(ts, idxs=8)]\n",
    "    x2 = [sol.(ts, idxs=9) solDM.(ts, idxs=9)]\n",
    "    x3 = [sol.(ts, idxs=10) solDM.(ts, idxs=10)]\n",
    "    x1 = getx1.(x2, x3)\n",
    "    avgDeg = avgdeg.(x2, x3, x1)\n",
    "    x13 = x1 ./ x3\n",
    "\n",
    "    jo2 = [param.etc.(nadh_m[:, 1], dpsi[:, 1]) .* 1//10  paramDM.etc.(nadh_m[:, 2], dpsi[:, 2]) .* 1//10]\n",
    "    jo2[ts .>= 60minute, :] .*= etcCut\n",
    "\n",
    "    for arr in (g3p, pyr, nadh_c, nadh_m, atp_c, adp_c, ca_m, ca_c, dpsi)\n",
    "        arr .*= 1000\n",
    "    end\n",
    "\n",
    "    ll = lables\n",
    "\n",
    "    tsm = ts ./ 60\n",
    "\n",
    "    fig, ax = plt.subplots(3, 3, figsize=figsize)\n",
    "\n",
    "    ax[1].plot(tsm, jo2)\n",
    "    ax[1].legend(ll)\n",
    "    ax[1].set_ylabel(\"O2 consumption\")\n",
    "    ax[1].set_xlabel(\"Time (minute)\")\n",
    "    ax[1].set_title(\"A\", loc=\"left\")\n",
    "    ax[1].set_ylim()\n",
    "\n",
    "    ax[4].plot(tsm, pyr)\n",
    "    ax[4].legend(ll)\n",
    "    ax[4].set_ylabel(\"Pyruvate (μM)\")\n",
    "    ax[4].set_xlabel(\"Time (minute)\")\n",
    "    ax[4].set_title(\"B\", loc=\"left\")\n",
    "    ax[4].set_ylim(0.0, 700.0)\n",
    "\n",
    "    ax[7].plot(tsm, nadh_c)\n",
    "    ax[7].legend(ll)\n",
    "    ax[7].set_ylabel(\"Cytosolic NADH (μM)\")\n",
    "    ax[7].set_xlabel(\"Time (minute)\")\n",
    "    ax[7].set_title(\"C\", loc=\"left\")\n",
    "    ax[7].set_ylim(0.0, 20.0)\n",
    "\n",
    "    ax[2].plot(tsm, nadh_m)\n",
    "    ax[2].legend(ll)\n",
    "    ax[2].set_ylabel(\"Mitochondrial NADH (μM)\")\n",
    "    ax[2].set_xlabel(\"Time (minute)\")\n",
    "    ax[2].set_title(\"D\", loc=\"left\")\n",
    "    ax[2].set_ylim()\n",
    "\n",
    "    ax[5].plot(tsm, ca_c)\n",
    "    ax[5].legend(ll)\n",
    "    ax[5].set_ylabel(\"Cytosolic Calcium (μM)\")\n",
    "    ax[5].set_xlabel(\"Time (minute)\")\n",
    "    ax[5].set_title(\"E\", loc=\"left\")\n",
    "    ax[5].set_ylim(0.0, 0.4)\n",
    "\n",
    "    ax[8].plot(tsm, ca_m)\n",
    "    ax[8].legend(ll)\n",
    "    ax[8].set_ylabel(\"Mitochondrial Calcium (μM)\")\n",
    "    ax[8].set_xlabel(\"Time (minute)\")\n",
    "    ax[8].set_title(\"F\", loc=\"left\")\n",
    "    ax[8].set_ylim(0.0, 1.2)\n",
    "\n",
    "    ax[3].plot(tsm, td)\n",
    "    ax[3].legend(ll)\n",
    "    ax[3].set_ylabel(\"ATP/ADP ratio\")\n",
    "    ax[3].set_xlabel(\"Time (minute)\")\n",
    "    ax[3].set_title(\"G\", loc=\"left\")\n",
    "    ax[3].set_ylim()\n",
    "\n",
    "    ax[6].plot(tsm, dpsi)\n",
    "    ax[6].legend(ll, loc=\"upper right\")\n",
    "    ax[6].set_ylabel(\"Mitochodrial membrane potential (mV)\")\n",
    "    ax[6].set_xlabel(\"Time (minute)\")\n",
    "    ax[6].set_title(\"H\", loc=\"left\")\n",
    "    ax[6].set_ylim()\n",
    "\n",
    "    ax[9].plot(tsm, avgDeg)\n",
    "    ax[9].legend(ll)\n",
    "    ax[9].set_ylabel(\"Average Node Degree\")\n",
    "    ax[9].set_xlabel(\"Time (minute)\")\n",
    "    ax[9].set_title(\"I\", loc=\"left\")\n",
    "    ax[9].set_ylim()\n",
    "    \n",
    "    plt.tight_layout()\n",
    "\n",
    "    return fig\n",
    "end"
   ]
  },
  {
   "cell_type": "code",
   "execution_count": null,
   "id": "14dba61e-643e-4570-be35-887ec8936653",
   "metadata": {
    "execution": {
     "iopub.execute_input": "2022-02-28T09:46:55.733000Z",
     "iopub.status.busy": "2022-02-28T09:46:55.733000Z",
     "iopub.status.idle": "2022-02-28T09:46:57.880000Z",
     "shell.execute_reply": "2022-02-28T09:46:57.880000Z"
    },
    "scrolled": true
   },
   "outputs": [],
   "source": [
    "fig72 = plot_fig72(sol, solDM, tend, figsize=(14, 10));"
   ]
  },
  {
   "cell_type": "code",
   "execution_count": null,
   "id": "d685acfa-09b3-4493-872a-a93a3eb1ec2e",
   "metadata": {
    "execution": {
     "iopub.execute_input": "2022-02-28T09:46:57.882000Z",
     "iopub.status.busy": "2022-02-28T09:46:57.882000Z",
     "iopub.status.idle": "2022-02-28T09:46:57.883000Z",
     "shell.execute_reply": "2022-02-28T09:46:57.882000Z"
    },
    "scrolled": true
   },
   "outputs": [],
   "source": [
    "# Uncomment to generate PDF\n",
    "# fig72.savefig(\"S1Fig3-2.pdf\")"
   ]
  }
 ],
 "metadata": {
  "kernelspec": {
   "display_name": "Julia 1.7.2",
   "language": "julia",
   "name": "julia-1.7"
  },
  "language_info": {
   "file_extension": ".jl",
   "mimetype": "application/julia",
   "name": "julia",
   "version": "1.7.2"
  }
 },
 "nbformat": 4,
 "nbformat_minor": 5
}
