{
 "cells": [
  {
   "cell_type": "markdown",
   "id": "f0a1bfb0-100a-47ae-b589-8b67ce58ae46",
   "metadata": {},
   "source": [
    "# Fig S3\n",
    "\n",
    "Oxygen consumption in response to both glucose stimulation and chemical agents"
   ]
  },
  {
   "cell_type": "code",
   "execution_count": null,
   "id": "fb2fc6f4",
   "metadata": {},
   "outputs": [],
   "source": [
    "using DifferentialEquations\n",
    "using ModelingToolkit\n",
    "using MitochondrialDynamics\n",
    "using MitochondrialDynamics: GlcConst, VmaxPDH, pHleak, VmaxF1, VmaxETC, J_ANT, J_O2\n",
    "using MitochondrialDynamics: G3P, Pyr, NADH_c, NADH_m, Ca_c, Ca_m, ΔΨm, ATP_c, ADP_c, degavg, t\n",
    "using MitochondrialDynamics.Utils: second, μM, mV, mM, Hz, minute\n",
    "\n",
    "using Plots\n",
    "pyplot()\n",
    "Plots.pyrcparams[\"font.size\"] = 14\n",
    "Plots.pyrcparams[\"font.sans-serif\"] = \"Arial\"\n",
    "Plots.pyrcparams[\"font.family\"] = \"sans-serif\""
   ]
  },
  {
   "cell_type": "code",
   "execution_count": null,
   "id": "755b90db",
   "metadata": {},
   "outputs": [],
   "source": [
    "add_glucose(t) = ifelse(t<20minute, 5mM, 20mM)\n",
    "add_oligomycin(t) = ifelse(t<40minute, 1.0, 0.05)\n",
    "add_rotenone(t) = ifelse(t<60minute, 1.0, 0.05)\n",
    "add_fccp(t) = ifelse(t<60minute, 1.0, 10.0)\n",
    "\n",
    "@register_symbolic add_glucose(t) \n",
    "@register_symbolic add_oligomycin(t) \n",
    "@register_symbolic add_rotenone(t)\n",
    "@register_symbolic add_fccp(t)"
   ]
  },
  {
   "cell_type": "code",
   "execution_count": null,
   "id": "3b8a7b49",
   "metadata": {},
   "outputs": [],
   "source": [
    "tend = 80minute\n",
    "@named sys1 = make_model(;\n",
    "    glcrhs = add_glucose(t),\n",
    "    rf1 = add_oligomycin(t),\n",
    "    rhleak = add_fccp(t)\n",
    "    )\n",
    "prob1 = ODEProblem(sys1, DEFAULT_U0, tend)"
   ]
  },
  {
   "cell_type": "code",
   "execution_count": null,
   "id": "c5f3b916",
   "metadata": {},
   "outputs": [],
   "source": [
    "idxGlc = findfirst(isequal(GlcConst), parameters(sys1))\n",
    "idxVmaxPDH = findfirst(isequal(VmaxPDH), parameters(sys1))\n",
    "idxpHleak = findfirst(isequal(pHleak), parameters(sys1))\n",
    "idxVmaxF1 = findfirst(isequal(VmaxF1), parameters(sys1))\n",
    "idxVmaxETC = findfirst(isequal(VmaxETC), parameters(sys1))\n",
    "\n",
    "function make_dm_prob(prob; rPDH=0.5, rETC=0.75, rHL=1.4, rF1=0.5)\n",
    "    newparams = copy(prob.p)\n",
    "    newparams[idxVmaxPDH] = prob.p[idxVmaxPDH] * rPDH\n",
    "    newparams[idxpHleak] = prob.p[idxpHleak] * rHL\n",
    "    newparams[idxVmaxF1] = prob.p[idxVmaxF1] * rF1\n",
    "    newparams[idxVmaxETC] = prob.p[idxVmaxETC] * rETC\n",
    "    return remake(prob, p=newparams)\n",
    "end\n",
    "\n",
    "prob1DM = make_dm_prob(prob1; rPDH=0.5, rETC=0.75, rHL=1.4, rF1=0.5)"
   ]
  },
  {
   "cell_type": "code",
   "execution_count": null,
   "id": "11c21687",
   "metadata": {},
   "outputs": [],
   "source": [
    "tstops = [20minute, 40minute, 60minute]\n",
    "\n",
    "sol1 = solve(prob1; tstops=tstops)\n",
    "sol1DM = solve(prob1DM; tstops=tstops)"
   ]
  },
  {
   "cell_type": "code",
   "execution_count": null,
   "id": "0c52665f",
   "metadata": {},
   "outputs": [],
   "source": [
    "ts = range(0.0, tend, length=301)\n",
    "\n",
    "g3p = [sol1.(ts, idxs=G3P) sol1DM.(ts, idxs=G3P)] .* 1000\n",
    "pyr = [sol1.(ts, idxs=Pyr) sol1DM.(ts, idxs=Pyr)] .* 1000\n",
    "nadh_c = [sol1.(ts, idxs=NADH_c) sol1DM.(ts, idxs=NADH_c)] .* 1000\n",
    "nadh_m = [sol1.(ts, idxs=NADH_m) sol1DM.(ts, idxs=NADH_m)] .* 1000\n",
    "atp_c = [sol1.(ts, idxs=ATP_c) sol1DM.(ts, idxs=ATP_c)] .* 1000\n",
    "adp_c = [sol1.(ts, idxs=ADP_c) sol1DM.(ts, idxs=ADP_c)] .* 1000\n",
    "td = atp_c ./ adp_c\n",
    "ca_c = [sol1.(ts, idxs=Ca_c) sol1DM.(ts, idxs=Ca_c)] .* 1000\n",
    "ca_m = [sol1.(ts, idxs=Ca_m) sol1DM.(ts, idxs=Ca_m)] .* 1000\n",
    "dpsi = [sol1.(ts, idxs=ΔΨm) sol1DM.(ts, idxs=ΔΨm)] .* 1000\n",
    "deg = [sol1.(ts, idxs=degavg) sol1DM.(ts, idxs=degavg)]"
   ]
  },
  {
   "cell_type": "code",
   "execution_count": null,
   "id": "f4450ea9",
   "metadata": {},
   "outputs": [],
   "source": [
    "tsm = ts ./ 60\n",
    "labels = [\"Baseline\" \"Diabetic\"]\n",
    "pl1 = plot(tsm, g3p, label=labels, ylabel=\"G3P (μM)\", title=\"A\", titlelocation=:left)\n",
    "pl2 = plot(pyr, label=labels, ylabel=\"Pyruvate (μM)\", title=\"B\", titlelocation=:left)\n",
    "pl3 = plot(tsm, nadh_c, label=labels, ylabel=\"Cytosolic NADH (μM)\", title=\"C\", titlelocation=:left)\n",
    "pl4 = plot(tsm, nadh_m, label=labels, ylabel=\"Mitochondrial NADH (μM)\", title=\"D\", titlelocation=:left)\n",
    "pl5 = plot(tsm, ca_c, label=labels, ylabel=\"Cytosolic Calcium (μM)\", title=\"E\", titlelocation=:left)\n",
    "pl6 = plot(tsm, ca_m, label=labels, ylabel=\"Mitochondrial Calcium (μM)\", title=\"F\", titlelocation=:left)\n",
    "pl7 = plot(tsm, td, label=labels, ylabel=\"ATP/ADP ratio\", title=\"G\", titlelocation=:left)\n",
    "pl8 = plot(tsm, dpsi, label=labels, ylabel=\"Mitochodrial membrane potential (mV)\", title=\"H\", titlelocation=:left)\n",
    "pl9 = plot(tsm, deg, label=labels, ylabel=\"Average Node Degree\", title=\"I\", titlelocation=:left)\n",
    "\n",
    "plot(pl1, pl2, pl3, pl4, pl5, pl6, pl7, pl8, pl9; size=(2000, 2000))"
   ]
  },
  {
   "cell_type": "code",
   "execution_count": null,
   "id": "8daa938d",
   "metadata": {},
   "outputs": [],
   "source": [
    "plot(sol1, vars=[J_O2])\n",
    "plot!(sol1DM, vars=[J_O2])"
   ]
  },
  {
   "cell_type": "code",
   "execution_count": null,
   "id": "5108c906",
   "metadata": {},
   "outputs": [],
   "source": [
    "@named sys2 = make_model(;\n",
    "    glcrhs = add_glucose(t),\n",
    "    rf1 = add_oligomycin(t),\n",
    "    retc = add_rotenone(t)\n",
    "    )\n",
    "\n",
    "prob2 = ODEProblem(sys2, DEFAULT_U0, tend)\n",
    "prob2DM = make_dm_prob(prob2; rPDH=0.5, rETC=0.75, rHL=1.4, rF1=0.5)"
   ]
  },
  {
   "cell_type": "code",
   "execution_count": null,
   "id": "87cdb008",
   "metadata": {},
   "outputs": [],
   "source": [
    "sol2 = solve(prob2; tstops=tstops)\n",
    "sol2DM = solve(prob2DM; tstops=tstops)"
   ]
  },
  {
   "cell_type": "code",
   "execution_count": null,
   "id": "3b2dfb2d",
   "metadata": {},
   "outputs": [],
   "source": [
    "g3p = [sol2.(ts, idxs=G3P) sol2DM.(ts, idxs=G3P)] .* 1000\n",
    "pyr = [sol2.(ts, idxs=Pyr) sol2DM.(ts, idxs=Pyr)] .* 1000\n",
    "nadh_c = [sol2.(ts, idxs=NADH_c) sol2DM.(ts, idxs=NADH_c)] .* 1000\n",
    "nadh_m = [sol2.(ts, idxs=NADH_m) sol2DM.(ts, idxs=NADH_m)] .* 1000\n",
    "atp_c = [sol2.(ts, idxs=ATP_c) sol2DM.(ts, idxs=ATP_c)] .* 1000\n",
    "adp_c = [sol2.(ts, idxs=ADP_c) sol2DM.(ts, idxs=ADP_c)] .* 1000\n",
    "td = atp_c ./ adp_c\n",
    "ca_c = [sol2.(ts, idxs=Ca_c) sol2DM.(ts, idxs=Ca_c)] .* 1000\n",
    "ca_m = [sol2.(ts, idxs=Ca_m) sol2DM.(ts, idxs=Ca_m)] .* 1000\n",
    "dpsi = [sol2.(ts, idxs=ΔΨm) sol2DM.(ts, idxs=ΔΨm)] .* 1000\n",
    "deg = [sol2.(ts, idxs=degavg) sol2DM.(ts, idxs=degavg)]"
   ]
  },
  {
   "cell_type": "code",
   "execution_count": null,
   "id": "adc9590c",
   "metadata": {},
   "outputs": [],
   "source": [
    "pl1 = plot(tsm, g3p, label=labels, ylabel=\"G3P (μM)\", title=\"A\", titlelocation=:left)\n",
    "pl2 = plot(pyr, label=labels, ylabel=\"Pyruvate (μM)\", title=\"B\", titlelocation=:left)\n",
    "pl3 = plot(tsm, nadh_c, label=labels, ylabel=\"Cytosolic NADH (μM)\", title=\"C\", titlelocation=:left)\n",
    "pl4 = plot(tsm, nadh_m, label=labels, ylabel=\"Mitochondrial NADH (μM)\", title=\"D\", titlelocation=:left)\n",
    "pl5 = plot(tsm, ca_c, label=labels, ylabel=\"Cytosolic Calcium (μM)\", title=\"E\", titlelocation=:left)\n",
    "pl6 = plot(tsm, ca_m, label=labels, ylabel=\"Mitochondrial Calcium (μM)\", title=\"F\", titlelocation=:left)\n",
    "pl7 = plot(tsm, td, label=labels, ylabel=\"ATP/ADP ratio\", title=\"G\", titlelocation=:left)\n",
    "pl8 = plot(tsm, dpsi, label=labels, ylabel=\"Mitochodrial membrane potential (mV)\", title=\"H\", titlelocation=:left)\n",
    "pl9 = plot(tsm, deg, label=labels, ylabel=\"Average Node Degree\", title=\"I\", titlelocation=:left)\n",
    "\n",
    "plot(pl1, pl2, pl3, pl4, pl5, pl6, pl7, pl8, pl9; size=(2000, 2000))"
   ]
  },
  {
   "cell_type": "code",
   "execution_count": null,
   "id": "8a51addc",
   "metadata": {},
   "outputs": [],
   "source": [
    "plot(sol2, vars=[J_O2])\n",
    "plot!(sol2DM, vars=[J_O2])"
   ]
  },
  {
   "cell_type": "code",
   "execution_count": null,
   "id": "d685acfa-09b3-4493-872a-a93a3eb1ec2e",
   "metadata": {
    "execution": {
     "iopub.execute_input": "2022-02-28T09:46:57.882000Z",
     "iopub.status.busy": "2022-02-28T09:46:57.882000Z",
     "iopub.status.idle": "2022-02-28T09:46:57.883000Z",
     "shell.execute_reply": "2022-02-28T09:46:57.882000Z"
    },
    "scrolled": true
   },
   "outputs": [],
   "source": [
    "# Uncomment to generate PDF\n",
    "# fig72.savefig(\"S1Fig3-2.pdf\")"
   ]
  }
 ],
 "metadata": {
  "interpreter": {
   "hash": "1f3bff702bf1da8e3f3330b7919a9cb3964aed55c1665c55b737a458015923b1"
  },
  "kernelspec": {
   "display_name": "Julia 1.7.2",
   "language": "julia",
   "name": "julia-1.7"
  },
  "language_info": {
   "file_extension": ".jl",
   "mimetype": "application/julia",
   "name": "julia",
   "version": "1.7.2"
  }
 },
 "nbformat": 4,
 "nbformat_minor": 5
}
