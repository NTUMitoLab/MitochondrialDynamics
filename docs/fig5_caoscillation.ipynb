{
 "cells": [
  {
   "cell_type": "markdown",
   "id": "58fca5d3-3014-4f88-a241-a2b76113f4ab",
   "metadata": {},
   "source": [
    "# Figure 5"
   ]
  },
  {
   "cell_type": "code",
   "execution_count": null,
   "id": "0e153921-70e3-4b99-abd0-8eb285d04842",
   "metadata": {
    "execution": {
     "iopub.execute_input": "2022-10-03T16:38:51.971000Z",
     "iopub.status.busy": "2022-10-03T16:38:51.013000Z",
     "iopub.status.idle": "2022-10-03T16:39:42.601000Z",
     "shell.execute_reply": "2022-10-03T16:39:42.573000Z"
    }
   },
   "outputs": [],
   "source": [
    "using DifferentialEquations\n",
    "using ModelingToolkit\n",
    "using MitochondrialDynamics\n",
    "using MitochondrialDynamics: GlcConst, degavg, ΔΨm, Ca_c, Ca_m, t, G3P\n",
    "using MitochondrialDynamics: Pyr, NADH_c, NADH_m, ATP_c, ADP_c, degavg\n",
    "using MitochondrialDynamics.Utils: second, μM, mV, mM, Hz, minute\n",
    "import PyPlot as plt\n",
    "rcParams = plt.PyDict(plt.matplotlib.\"rcParams\")\n",
    "rcParams[\"font.size\"] = 14\n",
    "# rcParams[\"font.sans-serif\"] = \"Arial\"\n",
    "# rcParams[\"font.family\"] = \"sans-serif\""
   ]
  },
  {
   "cell_type": "code",
   "execution_count": null,
   "id": "e4295f23-404e-4d91-a3a0-8fbc47960718",
   "metadata": {
    "execution": {
     "iopub.execute_input": "2022-10-03T16:39:44.015000Z",
     "iopub.status.busy": "2022-10-03T16:39:42.623000Z",
     "iopub.status.idle": "2022-10-03T16:42:52.531000Z",
     "shell.execute_reply": "2022-10-03T16:42:52.531000Z"
    },
    "jupyter": {
     "outputs_hidden": true
    },
    "tags": []
   },
   "outputs": [],
   "source": [
    "tend = 2000.0\n",
    "@named sys = make_model(; glcrhs=10mM)\n",
    "sssol = solve(SteadyStateProblem(sys, []), DynamicSS(Rodas5(), tspan=tend))\n",
    "caavg = sssol[Ca_c]"
   ]
  },
  {
   "cell_type": "code",
   "execution_count": null,
   "id": "58c13f6a-a7a8-477d-8b29-154d48f95d52",
   "metadata": {
    "execution": {
     "iopub.execute_input": "2022-10-03T16:42:52.539000Z",
     "iopub.status.busy": "2022-10-03T16:42:52.539000Z",
     "iopub.status.idle": "2022-10-03T16:43:10.670000Z",
     "shell.execute_reply": "2022-10-03T16:43:10.670000Z"
    },
    "jupyter": {
     "outputs_hidden": true
    },
    "tags": []
   },
   "outputs": [],
   "source": [
    "function cac_wave(t)\n",
    "    ca_r = 0.09μM\n",
    "    period = 2minute\n",
    "    ka_ca = (caavg - ca_r) * 1.5\n",
    "    x = 5 * ((t / period) % 1.0)\n",
    "    return ca_r + ka_ca * (x * exp(1 - x))^4\n",
    "end\n",
    "\n",
    "@register_symbolic cac_wave(t)\n",
    "@named sysosci = make_model(; cacrhs=cac_wave(t), glcrhs=10mM)\n",
    "prob = ODEProblem(sysosci, sssol.u, tend)\n",
    "sol = solve(prob)"
   ]
  },
  {
   "cell_type": "code",
   "execution_count": null,
   "id": "46bfae51",
   "metadata": {
    "execution": {
     "iopub.execute_input": "2022-10-03T16:43:10.679000Z",
     "iopub.status.busy": "2022-10-03T16:43:10.679000Z",
     "iopub.status.idle": "2022-10-03T16:43:11.030000Z",
     "shell.execute_reply": "2022-10-03T16:43:11.030000Z"
    }
   },
   "outputs": [],
   "source": [
    "function plot_fig5(\n",
    "    sol;\n",
    "    tspan=(1520.0, 2000.0),\n",
    "    npoints=200,\n",
    "    figsize=(10, 12)\n",
    ")\n",
    "    ts = LinRange(tspan[1], tspan[2], npoints)\n",
    "    tsm = ts ./ 60\n",
    "    ca_c = sol(ts, idxs=Ca_c) .* 1000\n",
    "    ca_m = sol(ts, idxs=Ca_m) .* 1000\n",
    "    g3p = sol(ts, idxs=G3P) .* 1000\n",
    "    pyr = sol(ts, idxs=Pyr) .* 1000\n",
    "    nadh_c = sol(ts, idxs=NADH_c) .* 1000\n",
    "    nadh_m = sol(ts, idxs=NADH_m) .* 1000\n",
    "    atp_c = sol(ts, idxs=ATP_c) .* 1000\n",
    "    adp_c = sol(ts, idxs=ADP_c) .* 1000\n",
    "    td = atp_c.u ./ adp_c\n",
    "    dpsi = sol(ts, idxs=ΔΨm) .* 1000\n",
    "    k = sol(ts, idxs=degavg)\n",
    "\n",
    "    fig, ax = plt.subplots(6, 1; figsize)\n",
    "\n",
    "    ax[1].plot(tsm, ca_c, label=\"Ca(cyto)\")\n",
    "    ax[1].plot(tsm, ca_m, label=\"Ca(mito)\")\n",
    "    ax[1].set_title(\"A\", loc=\"left\")\n",
    "    ax[1].set(ylabel=\"Conc. (μM)\")\n",
    "\n",
    "    ax[2].plot(tsm, g3p, label=\"G3P\")\n",
    "    ax[2].plot(tsm, nadh_c, label=\"NADH (cyto)\")\n",
    "    ax[2].set_title(\"B\", loc=\"left\")\n",
    "    ax[2].set(ylabel=\"Conc. (μM)\")\n",
    "\n",
    "    ax[3].plot(tsm, pyr, label=\"Pyr\")\n",
    "    ax[3].plot(tsm, nadh_m, label=\"NADH (mito)\")\n",
    "    ax[3].set_title(\"C\", loc=\"left\")\n",
    "    ax[3].set(ylabel=\"Conc. (μM)\")\n",
    "\n",
    "    ax[4].plot(tsm, td, label=\"ATP:ADP\")\n",
    "    ax[4].set_title(\"D\", loc=\"left\")\n",
    "\n",
    "    ax[5].plot(tsm, dpsi, label=\"ΔΨm\")\n",
    "    ax[5].set_title(\"E\", loc=\"left\")\n",
    "    ax[5].set(ylabel=\"mV\")\n",
    "\n",
    "    ax[6].plot(tsm, k, label=\"<k>\")\n",
    "    ax[6].set_title(\"F\", loc=\"left\")\n",
    "    ax[6].set(xlabel=\"Time (minute)\")\n",
    "\n",
    "    for a in ax\n",
    "        a.grid()\n",
    "        a.legend()\n",
    "        a.set_xlim(tsm[begin], tsm[end])\n",
    "    end\n",
    "\n",
    "    plt.tight_layout()\n",
    "    return fig\n",
    "end"
   ]
  },
  {
   "cell_type": "code",
   "execution_count": null,
   "id": "d45788ce",
   "metadata": {
    "execution": {
     "iopub.execute_input": "2022-10-03T16:43:11.034000Z",
     "iopub.status.busy": "2022-10-03T16:43:11.033000Z",
     "iopub.status.idle": "2022-10-03T16:43:21.116000Z",
     "shell.execute_reply": "2022-10-03T16:43:21.116000Z"
    }
   },
   "outputs": [],
   "source": [
    "fig5 = plot_fig5(sol);"
   ]
  },
  {
   "cell_type": "code",
   "execution_count": null,
   "id": "64e8c275-d699-458e-8e70-0997863b42a3",
   "metadata": {
    "execution": {
     "iopub.execute_input": "2022-10-03T16:43:21.121000Z",
     "iopub.status.busy": "2022-10-03T16:43:21.121000Z",
     "iopub.status.idle": "2022-10-03T16:43:21.145000Z",
     "shell.execute_reply": "2022-10-03T16:43:21.144000Z"
    }
   },
   "outputs": [],
   "source": [
    "# Uncomment if pdf file is required\n",
    "# fig5.savefig(\"Fig5.tif\", dpi=300, format=\"tiff\", pil_kwargs=Dict(\"compression\" => \"tiff_lzw\"))"
   ]
  }
 ],
 "metadata": {
  "kernelspec": {
   "display_name": "Julia 1.8.0-rc3",
   "language": "julia",
   "name": "julia-1.8"
  },
  "language_info": {
   "file_extension": ".jl",
   "mimetype": "application/julia",
   "name": "julia",
   "version": "1.8.2"
  }
 },
 "nbformat": 4,
 "nbformat_minor": 5
}
