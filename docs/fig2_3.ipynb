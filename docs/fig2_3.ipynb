{
 "cells": [
  {
   "cell_type": "markdown",
   "id": "70893e86-c77a-42e8-ae88-0940aa5f7fac",
   "metadata": {},
   "source": [
    "# Figure 2 and 3\n",
    "## Figure 2"
   ]
  },
  {
   "cell_type": "code",
   "execution_count": null,
   "id": "c84b0fb1-3862-485b-9b96-05482b68e68b",
   "metadata": {
    "execution": {
     "iopub.execute_input": "2022-10-06T20:41:28.577000Z",
     "iopub.status.busy": "2022-10-06T20:41:27.822000Z",
     "iopub.status.idle": "2022-10-06T20:42:05.410000Z",
     "shell.execute_reply": "2022-10-06T20:42:05.393000Z"
    },
    "tags": []
   },
   "outputs": [],
   "source": [
    "using DifferentialEquations\n",
    "using ModelingToolkit\n",
    "using MitochondrialDynamics\n",
    "using MitochondrialDynamics: GlcConst, G3P, Pyr, NADH_c, NADH_m, ATP_c, ADP_c, AMP_c, Ca_m, Ca_c, x, ΔΨm, degavg\n",
    "import MitochondrialDynamics: second, μM, mV, mM, Hz\n",
    "import PyPlot as plt\n",
    "rcParams = plt.PyDict(plt.matplotlib.\"rcParams\")\n",
    "rcParams[\"font.size\"] = 14\n",
    "# rcParams[\"font.sans-serif\"] = \"Arial\"\n",
    "# rcParams[\"font.family\"] = \"sans-serif\""
   ]
  },
  {
   "cell_type": "code",
   "execution_count": null,
   "id": "07e45bff-a04a-45d8-8a87-bef687e46abf",
   "metadata": {
    "execution": {
     "iopub.execute_input": "2022-10-06T20:42:06.308000Z",
     "iopub.status.busy": "2022-10-06T20:42:05.423000Z",
     "iopub.status.idle": "2022-10-06T20:44:03.172000Z",
     "shell.execute_reply": "2022-10-06T20:44:03.171000Z"
    },
    "tags": []
   },
   "outputs": [],
   "source": [
    "@named sys = make_model()\n",
    "\n",
    "pidx = Dict(k => i for (i, k) in enumerate(parameters(sys)))\n",
    "idxGlc = pidx[GlcConst]\n",
    "\n",
    "# Empty array = using default u0\n",
    "prob = SteadyStateProblem(sys, [])"
   ]
  },
  {
   "cell_type": "code",
   "execution_count": null,
   "id": "c881a3bb-cb7c-488a-bde6-1c4775609b19",
   "metadata": {
    "execution": {
     "iopub.execute_input": "2022-10-06T20:44:03.174000Z",
     "iopub.status.busy": "2022-10-06T20:44:03.174000Z",
     "iopub.status.idle": "2022-10-06T20:44:13.205000Z",
     "shell.execute_reply": "2022-10-06T20:44:13.205000Z"
    },
    "tags": []
   },
   "outputs": [],
   "source": [
    "glc = range(3.0mM, 30.0mM, length=101)  # Range of glucose\n",
    "\n",
    "function remake_glc(prob, g)\n",
    "    p = copy(prob.p)\n",
    "    p[idxGlc] = g\n",
    "    remake(prob; p=p)\n",
    "end\n",
    "\n",
    "sols = map(glc) do g\n",
    "    solve(remake_glc(prob, g), DynamicSS(Rodas5()))\n",
    "end"
   ]
  },
  {
   "cell_type": "code",
   "execution_count": null,
   "id": "0c446f8f",
   "metadata": {
    "execution": {
     "iopub.execute_input": "2022-10-06T20:44:13.208000Z",
     "iopub.status.busy": "2022-10-06T20:44:13.208000Z",
     "iopub.status.idle": "2022-10-06T20:44:13.427000Z",
     "shell.execute_reply": "2022-10-06T20:44:13.427000Z"
    }
   },
   "outputs": [],
   "source": [
    "extract(sols, k) = map(s->s[k], sols)\n",
    "\n",
    "function plot_fig2(glc, sols; figsize=(12, 12))\n",
    "    glc5 = glc ./ 5\n",
    "    g3p = extract(sols, G3P) .* 1000\n",
    "    pyr = extract(sols, Pyr) .* 1000\n",
    "    ca_c = extract(sols, Ca_c) .* 1000\n",
    "    ca_m = extract(sols, Ca_m) .* 1000\n",
    "    nadh_c = extract(sols, NADH_c) .* 1000\n",
    "    nadh_m = extract(sols, NADH_m) .* 1000\n",
    "    atp_c = extract(sols, ATP_c) .* 1000\n",
    "    adp_c = extract(sols, ADP_c) .* 1000\n",
    "    amp_c = extract(sols, AMP_c) .* 1000\n",
    "    dpsi = extract(sols, ΔΨm) .* 1000\n",
    "    x1 = extract(sols, x[1])\n",
    "    x2 = extract(sols, x[2])\n",
    "    x3 = extract(sols, x[3])\n",
    "    deg = extract(sols, degavg)\n",
    "\n",
    "    fig, ax = plt.subplots(3, 3; figsize)\n",
    "\n",
    "    ax[1, 1].plot(glc5, g3p)\n",
    "    ax[1, 1].set(title=\"(A) G3P (μM)\", ylim=(0.0, 10.0))\n",
    "    ax[1, 2].plot(glc5, pyr)\n",
    "    ax[1, 2].set(title=\"(B) Pyruvate (μM)\", ylim=(0.0, 120.0))\n",
    "    ax[1, 3].plot(glc5, ca_c, label=\"cyto\")\n",
    "    ax[1, 3].plot(glc5, ca_m, label=\"mito\")\n",
    "    ax[1, 3].legend()\n",
    "    ax[1, 3].set(title=\"(C) Calcium (μM)\", ylim=(0.0, 1.5))\n",
    "    ax[2, 1].plot(glc5, nadh_c, label=\"cyto\")\n",
    "    ax[2, 1].plot(glc5, nadh_m, label=\"mito\")\n",
    "    ax[2, 1].legend()\n",
    "    ax[2, 1].set(title=\"(D) NADH (μM)\")\n",
    "    ax[2, 2].plot(glc5, atp_c, label=\"ATP\")\n",
    "    ax[2, 2].plot(glc5, adp_c, label=\"ADP\")\n",
    "    ax[2, 2].plot(glc5, amp_c, label=\"AMP\")\n",
    "    ax[2, 2].legend()\n",
    "    ax[2, 2].set(title=\"(E) Adenylates (μM)\")\n",
    "    ax[2, 3].plot(glc5, atp_c ./ adp_c)\n",
    "    ax[2, 3].set(title=\"(F) ATP/ADP ratio\")\n",
    "    ax[3, 1].plot(glc5, dpsi, label=\"cyto\")\n",
    "    ax[3, 1].set(title=\"(G) ΔΨ (mV)\", ylim=(80, 160), xlabel=\"Glucose (X)\")\n",
    "    ax[3, 2].plot(glc5, x1, label=\"X1\")\n",
    "    ax[3, 2].plot(glc5, x2, label=\"X2\")\n",
    "    ax[3, 2].plot(glc5, x3, label=\"X3\")\n",
    "    ax[3, 2].set(title=\"(H) Mitochondrial nodes\", xlabel=\"Glucose (X)\")\n",
    "    ax[3, 3].plot(glc5, deg)\n",
    "    ax[3, 3].set(title=\"(I) Average Node Degree\", xlabel=\"Glucose (X)\")\n",
    "\n",
    "    for a in ax\n",
    "        a.set_xticks(1:6)\n",
    "        a.grid()\n",
    "    end\n",
    "\n",
    "    plt.tight_layout()\n",
    "    return fig\n",
    "end"
   ]
  },
  {
   "cell_type": "code",
   "execution_count": null,
   "id": "7ca21872",
   "metadata": {
    "execution": {
     "iopub.execute_input": "2022-10-06T20:44:13.429000Z",
     "iopub.status.busy": "2022-10-06T20:44:13.429000Z",
     "iopub.status.idle": "2022-10-06T20:44:26.150000Z",
     "shell.execute_reply": "2022-10-06T20:44:26.150000Z"
    }
   },
   "outputs": [],
   "source": [
    "fig2 = plot_fig2(glc, sols);"
   ]
  },
  {
   "cell_type": "code",
   "execution_count": null,
   "id": "07dcc3f6-389f-4b74-8e90-651db04b6967",
   "metadata": {
    "execution": {
     "iopub.execute_input": "2022-10-06T20:44:26.152000Z",
     "iopub.status.busy": "2022-10-06T20:44:26.152000Z",
     "iopub.status.idle": "2022-10-06T20:44:26.175000Z",
     "shell.execute_reply": "2022-10-06T20:44:26.175000Z"
    }
   },
   "outputs": [],
   "source": [
    "# Uncomment if pdf file is required\n",
    "# fig2.savefig(\"Fig2.tif\", dpi=300, format=\"tiff\", pil_kwargs=Dict(\"compression\" => \"tiff_lzw\"))"
   ]
  },
  {
   "cell_type": "markdown",
   "id": "3d8ebf7a",
   "metadata": {},
   "source": [
    "## Figure 3"
   ]
  },
  {
   "cell_type": "code",
   "execution_count": null,
   "id": "c1a9d06d",
   "metadata": {
    "execution": {
     "iopub.execute_input": "2022-10-06T20:44:26.178000Z",
     "iopub.status.busy": "2022-10-06T20:44:26.178000Z",
     "iopub.status.idle": "2022-10-06T20:44:27.566000Z",
     "shell.execute_reply": "2022-10-06T20:44:27.566000Z"
    }
   },
   "outputs": [],
   "source": [
    "using DifferentialEquations\n",
    "using ModelingToolkit\n",
    "using MitochondrialDynamics\n",
    "using MitochondrialDynamics: GlcConst, G3P, Pyr, NADH_c, NADH_m, ATP_c, ADP_c, AMP_c, Ca_m, Ca_c, x, ΔΨm, degavg, VmaxF1, VmaxETC, pHleak\n",
    "import MitochondrialDynamics.Utils: second, μM, mV, mM, Hz\n",
    "import PyPlot as plt\n",
    "rcParams = plt.PyDict(plt.matplotlib.\"rcParams\")\n",
    "rcParams[\"font.size\"] = 14\n",
    "rcParams[\"font.sans-serif\"] = \"Arial\"\n",
    "rcParams[\"font.family\"] = \"sans-serif\""
   ]
  },
  {
   "cell_type": "code",
   "execution_count": null,
   "id": "8922f06c",
   "metadata": {
    "execution": {
     "iopub.execute_input": "2022-10-06T20:44:27.621000Z",
     "iopub.status.busy": "2022-10-06T20:44:27.621000Z",
     "iopub.status.idle": "2022-10-06T20:44:27.898000Z",
     "shell.execute_reply": "2022-10-06T20:44:27.898000Z"
    }
   },
   "outputs": [],
   "source": [
    "@named sys = make_model()\n",
    "prob = SteadyStateProblem(sys, [])\n",
    "\n",
    "pidx = Dict(k => i for (i, k) in enumerate(parameters(sys)))\n",
    "idxGlc = pidx[GlcConst]\n",
    "\n",
    "function solve_fig3(glc, r, protein, prob, alg=DynamicSS(Rodas5()))\n",
    "    idx = pidx[protein]\n",
    "    p = copy(prob.p)\n",
    "    p[idxGlc] = glc\n",
    "    p[idx] = prob.p[idx] * r\n",
    "    return solve(remake(prob, p=p), alg)\n",
    "end"
   ]
  },
  {
   "cell_type": "code",
   "execution_count": null,
   "id": "bae7fef6",
   "metadata": {
    "execution": {
     "iopub.execute_input": "2022-10-06T20:44:27.900000Z",
     "iopub.status.busy": "2022-10-06T20:44:27.900000Z",
     "iopub.status.idle": "2022-10-06T20:44:33.144000Z",
     "shell.execute_reply": "2022-10-06T20:44:33.144000Z"
    }
   },
   "outputs": [],
   "source": [
    "rGlc1 = LinRange(3.0, 30.0, 50)\n",
    "rGlc2 = LinRange(4.0, 30.0, 50)\n",
    "rF1 = LinRange(0.1, 2.0, 50)\n",
    "rETC = LinRange(0.1, 2.0, 50)\n",
    "rHL = LinRange(0.1, 5.0, 50)\n",
    "\n",
    "uInf_f1 = [solve_fig3(glc, r, VmaxF1, prob) for r in rF1, glc in rGlc1]\n",
    "uInf_etc = [solve_fig3(glc, r, VmaxETC, prob) for r in rETC, glc in rGlc1]\n",
    "uInf_hl = [solve_fig3(glc, r, pHleak, prob) for r in rHL, glc in rGlc2]"
   ]
  },
  {
   "cell_type": "code",
   "execution_count": null,
   "id": "19467b48",
   "metadata": {
    "execution": {
     "iopub.execute_input": "2022-10-06T20:44:33.146000Z",
     "iopub.status.busy": "2022-10-06T20:44:33.146000Z",
     "iopub.status.idle": "2022-10-06T20:44:33.248000Z",
     "shell.execute_reply": "2022-10-06T20:44:33.248000Z"
    }
   },
   "outputs": [],
   "source": [
    "function plot_fig3(;\n",
    "    figsize=(13, 10),\n",
    "    levels=40,\n",
    "    cmaps=[\"bwr\", \"magma\", \"viridis\"],\n",
    "    ylabels=[\n",
    "        \"ATP synthase capacity (X)\",\n",
    "        \"ETC capacity (X)\",\n",
    "        \"Proton leak rate (X)\"\n",
    "    ],\n",
    "    cbarlabels=[\"<k>\", \"ΔΨ\", \"ATP/ADP\"],\n",
    "    xxs=(rGlc1, rGlc1, rGlc2),\n",
    "    xscale=5.0,\n",
    "    yys=(rF1, rETC, rHL),\n",
    "    zs=(uInf_f1, uInf_etc, uInf_hl),\n",
    "    extremes=((1.0, 2.0), (80.0, 180.0), (0.0, 60.0))\n",
    ")\n",
    "    # mapping functions\n",
    "    fs = (s -> s[degavg], s -> s[ΔΨm] * 1000, s -> s[ATP_c] / s[ADP_c])\n",
    "\n",
    "    fig, axes = plt.subplots(3, 3; figsize)\n",
    "\n",
    "    for col in 1:3\n",
    "        f = fs[col]\n",
    "        cm = cmaps[col]\n",
    "        cbl = cbarlabels[col]\n",
    "        vmin, vmax = extremes[col]\n",
    "\n",
    "        # lvls = LinRange(vmin, vmax, levels)\n",
    "        for row in 1:3\n",
    "            xx = xxs[row] ./ xscale\n",
    "            yy = yys[row]\n",
    "            z = zs[row]\n",
    "            ax = axes[row, col]\n",
    "\n",
    "            ylabel = ylabels[row]\n",
    "\n",
    "            mesh = ax.pcolormesh(\n",
    "                xx, yy, map(f, z);\n",
    "                shading=\"gouraud\",\n",
    "                rasterized=true,\n",
    "                # levels=levels,\n",
    "                cmap=cm, \n",
    "                vmin=vmin, \n",
    "                vmax=vmax\n",
    "            )\n",
    "\n",
    "            ax.set(ylabel=ylabel, xlabel=\"Glucose (X)\")\n",
    "\n",
    "            # Arrow annotation\n",
    "            # https://matplotlib.org/stable/tutorials/text/annotations.html#plotting-guide-annotation\n",
    "            if row == 1\n",
    "                ax.text(5.5, 1, \"Oligomycin\", ha=\"center\", va=\"center\", rotation=-90, size=16, bbox=Dict(\"boxstyle\" => \"rarrow\", \"fc\" => \"w\", \"ec\" => \"k\", \"lw\" => 2, \"alpha\" => 0.5))\n",
    "            elseif row == 2\n",
    "                ax.text(5.5, 1, \"Rotenone\", ha=\"center\", va=\"center\", rotation=-90, size=16, bbox=Dict(\"boxstyle\" => \"rarrow\", \"fc\" => \"w\", \"ec\" => \"k\", \"lw\" => 2, \"alpha\" => 0.5))\n",
    "            elseif row == 3\n",
    "                ax.text(5.5, 2.5, \"FCCP\", ha=\"center\", va=\"center\", rotation=90, size=16, bbox=Dict(\"boxstyle\" => \"rarrow\", \"fc\" => \"w\", \"ec\" => \"k\", \"lw\" => 2, \"alpha\" => 0.5))\n",
    "            end\n",
    "            cbar = fig.colorbar(mesh, ax=ax)\n",
    "            cbar.ax.set_title(cbl)\n",
    "        end\n",
    "    end\n",
    "\n",
    "    plt.tight_layout()\n",
    "    return fig\n",
    "end"
   ]
  },
  {
   "cell_type": "code",
   "execution_count": null,
   "id": "31c41903",
   "metadata": {
    "execution": {
     "iopub.execute_input": "2022-10-06T20:44:33.251000Z",
     "iopub.status.busy": "2022-10-06T20:44:33.250000Z",
     "iopub.status.idle": "2022-10-06T20:44:36.105000Z",
     "shell.execute_reply": "2022-10-06T20:44:36.105000Z"
    }
   },
   "outputs": [],
   "source": [
    "fig3 = plot_fig3();"
   ]
  },
  {
   "cell_type": "code",
   "execution_count": null,
   "id": "5a868a9e",
   "metadata": {
    "execution": {
     "iopub.execute_input": "2022-10-06T20:44:36.109000Z",
     "iopub.status.busy": "2022-10-06T20:44:36.109000Z",
     "iopub.status.idle": "2022-10-06T20:44:36.132000Z",
     "shell.execute_reply": "2022-10-06T20:44:36.132000Z"
    }
   },
   "outputs": [],
   "source": [
    "# Uncomment to generate the pdf file \n",
    "# fig3.savefig(\"Fig3.tif\", dpi=300, format=\"tiff\", pil_kwargs=Dict(\"compression\" => \"tiff_lzw\"))"
   ]
  }
 ],
 "metadata": {
  "kernelspec": {
   "display_name": "Julia 1.8.3",
   "language": "julia",
   "name": "julia-1.8"
  },
  "language_info": {
   "file_extension": ".jl",
   "mimetype": "application/julia",
   "name": "julia",
   "version": "1.8.3"
  }
 },
 "nbformat": 4,
 "nbformat_minor": 5
}
