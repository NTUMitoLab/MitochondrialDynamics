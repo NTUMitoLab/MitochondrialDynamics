{
 "cells": [
  {
   "cell_type": "markdown",
   "id": "dc84d502-d6c8-42b1-8b78-1e1379cfddde",
   "metadata": {},
   "source": [
    "# Figure 3"
   ]
  },
  {
   "cell_type": "code",
   "execution_count": null,
   "id": "26e76d62-662f-453b-82b4-6b4108eec387",
   "metadata": {
    "execution": {
     "iopub.execute_input": "2022-02-28T09:45:12.309000Z",
     "iopub.status.busy": "2022-02-28T09:45:11.571000Z",
     "iopub.status.idle": "2022-02-28T09:45:35.798000Z",
     "shell.execute_reply": "2022-02-28T09:45:35.753000Z"
    }
   },
   "outputs": [],
   "source": [
    "using DifferentialEquations\n",
    "using LabelledArrays\n",
    "using Parameters\n",
    "using Setfield\n",
    "using MitochondrialDynamics\n",
    "import MitochondrialDynamics.Utils: second, μM, mV, mM, Hz\n",
    "\n",
    "import PyPlot as plt\n",
    "rcParams = plt.PyDict(plt.matplotlib.\"rcParams\")\n",
    "rcParams[\"font.size\"] = 14\n",
    "rcParams[\"font.sans-serif\"] = \"Arial\"\n",
    "rcParams[\"font.family\"] = \"sans-serif\""
   ]
  },
  {
   "cell_type": "code",
   "execution_count": null,
   "id": "275aa55c-905f-46c7-a851-bf4a021388f9",
   "metadata": {
    "execution": {
     "iopub.execute_input": "2022-02-28T09:45:36.070000Z",
     "iopub.status.busy": "2022-02-28T09:45:35.801000Z",
     "iopub.status.idle": "2022-02-28T09:45:40.700000Z",
     "shell.execute_reply": "2022-02-28T09:45:40.698000Z"
    }
   },
   "outputs": [],
   "source": [
    "u0 = LVector(g3p = 2.8μM,\n",
    "             pyr = 8.5μM,\n",
    "             nadh_c = 1μM,\n",
    "             nadh_m = 60μM,\n",
    "             atp_c = 4000μM,\n",
    "             adp_c = 500μM,\n",
    "             ca_m = 0.250μM,\n",
    "             dpsi = 100mV,\n",
    "             x2=0.2, x3=0.05)\n",
    "\n",
    "param0 = MitoDynNode()\n",
    "ssprob = SteadyStateProblem(model!, u0, param0)"
   ]
  },
  {
   "cell_type": "code",
   "execution_count": null,
   "id": "79b7504a-e565-4545-853b-33c36160dba0",
   "metadata": {
    "execution": {
     "iopub.execute_input": "2022-02-28T09:45:40.702000Z",
     "iopub.status.busy": "2022-02-28T09:45:40.701000Z",
     "iopub.status.idle": "2022-02-28T09:45:42.432000Z",
     "shell.execute_reply": "2022-02-28T09:45:42.431000Z"
    }
   },
   "outputs": [],
   "source": [
    "function _solve(glc, p::MitoDynNode; tspan=3000.0)\n",
    "    ssalg= DynamicSS(Rodas5(), tspan=tspan)\n",
    "    solve(SteadyStateProblem(model!, u0, setglc(p, glc)), ssalg)\n",
    "end\n",
    "\n",
    "function solve_f1(glc, r, param0)\n",
    "    p = @set param0.f1fo.VMAX *= r\n",
    "    _solve(glc, p)\n",
    "end\n",
    "\n",
    "function solve_etc(glc, r, param0)\n",
    "    p = @set param0.etc.VMAX *= r\n",
    "    _solve(glc, p)\n",
    "end\n",
    "\n",
    "function solve_hl(glc, r, param0)\n",
    "    p = @set param0.hleak.P_H *= r\n",
    "    _solve(glc, p)\n",
    "end"
   ]
  },
  {
   "cell_type": "code",
   "execution_count": null,
   "id": "1cbeb14e-287b-4372-a2ff-cbcdcd261612",
   "metadata": {
    "execution": {
     "iopub.execute_input": "2022-02-28T09:45:42.435000Z",
     "iopub.status.busy": "2022-02-28T09:45:42.434000Z",
     "iopub.status.idle": "2022-02-28T09:45:44.120000Z",
     "shell.execute_reply": "2022-02-28T09:45:44.119000Z"
    }
   },
   "outputs": [],
   "source": [
    "rGlc1 = LinRange(3.0, 30.0, 50)\n",
    "rGlc2 = LinRange(4.0, 30.0, 50)\n",
    "rF1 = LinRange(0.1, 2.0, 50)\n",
    "rETC = LinRange(0.1, 2.0, 50)\n",
    "rHL = LinRange(0.1, 5.0, 50)"
   ]
  },
  {
   "cell_type": "code",
   "execution_count": null,
   "id": "f96537f4-c88d-4ddb-9d65-60400653e3d9",
   "metadata": {
    "execution": {
     "iopub.execute_input": "2022-02-28T09:45:44.124000Z",
     "iopub.status.busy": "2022-02-28T09:45:44.122000Z",
     "iopub.status.idle": "2022-02-28T09:46:51.225000Z",
     "shell.execute_reply": "2022-02-28T09:46:51.225000Z"
    }
   },
   "outputs": [],
   "source": [
    "uInf_f1 = [solve_f1(glc, r, param0) for r in rF1, glc in rGlc1]\n",
    "uInf_etc = [solve_etc(glc, r, param0) for r in rETC, glc in rGlc1]\n",
    "uInf_hl = [solve_hl(glc, r, param0) for r in rHL, glc in rGlc2]"
   ]
  },
  {
   "cell_type": "code",
   "execution_count": null,
   "id": "a502cb7a-51e2-4046-8c5a-b09b4d433edf",
   "metadata": {
    "execution": {
     "iopub.execute_input": "2022-02-28T09:46:51.228000Z",
     "iopub.status.busy": "2022-02-28T09:46:51.228000Z",
     "iopub.status.idle": "2022-02-28T09:46:51.341000Z",
     "shell.execute_reply": "2022-02-28T09:46:51.341000Z"
    }
   },
   "outputs": [],
   "source": [
    "function plot_fig3(; figsize=(13,10),\n",
    "                     levels = 40,\n",
    "                     cmaps = [\"bwr\", \"magma\", \"viridis\"],\n",
    "                     ylabels = [\"ATP synthase capacity (X)\",\n",
    "                                \"ETC capacity (X)\",\n",
    "                                \"Proton leak rate (X)\"],\n",
    "                     cbarlabels = [\"<k>\",\n",
    "\t\t\t                       \"ΔΨ\",\n",
    "\t\t                           \"ATP/ADP\"],\n",
    "                     xxs = (rGlc1, rGlc1, rGlc2),\n",
    "                     xscale = 5.0,\n",
    "                     yys = (rF1, rETC, rHL),\n",
    "                     zs  = (uInf_f1, uInf_etc, uInf_hl),\n",
    "                     extremes=((1.0, 2.0),(80.0, 180.0),(0.0, 60.0)))\n",
    "\n",
    "\n",
    "    # mapping functions\n",
    "    fs = (s->avgdeg(s.u), s->s.u.dpsi*1000, s->s.u[:atp_c] / s.u[:adp_c])\n",
    "\n",
    "    fig, axes = plt.subplots(3, 3, figsize=figsize)\n",
    "\n",
    "    for col in 1:3\n",
    "        f = fs[col]\n",
    "        cm = cmaps[col]\n",
    "        cbl = cbarlabels[col]\n",
    "        vmin, vmax = extremes[col]\n",
    "\n",
    "        # lvls = LinRange(vmin, vmax, levels)\n",
    "        for row in 1:3\n",
    "            xx = xxs[row] ./ xscale\n",
    "            yy = yys[row]\n",
    "            z  = zs[row]\n",
    "            ax = axes[row, col]\n",
    "\n",
    "            ylabel = ylabels[row]\n",
    "\n",
    "            mesh = ax.pcolormesh(xx, yy, map(f, z),\n",
    "                shading=\"gouraud\", rasterized=true,\n",
    "                # levels=levels,\n",
    "                cmap=cm, vmin=vmin, vmax=vmax)\n",
    "\n",
    "            ax.set(ylabel=ylabel, xlabel=\"Glucose (X)\")\n",
    "\n",
    "            # Arrow annotation\n",
    "            # https://matplotlib.org/stable/tutorials/text/annotations.html#plotting-guide-annotation\n",
    "            if row == 1\n",
    "                ax.text(5.5, 1, \"Oligomycin\", ha=\"center\", va=\"center\", rotation=-90, size=16, bbox=Dict(\"boxstyle\"=>\"rarrow\", \"fc\"=>\"w\", \"ec\"=>\"k\", \"lw\"=>2, \"alpha\"=>0.5))\n",
    "            elseif row == 2\n",
    "                ax.text(5.5, 1, \"Rotenone\", ha=\"center\", va=\"center\", rotation=-90, size=16, bbox=Dict(\"boxstyle\"=>\"rarrow\", \"fc\"=>\"w\", \"ec\"=>\"k\", \"lw\"=>2, \"alpha\"=>0.5))\n",
    "            elseif row == 3\n",
    "                ax.text(5.5, 2.5, \"FCCP\", ha=\"center\", va=\"center\", rotation=90, size=16, bbox=Dict(\"boxstyle\"=>\"rarrow\", \"fc\"=>\"w\", \"ec\"=>\"k\", \"lw\"=>2, \"alpha\"=>0.5))\n",
    "            end\n",
    "            cbar = fig.colorbar(mesh, ax=ax)\n",
    "            cbar.ax.set_title(cbl)\n",
    "        end\n",
    "    end\n",
    "\n",
    "    plt.tight_layout()\n",
    "\n",
    "    return fig\n",
    "end"
   ]
  },
  {
   "cell_type": "code",
   "execution_count": null,
   "id": "faecec59-3ade-4c29-983c-f04051b370c2",
   "metadata": {
    "execution": {
     "iopub.execute_input": "2022-02-28T09:46:51.344000Z",
     "iopub.status.busy": "2022-02-28T09:46:51.344000Z",
     "iopub.status.idle": "2022-02-28T09:46:57.337000Z",
     "shell.execute_reply": "2022-02-28T09:46:57.337000Z"
    }
   },
   "outputs": [],
   "source": [
    "fig3 = plot_fig3();"
   ]
  },
  {
   "cell_type": "code",
   "execution_count": null,
   "id": "5ca1f1ee-601d-4973-8051-3cef9b80ddf6",
   "metadata": {
    "execution": {
     "iopub.execute_input": "2022-02-28T09:46:57.338000Z",
     "iopub.status.busy": "2022-02-28T09:46:57.338000Z",
     "iopub.status.idle": "2022-02-28T09:46:57.339000Z",
     "shell.execute_reply": "2022-02-28T09:46:57.339000Z"
    }
   },
   "outputs": [],
   "source": [
    "# Uncomment to generate the pdf file \n",
    "# fig3.savefig(\"Fig3.pdf\")"
   ]
  }
 ],
 "metadata": {
  "kernelspec": {
   "display_name": "Julia 1.7.2",
   "language": "julia",
   "name": "julia-1.7"
  },
  "language_info": {
   "file_extension": ".jl",
   "mimetype": "application/julia",
   "name": "julia",
   "version": "1.7.2"
  }
 },
 "nbformat": 4,
 "nbformat_minor": 5
}
