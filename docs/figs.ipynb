{
 "cells": [
  {
   "cell_type": "markdown",
   "id": "93808e79-d6a2-45f5-84c0-33b4f1b7542f",
   "metadata": {},
   "source": [
    "# Supplmentary figures\n",
    "\n",
    "Supplementary figure 1: Response to elevated glucose concentrations in steps."
   ]
  },
  {
   "cell_type": "code",
   "execution_count": null,
   "id": "3de58f34-29c2-4df1-b4bc-54bf081430c2",
   "metadata": {
    "execution": {
     "iopub.execute_input": "2022-02-28T09:45:12.309000Z",
     "iopub.status.busy": "2022-02-28T09:45:11.571000Z",
     "iopub.status.idle": "2022-02-28T09:45:36.092000Z",
     "shell.execute_reply": "2022-02-28T09:45:36.049000Z"
    }
   },
   "outputs": [],
   "source": [
    "using DifferentialEquations\n",
    "using ModelingToolkit\n",
    "using MitochondrialDynamics\n",
    "using MitochondrialDynamics: GlcConst, VmaxPDH, pHleak, VmaxF1, VmaxETC, J_ANT, J_O2\n",
    "using MitochondrialDynamics: G3P, Pyr, NADH_c, NADH_m, Ca_c, Ca_m, ΔΨm, ATP_c, ADP_c, degavg, t\n",
    "using MitochondrialDynamics.Utils: second, μM, mV, mM, Hz, minute\n",
    "\n",
    "import PyPlot as plt\n",
    "rcParams = plt.PyDict(plt.matplotlib.\"rcParams\")\n",
    "rcParams[\"font.size\"] = 14\n",
    "# rcParams[\"font.sans-serif\"] = \"Arial\"\n",
    "# rcParams[\"font.family\"] = \"sans-serif\""
   ]
  },
  {
   "cell_type": "code",
   "execution_count": null,
   "id": "73e430d4",
   "metadata": {},
   "outputs": [],
   "source": [
    "function glc_step(t)\n",
    "    return 5.0mM * (1 + (t >= 1000.0second) + (t >= 2000.0second))\n",
    "end\n",
    "\n",
    "tend = 3000.0second\n",
    "@named sys = make_model(; glcrhs=glc_step(t))\n",
    "prob = ODEProblem(sys, [], tend)\n",
    "sol = solve(prob, tstops=[1000.0second, 2000.0second]);"
   ]
  },
  {
   "cell_type": "code",
   "execution_count": null,
   "id": "77f004ea",
   "metadata": {},
   "outputs": [],
   "source": [
    "function plot_figs1(\n",
    "    sol;\n",
    "    figsize=(10, 10),\n",
    "    tspan=(0.0, 3000.0second),\n",
    "    density::Int=101,\n",
    "    tight=true\n",
    ")\n",
    "    ts = LinRange(tspan[1], tspan[2], density)\n",
    "    g3p = sol.(ts, idxs=G3P) .* 1000\n",
    "    pyr = sol.(ts, idxs=Pyr) .* 1000\n",
    "    nadh_c = sol.(ts, idxs=NADH_c) .* 1000\n",
    "    nadh_m = sol.(ts, idxs=NADH_m) .* 1000\n",
    "    ca_c = sol.(ts, idxs=Ca_c) .* 1000\n",
    "    ca_m = sol.(ts, idxs=Ca_m) .* 1000\n",
    "    atp_c = sol.(ts, idxs=ATP_c) .* 1000\n",
    "    adp_c = sol.(ts, idxs=ADP_c) .* 1000\n",
    "    amp_c = sol.(ts, idxs=AMP_c) .* 1000\n",
    "    dpsi = sol.(ts, idxs=ΔΨm) .* 1000\n",
    "    k = sol.(ts, idxs=degavg)\n",
    "    x1 = sol.(ts, idxs=x[1])\n",
    "    x2 = sol.(ts, idxs=x[2])\n",
    "    x3 = sol.(ts, idxs=x[3])\n",
    "\n",
    "    fig, ax = plt.subplots(3, 3; figsize)\n",
    "\n",
    "    ax[1, 1].plot(ts, g3p)\n",
    "    ax[1, 1].set(title=\"(A) G3P (μM)\", ylim=(0.0, 8.0))\n",
    "\n",
    "    ax[1, 2].plot(ts, pyr)\n",
    "    ax[1, 2].set(title=\"(B) Pyruvate (μM)\", ylim=(0.0, 80.0))\n",
    "\n",
    "    ax[1, 3].plot(ts, ca_c, label=\"cyto\")\n",
    "    ax[1, 3].plot(ts, ca_m, label=\"mito\")\n",
    "    ax[1, 3].set(title=\"(C) Calcium (μM)\")\n",
    "    ax[1, 3].legend()\n",
    "\n",
    "    ax[2, 1].plot(ts, nadh_c, label=\"cyto\")\n",
    "    ax[2, 1].plot(ts, nadh_m, label=\"mito\")\n",
    "    ax[2, 1].set(title=\"(D) NADH (μM)\")\n",
    "    ax[2, 1].legend()\n",
    "\n",
    "    ax[2, 2].plot(ts, atp_c, label=\"ATP\")\n",
    "    ax[2, 2].plot(ts, adp_c, label=\"ADP\")\n",
    "    ax[2, 2].plot(ts, amp_c, label=\"AMP\")\n",
    "    ax[2, 2].set(title=\"(E) Adenylates (μM)\")\n",
    "    ax[2, 2].legend()\n",
    "\n",
    "    ax[2, 3].plot(ts, atp_c ./ adp_c)\n",
    "    ax[2, 3].set(title=\"(F) ATP:ADP\", ylim=(0, 40))\n",
    "\n",
    "    ax[3, 1].plot(ts, dpsi)\n",
    "    ax[3, 1].set(title=\"(G) ΔΨ (mV)\", ylim=(80, 150), xlabel=\"Time (seconds)\")\n",
    "\n",
    "    ax[3, 2].plot(ts, x1, label=\"X1\")\n",
    "    ax[3, 2].plot(ts, x2, label=\"X2\")\n",
    "    ax[3, 2].plot(ts, x3, label=\"X3\")\n",
    "    ax[3, 2].set(title=\"(H) Mitochondrial nodes\", xlabel=\"Time (seconds)\")\n",
    "    ax[3, 2].legend()\n",
    "\n",
    "    ax[3, 3].plot(ts, k)\n",
    "    ax[3, 3].set(title=\"(I) Average Node Degree\", xlabel=\"Time (seconds)\")\n",
    "\n",
    "    for a in ax\n",
    "        a.grid()\n",
    "    end\n",
    "\n",
    "    fig.set_tight_layout(tight)\n",
    "    return fig\n",
    "end"
   ]
  },
  {
   "cell_type": "code",
   "execution_count": null,
   "id": "82f85c0f",
   "metadata": {},
   "outputs": [],
   "source": [
    "figs1 = plot_figs1(sol);"
   ]
  },
  {
   "cell_type": "code",
   "execution_count": null,
   "id": "4a98228f-6ed7-41f5-b654-a4b62a5a6c4e",
   "metadata": {
    "execution": {
     "iopub.execute_input": "2022-02-28T09:46:28.114000Z",
     "iopub.status.busy": "2022-02-28T09:46:28.113000Z",
     "iopub.status.idle": "2022-02-28T09:46:28.117000Z",
     "shell.execute_reply": "2022-02-28T09:46:28.116000Z"
    }
   },
   "outputs": [],
   "source": [
    "# Uncomment if pdf file is required\n",
    "# figs1.savefig(\"FigS1.tif\", dpi=300, format=\"tiff\", pil_kwargs=Dict(\"compression\" => \"tiff_lzw\"))"
   ]
  },
  {
   "cell_type": "markdown",
   "id": "1ad6d5e3",
   "metadata": {},
   "source": [
    "## Figure S2 : DM step response\n",
    "\n",
    "Response to adding glucose in healthy and DM cells.\n",
    "\n",
    "In the diabetic parameter set. We adjusted\n",
    "\n",
    "- PDH capacity\n",
    "- ETC capacity\n",
    "- F1 synthase capacity\n",
    "- Proton leak rate"
   ]
  },
  {
   "cell_type": "code",
   "execution_count": null,
   "id": "674a6a35",
   "metadata": {},
   "outputs": [],
   "source": [
    "pidx = Dict(k => i for (i, k) in enumerate(parameters(sys)))\n",
    "\n",
    "function make_dm_prob(prob; rPDH=0.5, rETC=0.75, rHL=1.4, rF1=0.5)\n",
    "    p = copy(prob.p)\n",
    "    idxVmaxPDH = pidx[VmaxPDH]\n",
    "    idxpHleak = pidx[pHleak]\n",
    "    idxVmaxF1 = pidx[VmaxF1]\n",
    "    idxVmaxETC = pidx[VmaxETC]\n",
    "    p[idxVmaxPDH] *= rPDH\n",
    "    p[idxpHleak] *= rHL\n",
    "    p[idxVmaxF1] *= rF1\n",
    "    p[idxVmaxETC] *= rETC\n",
    "    return remake(prob, p=p)\n",
    "end"
   ]
  },
  {
   "cell_type": "code",
   "execution_count": null,
   "id": "e6e74400",
   "metadata": {},
   "outputs": [],
   "source": [
    "probDM = make_dm_prob(prob)\n",
    "solDM = solve(probDM, tstops=[20minute, 40minute])"
   ]
  },
  {
   "cell_type": "code",
   "execution_count": null,
   "id": "6c41e222",
   "metadata": {},
   "outputs": [],
   "source": [
    "function plot_figs2(sol, solDM;\n",
    "    tspan=(0.0, 60minute),\n",
    "    density=301,\n",
    "    figsize=(12, 12),\n",
    "    labels=[\"Baseline\", \"Diabetic\"],\n",
    "    tight=true\n",
    ")\n",
    "    ts = range(tspan[1], tspan[2], length=density)\n",
    "    tsm = ts ./ 60\n",
    "\n",
    "    g3p = sol.(ts, idxs=G3P) .* 1000\n",
    "    pyr = sol.(ts, idxs=Pyr) .* 1000\n",
    "    nadh_c = sol.(ts, idxs=NADH_c) .* 1000\n",
    "    nadh_m = sol.(ts, idxs=NADH_m) .* 1000\n",
    "    ca_c = sol.(ts, idxs=Ca_c) .* 1000\n",
    "    ca_m = sol.(ts, idxs=Ca_m) .* 1000\n",
    "    atp_c = sol.(ts, idxs=ATP_c) .* 1000\n",
    "    adp_c = sol.(ts, idxs=ADP_c) .* 1000\n",
    "    td = atp_c ./ adp_c\n",
    "    dpsi = sol.(ts, idxs=ΔΨm) .* 1000\n",
    "    k = sol.(ts, idxs=degavg)\n",
    "\n",
    "    g3pDM = solDM.(ts, idxs=G3P) .* 1000\n",
    "    pyrDM = solDM.(ts, idxs=Pyr) .* 1000\n",
    "    nadh_cDM = solDM.(ts, idxs=NADH_c) .* 1000\n",
    "    nadh_mDM = solDM.(ts, idxs=NADH_m) .* 1000\n",
    "    ca_cDM = solDM.(ts, idxs=Ca_c) .* 1000\n",
    "    ca_mDM = solDM.(ts, idxs=Ca_m) .* 1000\n",
    "    atp_cDM = solDM.(ts, idxs=ATP_c) .* 1000\n",
    "    adp_cDM = solDM.(ts, idxs=ADP_c) .* 1000\n",
    "    tdDM = atp_cDM ./ adp_cDM\n",
    "    dpsiDM = solDM.(ts, idxs=ΔΨm) .* 1000\n",
    "    kDM = solDM.(ts, idxs=degavg)\n",
    "\n",
    "    fig, ax = plt.subplots(3, 3; figsize)\n",
    "\n",
    "    ax[1, 1].plot(tsm, g3p, label=labels[1])\n",
    "    ax[1, 1].plot(tsm, g3pDM, label=labels[2])\n",
    "    ax[1, 1].set(ylabel=\"G3P (μM)\")\n",
    "    ax[1, 1].set_title(\"(A)\", loc=\"left\")\n",
    "\n",
    "    ax[1, 2].plot(tsm, pyr, label=labels[1])\n",
    "    ax[1, 2].plot(tsm, pyrDM, label=labels[2])\n",
    "    ax[1, 2].set(ylabel=\"Pyruvate (μM)\")\n",
    "    ax[1, 2].set_title(\"(B)\", loc=\"left\")\n",
    "\n",
    "    ax[1, 3].plot(tsm, nadh_c, label=labels[1])\n",
    "    ax[1, 3].plot(tsm, nadh_cDM, label=labels[2])\n",
    "    ax[1, 3].set(ylabel=\"Cytosolic NADH (μM)\")\n",
    "    ax[1, 3].set_title(\"(C)\", loc=\"left\")\n",
    "\n",
    "    ax[2, 1].plot(tsm, nadh_m, label=labels[1])\n",
    "    ax[2, 1].plot(tsm, nadh_mDM, label=labels[2])\n",
    "    ax[2, 1].set(ylabel=\"Mitochondrial NADH (μM)\")\n",
    "    ax[2, 1].set_title(\"(D)\", loc=\"left\")\n",
    "\n",
    "    ax[2, 2].plot(tsm, ca_c, label=labels[1])\n",
    "    ax[2, 2].plot(tsm, ca_cDM, label=labels[2])\n",
    "    ax[2, 2].set(ylabel=\"Cytosolic Calcium (μM)\")\n",
    "    ax[2, 2].set_title(\"(E)\", loc=\"left\")\n",
    "\n",
    "    ax[2, 3].plot(tsm, ca_m, label=labels[1])\n",
    "    ax[2, 3].plot(tsm, ca_mDM, label=labels[2])\n",
    "    ax[2, 3].set(ylabel=\"Mitochondrial Calcium (μM)\")\n",
    "    ax[2, 3].set_title(\"(F)\", loc=\"left\")\n",
    "\n",
    "    ax[3, 1].plot(tsm, td, label=labels[1])\n",
    "    ax[3, 1].plot(tsm, tdDM, label=labels[2])\n",
    "    ax[3, 1].set(ylabel=\"ATP:ADP\")\n",
    "    ax[3, 1].set_title(\"(G)\", loc=\"left\")\n",
    "\n",
    "    ax[3, 2].plot(tsm, dpsi, label=labels[1])\n",
    "    ax[3, 2].plot(tsm, dpsiDM, label=labels[2])\n",
    "    ax[3, 2].set(ylabel=\"ΔΨm (mV)\")\n",
    "    ax[3, 2].set_title(\"(H)\", loc=\"left\")\n",
    "\n",
    "    ax[3, 3].plot(tsm, k, label=labels[1])\n",
    "    ax[3, 3].plot(tsm, kDM, label=labels[2])\n",
    "    ax[3, 3].set(ylabel=\"Average Node Degree\")\n",
    "    ax[3, 3].set_title(\"(I)\", loc=\"left\")\n",
    "\n",
    "    for a in ax\n",
    "        a.grid()\n",
    "    end\n",
    "\n",
    "    fig.set_tight_layout(tight)\n",
    "    return fig\n",
    "end"
   ]
  },
  {
   "cell_type": "code",
   "execution_count": null,
   "id": "0261901e",
   "metadata": {},
   "outputs": [],
   "source": [
    "figs2 = plot_figs2(sol, solDM);"
   ]
  },
  {
   "cell_type": "code",
   "execution_count": null,
   "id": "38957d11",
   "metadata": {},
   "outputs": [],
   "source": [
    "# Uncomment if pdf file is required\n",
    "# figs2.savefig(\"FigS2.tif\", dpi=300, format=\"tiff\", pil_kwargs=Dict(\"compression\" => \"tiff_lzw\"))"
   ]
  },
  {
   "cell_type": "markdown",
   "id": "1f6e24c7",
   "metadata": {},
   "source": [
    "## Figure S3\n",
    "\n",
    "Changes in response to both glucose stimulation and chemical agents.\n",
    "\n",
    "Using the Glucose-Oligomycin-FCCP protocol."
   ]
  },
  {
   "cell_type": "code",
   "execution_count": null,
   "id": "0fa9c4e2",
   "metadata": {},
   "outputs": [],
   "source": [
    "add_glucose(t) = 5mM + 15mM * (t >= 20minute)\n",
    "add_oligomycin(t) = 1.0 - 0.95 * (t >= 40minute)\n",
    "add_rotenone(t) = 1.0 - 0.95 * (t >= 60minute)\n",
    "add_fccp(t) = 1.0 + 9.0 * (t >= 60minute)"
   ]
  },
  {
   "cell_type": "code",
   "execution_count": null,
   "id": "49a1ba77",
   "metadata": {},
   "outputs": [],
   "source": [
    "tend = 80minute\n",
    "\n",
    "@named syss3 = make_model(;\n",
    "    glcrhs=add_glucose(t),\n",
    "    rf1=add_oligomycin(t),\n",
    "    rhleak=add_fccp(t)\n",
    ")\n",
    "\n",
    "probs3 = ODEProblem(syss3, [], tend)\n",
    "probs3DM = make_dm_prob(probs3; rPDH=0.5, rETC=0.75, rHL=1.4, rF1=0.5)\n",
    "\n",
    "tstops = [20minute, 40minute, 60minute]\n",
    "\n",
    "sols3 = solve(probs3; tstops)\n",
    "solDMs3 = solve(probs3DM; tstops)\n",
    "\n",
    "figs3 = plot_figs2(sols3, solDMs3; tspan=(0.0, tend))"
   ]
  },
  {
   "cell_type": "code",
   "execution_count": null,
   "id": "7bd07e77",
   "metadata": {},
   "outputs": [],
   "source": [
    "# Uncomment if pdf file is required\n",
    "# figs3.savefig(\"FigS3.tif\", dpi=300, format=\"tiff\", pil_kwargs=Dict(\"compression\" => \"tiff_lzw\"))"
   ]
  },
  {
   "cell_type": "markdown",
   "id": "a80176c7",
   "metadata": {},
   "source": [
    "## Figure S4\n",
    "\n",
    "Oxygen consumption in response to both glucose stimulation and chemical agents."
   ]
  },
  {
   "cell_type": "code",
   "execution_count": null,
   "id": "d7dafa7e",
   "metadata": {},
   "outputs": [],
   "source": [
    "function plot_jo2(sol, solDM;\n",
    "    tspan=(0.0, 80minute),\n",
    "    labels=[\"Baseline\", \"Diabetic\"],\n",
    "    density=301,\n",
    "    figsize=(6, 6),\n",
    "    tight=true\n",
    ")\n",
    "    ts = range(tspan[1], tspan[2], length=density)\n",
    "    tsm = ts ./ 60\n",
    "\n",
    "    jo2 = sol.(ts, idxs=J_O2)\n",
    "    jo2DM = solDM.(ts, idxs=J_O2)\n",
    "\n",
    "    fig, ax = plt.subplots(; figsize)\n",
    "\n",
    "    ax.plot(tsm, jo2, label=labels[1])\n",
    "    ax.plot(tsm, jo2DM, label=labels[2])\n",
    "    ax.set(xlabel=\"Time (minute)\", ylabel=\"Rate (mM/s)\", title=\"Oxygen consumption rate\")\n",
    "\n",
    "    ax.grid()\n",
    "    fig.set_tight_layout(tight)\n",
    "    return fig\n",
    "end"
   ]
  },
  {
   "cell_type": "code",
   "execution_count": null,
   "id": "745cea68",
   "metadata": {},
   "outputs": [],
   "source": [
    "figs4 = plot_jo2(sols3, solDMs3);"
   ]
  },
  {
   "cell_type": "code",
   "execution_count": null,
   "id": "0c23029c",
   "metadata": {},
   "outputs": [],
   "source": [
    "# Uncomment if pdf file is required\n",
    "# figs4.savefig(\"FigS4.tif\", dpi=300, format=\"tiff\", pil_kwargs=Dict(\"compression\" => \"tiff_lzw\"))"
   ]
  },
  {
   "cell_type": "markdown",
   "id": "e2be8278",
   "metadata": {},
   "source": [
    "## Figure S5\n",
    "\n",
    "Baseline vs. Diabetic models using Glucose-Oligomycin-Rotenone protocol."
   ]
  },
  {
   "cell_type": "code",
   "execution_count": null,
   "id": "8bd88f5d",
   "metadata": {},
   "outputs": [],
   "source": [
    "@named sys2 = make_model(;\n",
    "    glcrhs = add_glucose(t),\n",
    "    rf1 = add_oligomycin(t),\n",
    "    retc = add_rotenone(t)\n",
    ")"
   ]
  },
  {
   "cell_type": "code",
   "execution_count": null,
   "id": "c72533e4",
   "metadata": {},
   "outputs": [],
   "source": [
    "sols5 = ODEProblem(sys2, [], tend) |> solve\n",
    "sols5DM = make_dm_prob(prob2; rPDH=0.5, rETC=0.75, rHL=1.4, rF1=0.5) |> solve"
   ]
  },
  {
   "cell_type": "code",
   "execution_count": null,
   "id": "0a939f33",
   "metadata": {},
   "outputs": [],
   "source": [
    "figs5 = plot_figs2(sols5, sols5DM; tspan=(0.0, tend));"
   ]
  },
  {
   "cell_type": "markdown",
   "id": "ad964aa7",
   "metadata": {},
   "source": [
    "## Figure S6\n",
    "\n",
    "Oxygen consumption of Baseline and Diabetic models using the protocol from Figure S5."
   ]
  },
  {
   "cell_type": "code",
   "execution_count": null,
   "id": "4fc0d2ba",
   "metadata": {},
   "outputs": [],
   "source": [
    "figs6 = plot_jo2(sols5, sols5DM);"
   ]
  }
 ],
 "metadata": {
  "kernelspec": {
   "display_name": "Julia 1.7.2",
   "language": "julia",
   "name": "julia-1.7"
  },
  "language_info": {
   "file_extension": ".jl",
   "mimetype": "application/julia",
   "name": "julia",
   "version": "1.7.2"
  }
 },
 "nbformat": 4,
 "nbformat_minor": 5
}
